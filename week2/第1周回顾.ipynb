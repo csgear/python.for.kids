{
 "cells": [
  {
   "cell_type": "markdown",
   "metadata": {},
   "source": [
    "### 第一周回顾作业\n",
    "\n",
    "* 4种变量类型\n",
    "* 6种运费符 （算术，逻辑，比较，赋值、位运算、成员运算）\n",
    "* 运算符的优先级表格\n",
    "\n",
    "![优先级](../images/ops.png)\n",
    "\n",
    "* 类型转换  \n",
    " * int(s), 把字符串s转换成整数\n",
    " * str(n), 把整数n转换成字符串\n",
    " * float(s), 把字符串转换成浮点数\n",
    "\n",
    "* print函数\n",
    " * 格式函数 print(\"{} = {} + {}\".format(3, 1, 2))"
   ]
  },
  {
   "cell_type": "code",
   "execution_count": null,
   "metadata": {},
   "outputs": [],
   "source": [
    "# 介绍python type()函数, 用来判断变量的类型\n",
    "a = 1\n",
    "\n",
    "# 打印变量a的类型，应该是<class 'int'>，代表整数\n",
    "print(type(a))\n",
    "\n",
    "b = 1.0\n",
    "# 打印变量b的类型，应该是<class 'float'>，代表浮点数\n",
    "print(type(b))\n",
    "\n",
    "# 打印变量c的类型，应该是<class 'str'>，代表字符串\n",
    "c = '1.0'\n",
    "print(type(c))"
   ]
  },
  {
   "cell_type": "code",
   "execution_count": null,
   "metadata": {},
   "outputs": [],
   "source": [
    "# 按照表格，先看下e的输出，再想想为什么\n",
    "\n",
    "e = not False and True or True\n",
    "print(e)\n",
    "\n",
    "e = not True and True or False\n",
    "print(e)\n",
    "\n",
    "e = False and (True or True)\n",
    "print(e)\n",
    "\n"
   ]
  },
  {
   "cell_type": "code",
   "execution_count": null,
   "metadata": {
    "collapsed": true
   },
   "outputs": [],
   "source": [
    "# 问题1 变量 a = (3 + 4 == 7) a的值是多少，a的类型是什么，为什么？看下上面的变量运算符号，和type函数\n",
    "\n",
    "\n",
    "# 问题2 变量e = (1 + 2) and (2 + 3)，a的值是多少，a的类型是什么，为什么？\n",
    "\n"
   ]
  },
  {
   "cell_type": "code",
   "execution_count": null,
   "metadata": {},
   "outputs": [],
   "source": [
    "\n",
    "# 类型转换，基础的类型转换\n",
    "\n",
    "# int() 函数可以把一个值转化成整数\n",
    "\n",
    "print(3.14, int(3.14))\n",
    "\n",
    "print(\"2345\", int(\"2345\"))  \n",
    "\n",
    "# 下面这行代码会报错\n",
    "print(int(\"23bottles\"))\n",
    "\n",
    "# 转小数的时候，要注意，python取整函数和其他计算机语言不同的地方\n",
    "print( int(53.785) )\n",
    "\n",
    "print( int(-53.785) )\n"
   ]
  },
  {
   "cell_type": "code",
   "execution_count": null,
   "metadata": {
    "collapsed": true
   },
   "outputs": [],
   "source": [
    "# 问题3，已知变量 pi = “3.1416”， 圆的半径 r = “2.0”， 计算 圆的area，使用类型转换函数\n",
    "\n",
    "pi = \"3.1416\"\n",
    "r = \"2.0\"\n",
    "\n",
    "# 需要调用float() 函数，把字符串转换成float变量再进行运算\n",
    "# 圆的面积公式是 S = PI * 半径的平方\n",
    "\n",
    "area = 这里是你的代码\n",
    "\n",
    "print(area)"
   ]
  },
  {
   "cell_type": "markdown",
   "metadata": {},
   "source": [
    "### print介绍\n",
    "\n",
    "* 网站上的介绍 https://pyformat.info/ "
   ]
  },
  {
   "cell_type": "code",
   "execution_count": null,
   "metadata": {},
   "outputs": [],
   "source": [
    "#print类型，请运行下面两行代码，对结果有部分了解，不用深入的了解\n",
    "\n",
    "# format() 函数中 {} 叫做占位符\n",
    "print(\"{0} = {1} + {2}\".format(3, 1, 2))\n",
    "\n",
    "# {:3d} 表示输出的宽度为3，右对齐\n",
    "for i in range(3,13):\n",
    "    print(\"{:3d} {:4d} {:5d}\".format(i, i*i, i*i*i))"
   ]
  },
  {
   "cell_type": "code",
   "execution_count": null,
   "metadata": {
    "collapsed": true
   },
   "outputs": [],
   "source": []
  }
 ],
 "metadata": {
  "kernelspec": {
   "display_name": "Python [conda env:tensorflow]",
   "language": "python",
   "name": "conda-env-tensorflow-py"
  },
  "language_info": {
   "codemirror_mode": {
    "name": "ipython",
    "version": 3
   },
   "file_extension": ".py",
   "mimetype": "text/x-python",
   "name": "python",
   "nbconvert_exporter": "python",
   "pygments_lexer": "ipython3",
   "version": "3.6.2"
  }
 },
 "nbformat": 4,
 "nbformat_minor": 2
}
