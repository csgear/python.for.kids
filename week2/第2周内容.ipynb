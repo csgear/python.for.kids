{
 "cells": [
  {
   "cell_type": "markdown",
   "metadata": {},
   "source": [
    "### range() 函数 介绍\n",
    "* range()函数可以用来创建整数序列\n",
    "* range(start, end, step) \n",
    "* range(n) 函数默认开始是0，长度为N"
   ]
  },
  {
   "cell_type": "code",
   "execution_count": null,
   "metadata": {},
   "outputs": [],
   "source": [
    "a = range(10)\n",
    "\n",
    "a = range(1,10)\n",
    "\n",
    "print(type(a))\n",
    "\n",
    "print(a)\n",
    "\n",
    "for i in a:\n",
    "    print(i, end=\" \")\n",
    "else:\n",
    "    print()\n",
    "\n",
    "\n",
    "#range() 函数的语法\n",
    "# range(5)\n",
    "# range(1,5)\n",
    "# range(1,5,2)\n"
   ]
  },
  {
   "cell_type": "code",
   "execution_count": null,
   "metadata": {},
   "outputs": [],
   "source": [
    "### \n",
    "\n",
    "### \n",
    "print(list(range(0, 19, 2)))\n",
    "print(list(range(0, 20, 2)))\n",
    "print(list(range(10, 0, -1)))"
   ]
  },
  {
   "cell_type": "markdown",
   "metadata": {},
   "source": [
    "#### 问题1，\n",
    "\n",
    "\n",
    "#### 问题2， 下面那个选项生成 2, 5, 8?\n",
    "\n",
    " * (A) range(2, 5, 8)\n",
    " * (B) range(2, 8, 3)\n",
    " * (C) range(2, 10, 3)\n",
    " * (D) range(8, 1, -3)\n",
    " \n",
    "\n",
    "#### 编程3， 写一个range()函数调用，生成 20, 15, 10, 5?\n"
   ]
  },
  {
   "cell_type": "code",
   "execution_count": null,
   "metadata": {},
   "outputs": [],
   "source": [
    "# range 只能用整数，譬如我要打印 0.1， 0.2，... 0.9 怎么办？\n",
    "\n",
    "# 方法1\n",
    "\n",
    "for i in range(1, 10):\n",
    "    print(i / 10, end= \" \")\n",
    "else:\n",
    "    print()"
   ]
  },
  {
   "cell_type": "code",
   "execution_count": null,
   "metadata": {},
   "outputs": [],
   "source": [
    "# 方法2, 使用第三方库\n",
    "\n",
    "import numpy as np \n",
    "\n",
    "for i in np.arange(0.1, 1.0, 0.1):\n",
    "    print(i, end = \" \")\n",
    "else:\n",
    "    print()"
   ]
  },
  {
   "cell_type": "code",
   "execution_count": null,
   "metadata": {
    "collapsed": true
   },
   "outputs": [],
   "source": [
    "# 方法3， 子定义range函数"
   ]
  },
  {
   "cell_type": "code",
   "execution_count": null,
   "metadata": {},
   "outputs": [],
   "source": [
    "def frange(start, stop, step):\n",
    "    r = start\n",
    "    while r < stop:\n",
    "        yield r\n",
    "        r += step\n",
    "    \n",
    "print(list(frange(0.0, 1.0, 0.1)))"
   ]
  },
  {
   "cell_type": "markdown",
   "metadata": {
    "collapsed": true
   },
   "source": [
    "### 条件语句\n",
    "\n",
    "```\n",
    "if 判断条件：\n",
    "    执行语句……\n",
    "else：\n",
    "    执行语句……\n",
    "```\n",
    "\n",
    "```\n",
    "if 判断条件1:\n",
    "    执行语句1……\n",
    "elif 判断条件2:\n",
    "    执行语句2……\n",
    "elif 判断条件3:\n",
    "    执行语句3……\n",
    "else:\n",
    "    执行语句4……\n",
    "```\n"
   ]
  },
  {
   "cell_type": "code",
   "execution_count": null,
   "metadata": {},
   "outputs": [],
   "source": [
    "# 判断 X, Y的大小， X > Y， X < Y 或者 X == Y\n",
    "\n",
    "x = 1.0\n",
    "y = 2.0\n",
    "\n",
    "if x < y:\n",
    "    print(\"x < y\")\n",
    "else:\n",
    "    if x > y:\n",
    "        print(\"x > y\")\n",
    "    else:\n",
    "        print(\"x == y\")"
   ]
  },
  {
   "cell_type": "markdown",
   "metadata": {
    "collapsed": true
   },
   "source": [
    "![](../images/flowchart_nested_conditional.png)"
   ]
  },
  {
   "cell_type": "code",
   "execution_count": null,
   "metadata": {},
   "outputs": [],
   "source": [
    "# 下面的代码是另外一种写法\n",
    "# 判断 X > Y， X < Y 或者 X == Y\n",
    "\n",
    "if x < y:\n",
    "    print(\"x < y\")\n",
    "elif x > y:\n",
    "    print(\"x > y\")\n",
    "else:\n",
    "    print(\"x == y\")"
   ]
  },
  {
   "cell_type": "markdown",
   "metadata": {},
   "source": [
    "![](../images/flowchart_chained_conditional.png)"
   ]
  },
  {
   "cell_type": "markdown",
   "metadata": {},
   "source": [
    "#### 问题1 ，如果 if x = 3, y = 5, and z = 2?，那么下面的语句打印什么\n",
    "\n",
    "```\n",
    "if x < y and x < z:\n",
    "    print(\"a\")\n",
    "elif y < x and y < z:\n",
    "    print(\"b\")\n",
    "else:\n",
    "    print(\"c\")\n",
    "```\n"
   ]
  },
  {
   "cell_type": "code",
   "execution_count": null,
   "metadata": {},
   "outputs": [],
   "source": [
    "\n",
    "# 条件语言也可以合并在一起写\n",
    "\n",
    "# 判断值是否在0~10之间\n",
    "num = 9\n",
    "if num >= 0 and num <= 10:    \n",
    "    print ('hello')\n",
    " \n",
    "\n",
    "# 判断值是否在小于0或大于10\n",
    "num = 10\n",
    "if num < 0 or num > 10:    \n",
    "    print('num 在0和10之间')\n",
    "else:\n",
    "    print('num不在0和10之间')"
   ]
  },
  {
   "cell_type": "markdown",
   "metadata": {},
   "source": [
    "### 循环有while和for in两种\n",
    "\n",
    "#### while语句\n",
    "\n",
    "```\n",
    "while 判断条件：\n",
    "    执行语句……\n",
    "```\n",
    "\n",
    "\n",
    "#### for语句\n",
    "\n",
    "```\n",
    "for iterating_var in sequence:\n",
    "   statements(s)\n",
    "```\n",
    "\n"
   ]
  },
  {
   "cell_type": "code",
   "execution_count": null,
   "metadata": {},
   "outputs": [],
   "source": [
    "\n",
    "count = 0\n",
    "while (count < 9):\n",
    "    print(count)\n",
    "    count = count + 1\n",
    " \n",
    "\n",
    "# 问题，这个时候，count等于多少？\n"
   ]
  },
  {
   "cell_type": "code",
   "execution_count": null,
   "metadata": {
    "collapsed": true
   },
   "outputs": [],
   "source": []
  },
  {
   "cell_type": "code",
   "execution_count": null,
   "metadata": {},
   "outputs": [],
   "source": [
    "# continue 和 break 用法\n",
    "\n",
    "# 下面这段代码是打印0，10之间的偶数\n",
    "i = 1\n",
    "while i < 10:   \n",
    "    i += 1\n",
    "    if i%2 > 0:     # 非双数时跳过输出\n",
    "        continue\n",
    "    print(i)         # 输出双数2、4、6、8、10\n",
    " \n",
    "\n",
    "# 下面是while语句条件的另外一种写法，用到了break语句\n",
    "\n",
    "i = 1\n",
    "while 1:            # 循环条件为1必定成立\n",
    "    print(i)         # 输出1~10\n",
    "    i += 1\n",
    "    if i > 10:     # 当i大于10时跳出循环\n",
    "        break\n",
    " "
   ]
  },
  {
   "cell_type": "code",
   "execution_count": null,
   "metadata": {},
   "outputs": [],
   "source": [
    "#编程1  利用while循环打印1到20之间的偶数\n",
    "\n",
    "# 方法1，从1到20，判断每个数字是否是偶然，如果是，就打印这个数字\n",
    "i = 1\n",
    "while(i <= 20):\n",
    "    if(i % 2 == 0):\n",
    "        print(i)\n",
    "    i = i + 1       # 千万要记住，i要加，否则会变成死循环\n",
    "\n",
    "\n",
    "# 利用for循环和range函数，打印1到20之间的奇数\n",
    "# 方法2，直接生成1，20直接的奇数，并打印\n",
    "\n",
    "for x in range(1, 21, 2):   # range 从1开始，每次+2, 保证x是奇数\n",
    "    print(x)"
   ]
  },
  {
   "cell_type": "code",
   "execution_count": null,
   "metadata": {},
   "outputs": [],
   "source": [
    "# 编程2，利用循环来计算1，1000的所有数字的和\n",
    "\n",
    "# 方法1， 利用while循环\n",
    "\n",
    "# 先设置结果为0\n",
    "# 设置循环计算器i=1开始\n",
    "# 将每个数字i加到结果中\n",
    "# 取下一个数字\n",
    "\n",
    "s = 0  \n",
    "i = 1    \n",
    "while(i <= 1000):\n",
    "    s = s + i   \n",
    "    i = i + 1  # 下一个数字是当前数字加1\n",
    "print(s)\n",
    "\n",
    "# 方法2，利用range函数，简化取数的逻辑\n",
    "\n",
    "s = 0  \n",
    "for i in range(1, 1001):\n",
    "    s = s + i\n",
    "print(s)"
   ]
  },
  {
   "cell_type": "markdown",
   "metadata": {},
   "source": [
    "#### 问题，计算1到1000中所有偶数的和\n",
    "\n",
    "#### 提示，可以利用上面的代码，在 s = s + i 的时候，判断下i是不是偶数\n",
    "\n",
    "\n"
   ]
  },
  {
   "cell_type": "code",
   "execution_count": null,
   "metadata": {
    "collapsed": true
   },
   "outputs": [],
   "source": []
  },
  {
   "cell_type": "code",
   "execution_count": null,
   "metadata": {},
   "outputs": [],
   "source": [
    "\n",
    "# 下面的代码用到了循环嵌套，因为时间不够，需要自学\n",
    "\n",
    "# 下面的代码是输出数字10到20之间的所有的素数\n",
    "\n",
    "\n",
    "for num in range(10,20):  # 迭代 10 到 20 之间的数字\n",
    "    # 判断num是否存在一个因数，这个因数不能是1或者num本身，同时要小于num\n",
    "    # 这样的数的就是从2，3，..., 一直到 num-1，\n",
    "    # 简写成 range(2,num)\n",
    "    for i in range(2, num): \n",
    "        if num % i == 0:      # 确定第一个因子\n",
    "            j = num / i       # 计算第二个因子\n",
    "            print('%d 等于 %d * %d' % (num,i,j))\n",
    "            break            # 跳出当前循环\n",
    "    else:                  # 循环的 else 部分\n",
    "        print(num, '是一个素数')\n",
    " "
   ]
  },
  {
   "cell_type": "code",
   "execution_count": null,
   "metadata": {
    "collapsed": true
   },
   "outputs": [],
   "source": []
  }
 ],
 "metadata": {
  "kernelspec": {
   "display_name": "Python [conda env:tensorflow]",
   "language": "python",
   "name": "conda-env-tensorflow-py"
  },
  "language_info": {
   "codemirror_mode": {
    "name": "ipython",
    "version": 3
   },
   "file_extension": ".py",
   "mimetype": "text/x-python",
   "name": "python",
   "nbconvert_exporter": "python",
   "pygments_lexer": "ipython3",
   "version": "3.6.2"
  }
 },
 "nbformat": 4,
 "nbformat_minor": 2
}
