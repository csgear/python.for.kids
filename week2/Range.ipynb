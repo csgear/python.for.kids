{
 "cells": [
  {
   "cell_type": "markdown",
   "metadata": {},
   "source": [
    "### range() 函数 介绍\n",
    "* range()函数可以用来创建整数序列\n",
    "* range(start, end, step) \n",
    "* range(n) 函数默认开始是0，长度为N\n"
   ]
  },
  {
   "cell_type": "code",
   "execution_count": 4,
   "metadata": {},
   "outputs": [
    {
     "name": "stdout",
     "output_type": "stream",
     "text": [
      "<class 'range'>\n",
      "range(1, 10)\n",
      "1 2 3 4 5 6 7 8 9 \n"
     ]
    }
   ],
   "source": [
    "\n",
    "a = range(10)\n",
    "\n",
    "a = range(1,10)\n",
    "\n",
    "print(type(a))\n",
    "\n",
    "print(a)\n",
    "\n",
    "for i in a:\n",
    "    print(i, end=\" \")\n",
    "else:\n",
    "    print()\n",
    "\n",
    "\n",
    "#range() 函数的语法\n",
    "# range(5)\n",
    "# range(1,5)\n",
    "# range(1,5,2)\n"
   ]
  },
  {
   "cell_type": "code",
   "execution_count": 1,
   "metadata": {},
   "outputs": [
    {
     "name": "stdout",
     "output_type": "stream",
     "text": [
      "[0, 2, 4, 6, 8, 10, 12, 14, 16, 18]\n",
      "[0, 2, 4, 6, 8, 10, 12, 14, 16, 18]\n",
      "[10, 9, 8, 7, 6, 5, 4, 3, 2, 1]\n"
     ]
    }
   ],
   "source": [
    "### \n",
    "\n",
    "### \n",
    "print(list(range(0, 19, 2)))\n",
    "print(list(range(0, 20, 2)))\n",
    "print(list(range(10, 0, -1)))"
   ]
  },
  {
   "cell_type": "markdown",
   "metadata": {},
   "source": [
    "#### 问题1，\n",
    "\n",
    "\n",
    "#### 问题2， 下面那个选项生成 2, 5, 8?\n",
    "\n",
    " * (A) range(2, 5, 8)\n",
    " * (B) range(2, 8, 3)\n",
    " * (C) range(2, 10, 3)\n",
    " * (D) range(8, 1, -3)\n",
    " \n",
    "\n",
    "#### 编程3， 写一个range()函数调用，生成 20, 15, 10, 5?\n"
   ]
  },
  {
   "cell_type": "code",
   "execution_count": 4,
   "metadata": {},
   "outputs": [
    {
     "name": "stdout",
     "output_type": "stream",
     "text": [
      "1 2 3 4 5 6 7 8 9 \n"
     ]
    }
   ],
   "source": []
  },
  {
   "cell_type": "code",
   "execution_count": 5,
   "metadata": {},
   "outputs": [
    {
     "name": "stdout",
     "output_type": "stream",
     "text": [
      "0.1 0.2 0.3 0.4 0.5 0.6 0.7 0.8 0.9 \n"
     ]
    }
   ],
   "source": [
    "# range 只能用整数，譬如我要打印 0.1， 0.2，... 0.9 怎么办？\n",
    "\n",
    "# 方法1\n",
    "\n",
    "for i in range(1, 10):\n",
    "    print(i / 10, end= \" \")\n",
    "else:\n",
    "    print()"
   ]
  },
  {
   "cell_type": "code",
   "execution_count": 7,
   "metadata": {},
   "outputs": [
    {
     "name": "stdout",
     "output_type": "stream",
     "text": [
      "0.1 0.2 0.3 0.4 0.5 0.6 0.7 0.8 0.9 \n"
     ]
    }
   ],
   "source": [
    "# 方法2, 使用第三方库\n",
    "\n",
    "import numpy as np \n",
    "\n",
    "for i in np.arange(0.1, 1.0, 0.1):\n",
    "    print(i, end = \" \")\n",
    "else:\n",
    "    print()"
   ]
  },
  {
   "cell_type": "code",
   "execution_count": null,
   "metadata": {
    "collapsed": true
   },
   "outputs": [],
   "source": [
    "# 方法3， 子定义range函数\n",
    "\n"
   ]
  }
 ],
 "metadata": {
  "kernelspec": {
   "display_name": "Python [conda env:tensorflow]",
   "language": "python",
   "name": "conda-env-tensorflow-py"
  },
  "language_info": {
   "codemirror_mode": {
    "name": "ipython",
    "version": 3
   },
   "file_extension": ".py",
   "mimetype": "text/x-python",
   "name": "python",
   "nbconvert_exporter": "python",
   "pygments_lexer": "ipython3",
   "version": "3.6.2"
  }
 },
 "nbformat": 4,
 "nbformat_minor": 2
}
