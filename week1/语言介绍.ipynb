{
 "cells": [
  {
   "cell_type": "code",
   "execution_count": null,
   "metadata": {
    "collapsed": true
   },
   "outputs": [],
   "source": []
  },
  {
   "cell_type": "markdown",
   "metadata": {},
   "source": [
    "### Python 语言介绍\n",
    "\n",
    "1. Python发明于1989年，到目前已经最新的版本是 3.6.2\n",
    "2. Python是种解释性的语言，区别于编译性语言，所谓的解释性语言，不需要再有其他的处理过程，而直接执行并输出结果"
   ]
  },
  {
   "cell_type": "markdown",
   "metadata": {},
   "source": [
    "### 问题\n",
    "* 你知道有哪些计算机语言？\n"
   ]
  },
  {
   "cell_type": "markdown",
   "metadata": {},
   "source": [
    "###  Python环境安装和使用\n",
    "\n",
    "* 安装anaconda集成语言开发环境  （类似的还有很多，但是对于初学者用anaconda特别方便） \n",
    " * http://anaconda.com/downloads.html 下载\n",
    "* 利用安装windows环境的ananconda 3 - 4.4.0 版本，推荐用64-bit的版本，适用于Windows 7 64bits版本\n",
    "* 利用jupyter notebook来学习Ptyhon，配合Python命令行，到后续课程介绍专业开发环境\n"
   ]
  },
  {
   "cell_type": "markdown",
   "metadata": {},
   "source": [
    "#### 问题\n",
    "\n",
    "* 如果启动jupyter notebook？ \n",
    " * Windows环境下，先打开 Anaconda Navigator\n",
    " * 点击 Jupyter在浏览器里面使用jupyter notebook\n",
    "\n",
    "* 本次课程的文件放在桌面->Python的文件夹里面"
   ]
  },
  {
   "cell_type": "markdown",
   "metadata": {},
   "source": [
    "### 第一个Python程序\n",
    "\n",
    "* 在计算机屏幕上打印 Hello Python! \n",
    "\n",
    "* 下面这段代码是相当经典的代码，目前几乎国内所有的大学生都被背这段代码\n",
    "\n",
    "```c语言\n",
    "#include <stdio.h>\n",
    "\n",
    "int main()\n",
    "{\n",
    "    printf(\"Hello world!\\n\") ;\n",
    "}\n",
    "\n",
    "```\n",
    "\n",
    "* C语言要输出，需要编辑、编译、运营等多个步骤，而Python就在notebook直接执行输出"
   ]
  },
  {
   "cell_type": "code",
   "execution_count": 1,
   "metadata": {},
   "outputs": [
    {
     "name": "stdout",
     "output_type": "stream",
     "text": [
      "Hello, Python!\n"
     ]
    }
   ],
   "source": [
    "# 利用Python语言的print函数\n",
    "\n",
    "print (\"Hello, Python!\");"
   ]
  },
  {
   "cell_type": "code",
   "execution_count": null,
   "metadata": {
    "collapsed": true
   },
   "outputs": [],
   "source": []
  },
  {
   "cell_type": "markdown",
   "metadata": {},
   "source": [
    "### 变量类型\n",
    "* 整数类型 （-100，0， 9）\n",
    "* 字符串类型 （‘a’, \"hello\", \"我是大魔王“）\n",
    "* 浮点数类型 （4.10， 3.14，-5.00）\n",
    "* boolean类型 （True，False）\n"
   ]
  },
  {
   "cell_type": "code",
   "execution_count": 2,
   "metadata": {
    "collapsed": true
   },
   "outputs": [],
   "source": [
    "a = 1\n",
    "b = 2 \n",
    "c = 3\n",
    "s = \"我是大魔王\"\n",
    "x = True\n",
    "y = (2 > 1) "
   ]
  },
  {
   "cell_type": "code",
   "execution_count": 3,
   "metadata": {},
   "outputs": [
    {
     "name": "stdout",
     "output_type": "stream",
     "text": [
      "100\n"
     ]
    }
   ],
   "source": [
    "# a, b, c 在Python里面叫做变量，变量的意思就是可改变的\n",
    "# 重新给a赋值100\n",
    "a = 100\n",
    "print(a)"
   ]
  },
  {
   "cell_type": "code",
   "execution_count": 4,
   "metadata": {},
   "outputs": [
    {
     "ename": "NameError",
     "evalue": "name 'd' is not defined",
     "output_type": "error",
     "traceback": [
      "\u001b[0;31m---------------------------------------------------------------------------\u001b[0m",
      "\u001b[0;31mNameError\u001b[0m                                 Traceback (most recent call last)",
      "\u001b[0;32m<ipython-input-4-41dd8bd37b2e>\u001b[0m in \u001b[0;36m<module>\u001b[0;34m()\u001b[0m\n\u001b[1;32m      1\u001b[0m \u001b[0;31m# 使用变量前，需要给变量赋值，譬如下面的语句会报错\u001b[0m\u001b[0;34m\u001b[0m\u001b[0;34m\u001b[0m\u001b[0m\n\u001b[0;32m----> 2\u001b[0;31m \u001b[0mprint\u001b[0m\u001b[0;34m(\u001b[0m\u001b[0md\u001b[0m\u001b[0;34m)\u001b[0m\u001b[0;34m\u001b[0m\u001b[0m\n\u001b[0m",
      "\u001b[0;31mNameError\u001b[0m: name 'd' is not defined"
     ]
    }
   ],
   "source": [
    "# 使用变量前，需要给变量赋值，譬如下面的语句会报错\n",
    "print(d)"
   ]
  },
  {
   "cell_type": "markdown",
   "metadata": {},
   "source": [
    "#### 问题\n",
    "* 如何判断Python语言里面的变量的类型？\n",
    " * 使用Python内置的type函数，譬如 print(type(a)), 会打印变量a的类型\n"
   ]
  },
  {
   "cell_type": "code",
   "execution_count": 6,
   "metadata": {},
   "outputs": [
    {
     "name": "stdout",
     "output_type": "stream",
     "text": [
      "<class 'int'>\n"
     ]
    }
   ],
   "source": [
    "# 变量a是int类型，int在Python代表整数\n",
    "print(type(a))"
   ]
  },
  {
   "cell_type": "markdown",
   "metadata": {
    "collapsed": true
   },
   "source": [
    "### 算术运算符\n",
    "\n",
    "#### 基本运算符\n",
    "* 加 +\n",
    "* 减 - \n",
    "* 乘 * \n",
    "* 除 / \n",
    "\n",
    "#### 高级运算符\n",
    "* 取余数 *\n",
    "* 取整除 // \n",
    "* 取几次方 **"
   ]
  },
  {
   "cell_type": "code",
   "execution_count": 7,
   "metadata": {
    "collapsed": true
   },
   "outputs": [],
   "source": [
    "a = 21\n",
    "b = 10\n",
    "c = 0"
   ]
  },
  {
   "cell_type": "code",
   "execution_count": 8,
   "metadata": {},
   "outputs": [
    {
     "name": "stdout",
     "output_type": "stream",
     "text": [
      "31\n",
      "2.1\n",
      "2\n"
     ]
    }
   ],
   "source": [
    "c = a + b\n",
    "print(c)\n",
    "a - b\n",
    "a * b\n",
    "print(a / b)\n",
    "print(a // b)"
   ]
  },
  {
   "cell_type": "markdown",
   "metadata": {},
   "source": [
    "### 比较运算符\n",
    "* 等于 ==\n",
    "* 不等于 !=\n",
    "* 大于 > \n",
    "* 小于 < \n",
    "* 大于等于 <= \n",
    "* 小于等于 >= "
   ]
  },
  {
   "cell_type": "code",
   "execution_count": 9,
   "metadata": {},
   "outputs": [
    {
     "name": "stdout",
     "output_type": "stream",
     "text": [
      "a 不等于 b\n",
      "a 不等于 d\n"
     ]
    }
   ],
   "source": [
    "a = 21\n",
    "b = 10\n",
    "c = 0\n",
    "d = '21'\n",
    "\n",
    "if (a != b):\n",
    "    print(\"a 不等于 b\")\n",
    "\n",
    "if(a == d):\n",
    "    print('a 等于 d')\n",
    "else:\n",
    "    print(\"a 不等于 d\")"
   ]
  },
  {
   "cell_type": "markdown",
   "metadata": {},
   "source": [
    "### 问题\n",
    "\n",
    "* 为什么a不等于d \n",
    " * 因为a是int类型，d是字符串类型，不相等\n",
    " \n",
    "* 写一个代码，判断 ‘a’ 是否等于 'A‘，看看神奇的Python的结果是啥\n",
    " * print('a' == 'A') ，应该返回False"
   ]
  },
  {
   "cell_type": "markdown",
   "metadata": {},
   "source": [
    "### 赋值运算符\n",
    "\n",
    "* 加 +=\n",
    "* 减 -=\n",
    "* 乘 *=\n",
    "* 除 /=\n",
    "* 取余数 *=\n",
    "* 取整除 //=\n",
    "* 取几次方 **="
   ]
  },
  {
   "cell_type": "code",
   "execution_count": 11,
   "metadata": {
    "collapsed": true
   },
   "outputs": [],
   "source": [
    "a = 21\n",
    "b = 10\n",
    "c = 0\n",
    "\n",
    "a *= 10\n",
    "a -= 2\n"
   ]
  },
  {
   "cell_type": "markdown",
   "metadata": {},
   "source": [
    "### 逻辑运算符\n",
    "* and \n",
    "* or \n",
    "* not "
   ]
  },
  {
   "cell_type": "code",
   "execution_count": 10,
   "metadata": {
    "collapsed": true
   },
   "outputs": [],
   "source": [
    "a = True\n",
    "b = False\n",
    "c = True and False\n",
    "d = a or b"
   ]
  },
  {
   "cell_type": "markdown",
   "metadata": {},
   "source": [
    "### 下面这些运算符会在后面的课程中介绍\n",
    "\n",
    "* 身份运算符 （is），\n",
    "* 位运算符 (&, |, >>, <<, ~)\n",
    "* 成员运算符 （in, not in)"
   ]
  },
  {
   "cell_type": "markdown",
   "metadata": {},
   "source": [
    "### 第一周内容\n",
    "\n",
    "* 安装Python编程环境\n",
    "* 解释Python基础的数据类型\n",
    "* 学习Python的运算符\n",
    "* 学习print函数"
   ]
  },
  {
   "cell_type": "code",
   "execution_count": 12,
   "metadata": {},
   "outputs": [
    {
     "name": "stdout",
     "output_type": "stream",
     "text": [
      "20992\n"
     ]
    }
   ],
   "source": [
    "# 习题1： 计算 12的4次方加2的8次方的和\n",
    "\n",
    "a =12**4 + 2**8\n",
    "print(a)"
   ]
  },
  {
   "cell_type": "code",
   "execution_count": 13,
   "metadata": {},
   "outputs": [
    {
     "name": "stdout",
     "output_type": "stream",
     "text": [
      "100230733\n",
      "299\n"
     ]
    }
   ],
   "source": [
    "# 习题2： 计算 38388371038 /  383 的 商和余数\n",
    "a =38388371038\n",
    "b =383\n",
    "c =a // b\n",
    "print(c)\n",
    "c =a % b\n",
    "print(c)"
   ]
  },
  {
   "cell_type": "code",
   "execution_count": 14,
   "metadata": {},
   "outputs": [
    {
     "name": "stdout",
     "output_type": "stream",
     "text": [
      "a > b\n"
     ]
    }
   ],
   "source": [
    "# 习题3： 比较 12345 / 837，12365 / 847 哪个数字比较大\n",
    "a =12345 / 837\n",
    "b =12365 / 847\n",
    "if(a > b):\n",
    "    print(\"a > b\")\n",
    "else:\n",
    "    print(\"a < b\")"
   ]
  },
  {
   "cell_type": "markdown",
   "metadata": {},
   "source": [
    "### 习题四\n",
    "\n",
    "判断下面等式的结果，在下面的括号里面填入（True，False）\n",
    "\n",
    "*  2 == '2'  【 False      】\n",
    "*  2.0 == 2  【   True  】\n",
    "*  6 / 2 == 3.0 【    True   】\n"
   ]
  },
  {
   "cell_type": "code",
   "execution_count": null,
   "metadata": {
    "collapsed": true
   },
   "outputs": [],
   "source": []
  }
 ],
 "metadata": {
  "kernelspec": {
   "display_name": "Python [conda env:tensorflow]",
   "language": "python",
   "name": "conda-env-tensorflow-py"
  },
  "language_info": {
   "codemirror_mode": {
    "name": "ipython",
    "version": 3
   },
   "file_extension": ".py",
   "mimetype": "text/x-python",
   "name": "python",
   "nbconvert_exporter": "python",
   "pygments_lexer": "ipython3",
   "version": "3.6.2"
  }
 },
 "nbformat": 4,
 "nbformat_minor": 2
}
