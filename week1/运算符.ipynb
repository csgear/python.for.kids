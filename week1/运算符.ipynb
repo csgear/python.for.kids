{
 "cells": [
  {
   "cell_type": "code",
   "execution_count": null,
   "metadata": {
    "collapsed": true
   },
   "outputs": [],
   "source": [
    "#运算符优先级\n",
    "a = 20\n",
    "b = 10\n",
    "c = 15\n",
    "d = 5\n",
    "e = 0\n",
    " \n",
    "e = (a + b) * c / d       #( 30 * 15 ) / 5\n",
    "print \"Value of (a + b) * c / d is \",  e\n",
    " \n",
    "e = ((a + b) * c) / d     # (30 * 15 ) / 5\n",
    "print \"Value of ((a + b) * c) / d is \",  e\n",
    " \n",
    "e = (a + b) * (c / d);    # (30) * (15/5)\n",
    "print \"Value of (a + b) * (c / d) is \",  e\n",
    " \n",
    "e = a + (b * c) / d;      #  20 + (150/5)\n",
    "print \"Value of a + (b * c) / d is \",  e"
   ]
  },
  {
   "cell_type": "markdown",
   "metadata": {},
   "source": [
    "### 这堂课不讲"
   ]
  },
  {
   "cell_type": "code",
   "execution_count": null,
   "metadata": {
    "collapsed": true
   },
   "outputs": [],
   "source": [
    "#成员运算符\n",
    "a = 10\n",
    "b = 20\n",
    "list = [1, 2, 3, 4, 5 ];\n",
    " \n",
    "if ( a in list ):\n",
    "   print \"Line 1 - a is available in the given list\"\n",
    "else:\n",
    "   print \"Line 1 - a is not available in the given list\"\n",
    " \n",
    "if ( b not in list ):\n",
    "   print \"Line 2 - b is not available in the given list\"\n",
    "else:\n",
    "   print \"Line 2 - b is available in the given list\"\n",
    " \n",
    "a = 2\n",
    "if ( a in list ):\n",
    "   print \"Line 3 - a is available in the given list\"\n",
    "else:\n",
    "   print \"Line 3 - a is not available in the given list\"\n",
    " "
   ]
  },
  {
   "cell_type": "markdown",
   "metadata": {},
   "source": [
    "### 这堂课不讲"
   ]
  },
  {
   "cell_type": "code",
   "execution_count": null,
   "metadata": {
    "collapsed": true
   },
   "outputs": [],
   "source": [
    "# 位运算符\n",
    "a = 60            # 60 = 0011 1100 \n",
    "b = 13            # 13 = 0000 1101 \n",
    "c = 0\n",
    " \n",
    "c = a & b;        # 12 = 0000 1100\n",
    "print \"Line 1 - Value of c is \", c\n",
    " \n",
    "c = a | b;        # 61 = 0011 1101 \n",
    "print \"Line 2 - Value of c is \", c\n",
    " \n",
    "c = a ^ b;        # 49 = 0011 0001\n",
    "print \"Line 3 - Value of c is \", c\n",
    " \n",
    "c = ~a;           # -61 = 1100 0011\n",
    "print \"Line 4 - Value of c is \", c\n",
    " \n",
    "c = a << 2;       # 240 = 1111 0000\n",
    "print \"Line 5 - Value of c is \", c\n",
    " \n",
    "c = a >> 2;       # 15 = 0000 1111\n",
    "print \"Line 6 - Value of c is \", c\n",
    " "
   ]
  },
  {
   "cell_type": "code",
   "execution_count": null,
   "metadata": {
    "collapsed": true
   },
   "outputs": [],
   "source": [
    "# 身份运算符\n",
    "a = 20\n",
    "b = 20\n",
    " \n",
    "if ( a is b ):\n",
    "   print \"Line 1 - a and b have same identity\"\n",
    "else:\n",
    "   print \"Line 1 - a and b do not have same identity\"\n",
    " \n",
    "if ( id(a) == id(b) ):\n",
    "   print \"Line 2 - a and b have same identity\"\n",
    "else:\n",
    "   print \"Line 2 - a and b do not have same identity\"\n",
    " \n",
    "b = 30\n",
    "if ( a is b ):\n",
    "   print \"Line 3 - a and b have same identity\"\n",
    "else:\n",
    "   print \"Line 3 - a and b do not have same identity\"\n",
    " \n",
    "if ( a is not b ):\n",
    "   print \"Line 4 - a and b do not have same identity\"\n",
    "else:\n",
    "   print \"Line 4 - a and b have same identity\""
   ]
  }
 ],
 "metadata": {
  "kernelspec": {
   "display_name": "Python [conda env:tensorflow]",
   "language": "python",
   "name": "conda-env-tensorflow-py"
  },
  "language_info": {
   "codemirror_mode": {
    "name": "ipython",
    "version": 3
   },
   "file_extension": ".py",
   "mimetype": "text/x-python",
   "name": "python",
   "nbconvert_exporter": "python",
   "pygments_lexer": "ipython3",
   "version": "3.6.2"
  }
 },
 "nbformat": 4,
 "nbformat_minor": 2
}
