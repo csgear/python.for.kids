{
 "cells": [
  {
   "cell_type": "code",
   "execution_count": 1,
   "metadata": {
    "collapsed": true
   },
   "outputs": [],
   "source": [
    "import tensorflow as tf"
   ]
  },
  {
   "cell_type": "code",
   "execution_count": 12,
   "metadata": {},
   "outputs": [
    {
     "name": "stdout",
     "output_type": "stream",
     "text": [
      "x=1.0 --> z=2.700000047683716\n",
      "x=0.6 --> z=1.9000000953674316\n",
      "x=-1.8 --> z=-2.8999998569488525\n"
     ]
    }
   ],
   "source": [
    "# set up graph\n",
    "\n",
    "g = tf.Graph()\n",
    "\n",
    "with g.as_default():\n",
    "    \n",
    "    x = tf.placeholder(dtype=tf.float32,shape=None, name='x')\n",
    "    w = tf.Variable(2.0, name='weight')\n",
    "    b = tf.Variable(0.7, name='bias')\n",
    "    \n",
    "    # define computing equation\n",
    "    z = w * x + b\n",
    "    \n",
    "    # initialize variables\n",
    "    init = tf.global_variables_initializer()\n",
    "    \n",
    "    with tf.Session(graph=g) as sess:\n",
    "        sess.run(init)\n",
    "        \n",
    "        for t in [1.0, 0.6, -1.8]:\n",
    "            print('x={} --> z={}'.format(t, sess.run(z, feed_dict={x:t})))\n"
   ]
  },
  {
   "cell_type": "code",
   "execution_count": null,
   "metadata": {
    "collapsed": true
   },
   "outputs": [],
   "source": []
  }
 ],
 "metadata": {
  "kernelspec": {
   "display_name": "Python [conda env:tensorflow]",
   "language": "python",
   "name": "conda-env-tensorflow-py"
  },
  "language_info": {
   "codemirror_mode": {
    "name": "ipython",
    "version": 3
   },
   "file_extension": ".py",
   "mimetype": "text/x-python",
   "name": "python",
   "nbconvert_exporter": "python",
   "pygments_lexer": "ipython3",
   "version": "3.6.2"
  }
 },
 "nbformat": 4,
 "nbformat_minor": 2
}
