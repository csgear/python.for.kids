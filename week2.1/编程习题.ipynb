{
 "cells": [
  {
   "cell_type": "markdown",
   "metadata": {},
   "source": [
    "### 编程课习题\n",
    "\n",
    "第一周、第二周内容回顾\n"
   ]
  },
  {
   "cell_type": "markdown",
   "metadata": {},
   "source": [
    "#### 1. 下面哪些是操作符，哪些是值\n",
    "\n",
    "```\n",
    "*\n",
    "'hello'\n",
    "-88.8\n",
    "-\n",
    "/\n",
    "+\n",
    "5\n",
    "```\n",
    "\n",
    "答案： \n",
    "\n",
    "* 运算符：*，-，/, +，\n",
    "* 值，分为字符串的值(\"hello\")，布尔值(True, Flase), 整数值（5），浮点数值（-88.8），还有其他容器类的值"
   ]
  },
  {
   "cell_type": "markdown",
   "metadata": {},
   "source": []
  },
  {
   "cell_type": "markdown",
   "metadata": {},
   "source": [
    "\n",
    "#### 2. 在for循环中，range(10)、range(0, 10)和range(0, 10, 1)之间的区别是什么\n",
    "\n",
    "答案：\n"
   ]
  },
  {
   "cell_type": "code",
   "execution_count": 1,
   "metadata": {},
   "outputs": [
    {
     "name": "stdout",
     "output_type": "stream",
     "text": [
      "[0, 1, 2, 3, 4, 5, 6, 7, 8, 9]\n",
      "[0, 1, 2, 3, 4, 5, 6, 7, 8, 9]\n",
      "[0, 1, 2, 3, 4, 5, 6, 7, 8, 9]\n"
     ]
    }
   ],
   "source": [
    "# range(start, end, step) \n",
    "\n",
    "print(list(range(10)))\n",
    "print(list(range(0,10)))\n",
    "print(list(range(0,10,1)))\n"
   ]
  },
  {
   "cell_type": "markdown",
   "metadata": {},
   "source": [
    "#### 3. 编写一小段程序，利用for循环，打印出从1到10的数字。然后利用while循环，编写一个等价的程序，打印出从1到10的数字。”\n",
    "\n",
    "#### 4. “编写代码，如果变量spam中存放1，就打印Boy，如果变量中存放2，就打印Gril，如果变量中存放其他值，就打印Greetings!”\n",
    "\n",
    "#### 5. 用for语句和while语句两种方法，打印前20个偶数，答案是2，4，...\n",
    "\n",
    "#### 6. N = 238，求N的因数个数\n",
    "\n",
    "#### 7. 判断N=38281831是不是质数，如果是打印True，如果不是，打印False\n",
    "\n",
    "#### 8. 计算M=399392,N=291832993两个数的最大公约数\n"
   ]
  },
  {
   "cell_type": "code",
   "execution_count": 4,
   "metadata": {},
   "outputs": [
    {
     "name": "stdout",
     "output_type": "stream",
     "text": [
      "1 2 3 4 5 6 7 8 9 10 \n",
      "1 2 3 4 5 6 7 8 9 10 \n",
      "1 2 3 4 5 6 7 8 9 10 \n",
      "1 2 3 4 5 6 7 8 9 10 \n",
      "Greeting!\n"
     ]
    }
   ],
   "source": [
    "### 习题答案\n",
    "\n",
    "### 问题1  利用for循环，打印出从1到10的数字\n",
    "\n",
    "for i in range(1, 11):\n",
    "    print(i, end=\" \")\n",
    "print()\n",
    "\n",
    "for i in range(10):\n",
    "    print(i + 1, end = \" \")\n",
    "print()\n",
    "\n",
    "i = 1 \n",
    "\n",
    "while(i <= 10):\n",
    "    print(i, end = \" \")\n",
    "    i = i + 1 \n",
    "print()\n",
    "\n",
    "i = 1\n",
    "while(True):\n",
    "    if(i > 10):\n",
    "        break \n",
    "    print(i, end = \" \")\n",
    "    i = i + 1\n",
    "print()    \n",
    "    \n",
    "### 问题2\n",
    "\n",
    "\n",
    "\n",
    "### 编程4\n",
    "### 简单的逻辑判断语句\n",
    "\n",
    "spam = 3\n",
    "\n",
    "if (spam == 1):\n",
    "    print(\"Boy\")\n",
    "elif (spam == 2):\n",
    "    print(\"Girl\")\n",
    "else:\n",
    "    print(\"Greeting!\")"
   ]
  },
  {
   "cell_type": "markdown",
   "metadata": {},
   "source": []
  },
  {
   "cell_type": "code",
   "execution_count": 18,
   "metadata": {},
   "outputs": [
    {
     "name": "stdout",
     "output_type": "stream",
     "text": [
      "2 4 6 8 10 12 14 16 18 20 22 24 26 28 30 32 34 36 38 40 \n",
      "2 4 6 8 10 12 14 16 18 20 22 24 26 28 30 32 34 36 38 40 \n",
      "238的因数个数是8\n",
      "38281831 是不是质数：False\n",
      "240和1000的最大公约数是40\n"
     ]
    }
   ],
   "source": [
    "### 编程5\n",
    "\n",
    "for i in range(2,41,2):\n",
    "    print(i, end=\" \")\n",
    "print()\n",
    "\n",
    "i = 2\n",
    "while i <= 40:\n",
    "    print(i, end=\" \")\n",
    "    i = i + 2\n",
    "print()\n",
    "\n",
    "# 6. N = 238，求N的因数个数\n",
    "# 7. 判断N=38281831是不是质数，如果是打印True，如果不是，打印False\n",
    "# 8. 计算M=399392,N=291832993两个数的最大公约数\n",
    "\n",
    "\n",
    "\n",
    "### 编程7，判断N=38281831是不是质数，如果是打印True，如果不是，打印False\n",
    "N=38281831\n",
    "\n",
    "### 先假设N是个质数\n",
    "isPrime = True\n",
    "\n",
    "for i in range(2, N):\n",
    "    ### 如果N可以被2到N-1里面的任何一个数整除，N就是合数\n",
    "    ### 设置变量isPrime为False，退出循环\n",
    "    if( N % i == 0):\n",
    "        isPrime = False \n",
    "        break \n",
    "print(\"{} 是不是质数：{}\".format(N, isPrime))\n",
    "\n",
    "\n",
    "### 编程8，计算M=240,N=1000两个数的最大公约数\n",
    "\n",
    "M=240\n",
    "N=1000\n",
    "\n",
    "while(M > 0):\n",
    "    r = N % M\n",
    "    N = M\n",
    "    M = r\n",
    "\n",
    "print(\"{}和{}的最大公约数是{}\".format(240, 1000, N))"
   ]
  },
  {
   "cell_type": "code",
   "execution_count": 5,
   "metadata": {},
   "outputs": [
    {
     "name": "stdout",
     "output_type": "stream",
     "text": [
      "238的因数个数是8\n"
     ]
    }
   ],
   "source": [
    "### 编程6，N = 238，求N的因数个数\n",
    "\n",
    "N = 238\n",
    "cnt = 0   ### 这个变量存储因数的个数\n",
    "\n",
    "for i in range(1, N + 1):\n",
    "    ### 如果能整除，因数数量加1\n",
    "    if(N % i == 0): \n",
    "        cnt = cnt + 1\n",
    "print(\"{}的因数个数是{}\".format(N, cnt))"
   ]
  },
  {
   "cell_type": "code",
   "execution_count": 6,
   "metadata": {},
   "outputs": [
    {
     "name": "stdout",
     "output_type": "stream",
     "text": [
      "N 不是质数\n",
      "38281831 是不是质数：False\n"
     ]
    }
   ],
   "source": [
    "### 编程7，判断N=38281831是不是质数，如果是打印True，如果不是，打印False\n",
    "N=38281831\n",
    "\n",
    "cnt = 0   ### 这个变量存储因数的个数\n",
    "\n",
    "for i in range(1, N + 1):\n",
    "    ### 如果能整除，因数数量加1\n",
    "    if(N % i == 0): \n",
    "        cnt = cnt + 1\n",
    "\n",
    "if(cnt == 2):\n",
    "    print(\"N 是质数\")\n",
    "else:\n",
    "    print(\"N 不是质数\")\n",
    "\n",
    "\n",
    "### 先假设N是个质数\n",
    "isPrime = True\n",
    "\n",
    "for i in range(2, N):\n",
    "    ### 如果N可以被2到N-1里面的任何一个数整除，N就是合数\n",
    "    ### 设置变量isPrime为False，退出循环\n",
    "    if( N % i == 0):\n",
    "        isPrime = False \n",
    "        break \n",
    "print(\"{} 是不是质数：{}\".format(N, isPrime))\n"
   ]
  },
  {
   "cell_type": "code",
   "execution_count": 7,
   "metadata": {},
   "outputs": [
    {
     "name": "stdout",
     "output_type": "stream",
     "text": [
      "240和1000的最大公约数是40\n"
     ]
    }
   ],
   "source": [
    "### 编程8，计算M=240,N=1000两个数的最大公约数\n",
    "\n",
    "# 辗转相除法  gcd(a,b) = gcd(b, a % b)\n",
    "\n",
    "M=240\n",
    "N=1000\n",
    "\n",
    "while(M > 0):\n",
    "    r = N % M\n",
    "    N = M\n",
    "    M = r\n",
    "\n",
    "print(\"{}和{}的最大公约数是{}\".format(240, 1000, N))\n"
   ]
  },
  {
   "cell_type": "code",
   "execution_count": 4,
   "metadata": {},
   "outputs": [
    {
     "name": "stdout",
     "output_type": "stream",
     "text": [
      "40\n",
      "40\n",
      "23\n",
      "23\n"
     ]
    }
   ],
   "source": [
    "\n",
    "### 定义一个gcd函数\n",
    "\n",
    "def gcd(x, y):\n",
    "    while y != 0:\n",
    "        ### 这个是python的多重赋值语句\n",
    "        x, y = y, x % y\n",
    "    return x\n",
    "\n",
    "print(gcd(240,1000))\n",
    "print(gcd(1000,240))\n",
    "\n",
    "### 下面这个是很有意思的定义，可以问问数学老师，\n",
    "print(gcd(23,0))\n",
    "print(gcd(0,23))\n",
    "\n",
    "\n",
    "def lcm(x,y):\n",
    "    return x * y / gcd(x,y)\n"
   ]
  },
  {
   "cell_type": "code",
   "execution_count": null,
   "metadata": {
    "collapsed": true
   },
   "outputs": [],
   "source": []
  }
 ],
 "metadata": {
  "kernelspec": {
   "display_name": "Python [conda env:tensorflow]",
   "language": "python",
   "name": "conda-env-tensorflow-py"
  },
  "language_info": {
   "codemirror_mode": {
    "name": "ipython",
    "version": 3
   },
   "file_extension": ".py",
   "mimetype": "text/x-python",
   "name": "python",
   "nbconvert_exporter": "python",
   "pygments_lexer": "ipython3",
   "version": "3.6.2"
  }
 },
 "nbformat": 4,
 "nbformat_minor": 2
}
