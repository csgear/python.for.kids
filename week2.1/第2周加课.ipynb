{
 "cells": [
  {
   "cell_type": "markdown",
   "metadata": {},
   "source": [
    "### 代码块 （Block）\n",
    "\n",
    "\n",
    "“一些代码行可以作为一组，放在“代码块”中。可以根据代码行的缩进，知道代码块的开始和结束。代码块有3条规则。\n",
    "\n",
    "* 缩进增加时，代码块开始。\n",
    "\n",
    "* 代码块可以包含其他代码块。\n",
    "\n",
    "* 缩进减少为零，或减少为外面包围代码块的缩进，代码块就结束了。”\n",
    "\n",
    "\n",
    "\n",
    "### 介绍下简单的python 函数\n",
    "\n",
    "* 定义，Python函数就是把一堆的语句聚合在一起，用一个名字（函数名称）来表示，主要用来解决某一个问题\n",
    "\n",
    "```\n",
    "def name( parameters ):\n",
    "    statements\n",
    "```\n",
    "\n",
    "* 函数的定义用 def 开头，中间加1个名称，可以跟一个或者多个参数；函数有多个语句组成，语句需要缩进放置\n"
   ]
  },
  {
   "cell_type": "code",
   "execution_count": 2,
   "metadata": {},
   "outputs": [
    {
     "name": "stdout",
     "output_type": "stream",
     "text": [
      "1\n",
      "1\n"
     ]
    }
   ],
   "source": [
    "# 什么叫做代码块\n",
    "\n",
    "a = b = c = d = 1\n",
    "\n",
    "if a == b:\n",
    "    print(a)\n",
    "    if(c == 0):\n",
    "        print(c)\n",
    "        if(d == 1):\n",
    "            print(d)\n",
    "    print(b)"
   ]
  },
  {
   "cell_type": "code",
   "execution_count": 5,
   "metadata": {},
   "outputs": [
    {
     "name": "stdout",
     "output_type": "stream",
     "text": [
      "8\n",
      "24\n"
     ]
    }
   ],
   "source": [
    "# 计算一个数字N的因数是多少\n",
    "\n",
    "def factorNumbers(num):\n",
    "    cnt = 0\n",
    "    for i in range(1, num + 1):\n",
    "        ### 如果能整除，因数数量加1\n",
    "        if(num % i == 0): \n",
    "            cnt = cnt + 1\n",
    "    return cnt \n",
    "\n",
    "\n",
    "###  \n",
    "N = 238\n",
    "print(factorNumbers(238))\n",
    "\n",
    "N = 39939192\n",
    "print(factorNumbers(N))\n"
   ]
  },
  {
   "cell_type": "code",
   "execution_count": 2,
   "metadata": {
    "collapsed": true
   },
   "outputs": [],
   "source": [
    "def printmyname():\n",
    "    print(\"my name is\", \"alex\")\n",
    "\n",
    "def printname(s):\n",
    "    print(\"my name is\", s)\n",
    "\n",
    "    \n",
    "def sum2numbers(a, b):\n",
    "    return a + b\n",
    "\n",
    "def sum2numbers(a,b):\n",
    "    \"\"\"计算2个数字平方的和，并返回结果\"\"\"\n",
    "    return a * a + b * b\n",
    "\n"
   ]
  },
  {
   "cell_type": "markdown",
   "metadata": {
    "collapsed": true
   },
   "source": [
    "### 函数的概念问题\n",
    "\n",
    "#### 1. 下面那个是正确的函数定义语句 ?\n",
    "* (A) def drawCircle(t):\n",
    "* (B) def drawCircle:\n",
    "* (C) drawCircle(t, sz):\n",
    "* (D) def drawCircle(t, sz)\n",
    "\n",
    "\n",
    "#### 2. 下面函数哪个是函数的名称\n",
    "```\n",
    "def drawSquare(t, sz):\n",
    "    \"\"\"Make turtle t draw a square of with side sz.\"\"\"\n",
    "    for i in range(4):\n",
    "        t.forward(sz)\n",
    "        t.left(90)\n",
    "```\n",
    "* (A) def drawSquare(t, sz)\n",
    "* (B) drawSquare\n",
    "* (C) drawSquare(t, sz)\n",
    "* (D) Make turtle t draw a square with side sz.\n",
    "\n",
    "\n",
    "#### 3. 下面函数的参数是什么？\n",
    "```\n",
    "def drawSquare(t, sz):\n",
    "    \"\"\"Make turtle t draw a square of with side sz.\"\"\"\n",
    "    for i in range(4):\n",
    "        t.forward(sz)\n",
    "        t.left(90)\n",
    "```\n",
    "\n",
    "* (A) i\n",
    "* (B) t\n",
    "* (C) t, sz\n",
    "* (D) t, sz, i\n",
    "\n",
    "\n",
    "#### 4. 下面哪个是正确的函数调用语法？\n",
    "\n",
    "```\n",
    "def drawSquare(t, sz):\n",
    "    \"\"\"Make turtle t draw a square of with side sz.\"\"\"\n",
    "    for i in range(4):\n",
    "        t.forward(sz)\n",
    "        t.left(90)\n",
    "```\n",
    "\n",
    "* (A) def drawSquare(t, sz)\n",
    "* (B) drawSquare\n",
    "* (C) drawSquare(10)\n",
    "* (D) drawSquare(alex, 10):\n",
    "* (E) drawSquare(alex, 10)"
   ]
  },
  {
   "cell_type": "code",
   "execution_count": null,
   "metadata": {
    "collapsed": true
   },
   "outputs": [],
   "source": []
  },
  {
   "cell_type": "markdown",
   "metadata": {},
   "source": [
    "### 编程加课\n",
    "\n",
    "\n",
    "#### 讨论for循环的使用场景\n",
    "* 循环嵌套\n",
    "* 计算一些简单的数据题\n",
    "* 用函数把上周的题目装起来\n"
   ]
  },
  {
   "cell_type": "code",
   "execution_count": 3,
   "metadata": {},
   "outputs": [
    {
     "name": "stdout",
     "output_type": "stream",
     "text": [
      "2500\n"
     ]
    }
   ],
   "source": [
    "\n",
    "def sumevennumbers(n):\n",
    "    \"\"\"计算从1到n（包含n）的数字中所有的偶数的和\"\"\"\n",
    "    r = 0 \n",
    "    for x in range(1, n+1,2):\n",
    "        r = r + x\n",
    "    return r\n",
    "\n",
    "print(sumevennumbers(100))"
   ]
  },
  {
   "cell_type": "code",
   "execution_count": 23,
   "metadata": {},
   "outputs": [
    {
     "name": "stdout",
     "output_type": "stream",
     "text": [
      "2 4 6 8 10 12 14 16 18 20 22 24 26 28 30 32 34 36 38 40 \n",
      "2 4 6 8 10 12 14 16 18 20 \n",
      "2 4 6 8 10 12 14 16 18 20 22 24 26 28 30 32 34 36 38 40 42 44 46 48 50 52 54 56 58 60 62 64 66 68 70 72 74 76 78 80 82 84 86 88 90 92 94 96 98 100 102 104 106 108 110 112 114 116 118 120 122 124 126 128 130 132 134 136 138 140 142 144 146 148 150 152 154 156 158 160 162 164 166 168 170 172 174 176 178 180 182 184 186 188 190 192 194 196 198 200 \n",
      "2 4 6 \n"
     ]
    }
   ],
   "source": [
    "\n",
    "## 函数打印前n个偶数，从2开始\n",
    "### 函数名 printEven， 函数带一个参数n\n",
    "\n",
    "for i in range(2,41,2):\n",
    "    print(i, end=\" \")\n",
    "print()\n",
    "\n",
    "def printEven(n):\n",
    "    for i in range(2, 2 * n + 1, 2):\n",
    "        print(i, end=\" \")\n",
    "    print()\n",
    "    \n",
    "printEven(10)\n",
    "printEven(100)\n",
    "printEven(3)"
   ]
  },
  {
   "cell_type": "code",
   "execution_count": 24,
   "metadata": {},
   "outputs": [
    {
     "name": "stdout",
     "output_type": "stream",
     "text": [
      "40\n"
     ]
    }
   ],
   "source": [
    "M=240\n",
    "N=1000\n",
    "\n",
    "while(M > 0):\n",
    "    r = N % M\n",
    "    N = M\n",
    "    M = r\n",
    "    \n",
    "print(N)"
   ]
  },
  {
   "cell_type": "code",
   "execution_count": 25,
   "metadata": {},
   "outputs": [
    {
     "name": "stdout",
     "output_type": "stream",
     "text": [
      "40\n",
      "40\n"
     ]
    }
   ],
   "source": [
    "### 定义一个gcd函数\n",
    "\n",
    "def gcd(x, y):\n",
    "    while y != 0:\n",
    "        ### 这个是python的多重赋值语句\n",
    "        x, y = y, x % y\n",
    "    return x\n",
    "\n",
    "print(gcd(240,1000))\n",
    "print(gcd(1000,240))"
   ]
  },
  {
   "cell_type": "markdown",
   "metadata": {
    "collapsed": true
   },
   "source": [
    "### 第3周加课 编程题\n",
    "\n",
    "####  编程1 判断一个数是不是丑数。\n",
    "\n",
    "丑数是指一个数只能被2, 3, 5整除，而不能被其他的质因数；例如6, 8是丑数，但是14不是丑数，因为14可以被7整除\n",
    "\n",
    "如果是丑数，返回True，如果不是丑数，返回False\n",
    "\n",
    "```\n",
    "### 函数定义\n",
    "def isUgly(num):\n",
    "    # 你的代码\n",
    "\n",
    "### 测试代码\n",
    "print(isUgly(20))  ### 应该返回True\n",
    "print(isUgly(21))  ### 应该返回False\n",
    "```\n",
    "\n",
    "#### 编程2  给出一堆数字，发现这个数字里面最大的数字\n",
    "\n",
    "例如 [1,2,3,3,9,1,6,5]的最大的数字是9\n",
    "例如 [1,1,1,1,1] 最大的数字是1\n",
    "\n",
    "```\n",
    "### 函数定义\n",
    "def findMax(nums):\n",
    "    # 你的代码\n",
    "\n",
    "### 测试代码\n",
    "inputs = [1,2,3,3,9,1,6,5]\n",
    "print(findMax(inputs))  ### 应该返回9\n",
    "```\n",
    "\n",
    "#### 编程3  给出一堆数字，发现这个数字里面第2大的数字\n",
    "\n",
    "例如 [1,2,3,3,9,1,6,5]的第2大数是6\n",
    "例如 [1,1,1,1,1] 第2大的数字就是1\n",
    "\n",
    "返回这堆数字里面第2大的数字\n",
    "\n",
    "```\n",
    "### 函数定义\n",
    "def findSecondMax(nums):\n",
    "    # 你的代码\n",
    "\n",
    "### 测试代码\n",
    "inputs = [1,2,3,3,9,1,6,5]\n",
    "print(findSecondMax(inputs))  ### 应该返回9\n",
    "```\n",
    "\n",
    "#### 编程4  给出一堆数字，发现这个数字里面第3大的数字\n",
    "\n",
    "例如 [1,2,3,3,9,1,6,5]的第3大数是5\n",
    "例如 [1,1,1,1,1] 第3大的数字就是1\n",
    "\n",
    "返回这堆数字里面第3大的数字\n",
    "\n",
    "```\n",
    "### 函数定义\n",
    "def findThirdMax(nums):\n",
    "    # 你的代码\n",
    "\n",
    "### 测试代码\n",
    "inputs = [1,2,3,3,9,1,6,5]\n",
    "print(findThirdMax(inputs))  ### 应该返回5\n",
    "```\n"
   ]
  },
  {
   "cell_type": "code",
   "execution_count": 1,
   "metadata": {
    "collapsed": true
   },
   "outputs": [],
   "source": [
    "def findMax(nums):\n",
    "\ta = -1 \n",
    "\tfor n in nums:\n",
    "\t\tif n > a:\n",
    "\t\t\ta = n \n",
    "\treturn a\n",
    "\n",
    "\n",
    "def findSecondMax(nums):\n",
    "\ta = b = -1\n",
    "\n",
    "\tfor n in nums:\n",
    "\t\tif n > a:\n",
    "\t\t\ta, b = n, a\n",
    "\t\telif a > n > b:\n",
    "\t\t\tb = n\n",
    "\treturn b if b is not -1 else a\n",
    "\n",
    "def findThirdMax(nums):\n",
    "\ta = b = c = -1\n",
    "\n",
    "\tfor n in nums:\n",
    "\t\tif n > a:\n",
    "\t\t\ta, b, c = n, a, b\n",
    "\t\telif a > n > b:\n",
    "\t\t\tb, c = n, b\n",
    "\t\telif b > n > c:\n",
    "\t\t\tc = n\n",
    "\treturn c if c is not -1 else a\n",
    "\n"
   ]
  },
  {
   "cell_type": "code",
   "execution_count": 2,
   "metadata": {},
   "outputs": [
    {
     "name": "stdout",
     "output_type": "stream",
     "text": [
      "5\n"
     ]
    }
   ],
   "source": [
    "inputs = [1,2,3,3,9,1,6,5]\n",
    "print(findThirdMax(inputs))"
   ]
  },
  {
   "cell_type": "code",
   "execution_count": null,
   "metadata": {
    "collapsed": true
   },
   "outputs": [],
   "source": []
  }
 ],
 "metadata": {
  "kernelspec": {
   "display_name": "Python [conda env:tensorflow]",
   "language": "python",
   "name": "conda-env-tensorflow-py"
  },
  "language_info": {
   "codemirror_mode": {
    "name": "ipython",
    "version": 3
   },
   "file_extension": ".py",
   "mimetype": "text/x-python",
   "name": "python",
   "nbconvert_exporter": "python",
   "pygments_lexer": "ipython3",
   "version": "3.6.2"
  }
 },
 "nbformat": 4,
 "nbformat_minor": 2
}
