{
 "cells": [
  {
   "cell_type": "markdown",
   "metadata": {},
   "source": [
    "### 代码块 （Block）\n",
    "\n",
    "\n",
    "“一些代码行可以作为一组，放在“代码块”中。可以根据代码行的缩进，知道代码块的开始和结束。代码块有3条规则。\n",
    "\n",
    "* 缩进增加时，代码块开始。\n",
    "\n",
    "* 代码块可以包含其他代码块。\n",
    "\n",
    "* 缩进减少为零，或减少为外面包围代码块的缩进，代码块就结束了。”\n",
    "\n",
    "\n",
    "\n",
    "### 介绍下简单的python 函数\n",
    "\n",
    "* 定义，Python函数就是把一堆的语句聚合在一起，用一个名字（函数名称）来表示，主要用来解决某一个问题\n",
    "\n",
    "```\n",
    "def name( parameters ):\n",
    "    statements\n",
    "```\n",
    "\n",
    "* 函数的定义用 def 开头，中间加1个名称，可以跟一个或者多个参数；函数有多个语句组成，语句需要缩进放置\n"
   ]
  },
  {
   "cell_type": "code",
   "execution_count": 2,
   "metadata": {
    "collapsed": true
   },
   "outputs": [],
   "source": [
    "def printmyname():\n",
    "    print(\"my name is\", \"alex\")\n",
    "\n",
    "def printname(s):\n",
    "    print(\"my name is\", s)\n",
    "\n",
    "    \n",
    "def sum2numbers(a, b):\n",
    "    return a + b\n",
    "\n",
    "def sum2numbers(a,b):\n",
    "    \"\"\"计算2个数字平方的和，并返回结果\"\"\"\n",
    "    return a * a + b * b\n",
    "\n"
   ]
  },
  {
   "cell_type": "markdown",
   "metadata": {
    "collapsed": true
   },
   "source": [
    "### 函数的概念问题\n",
    "\n",
    "#### 1. 下面那个是正确的函数定义语句 ?\n",
    "* (A) def drawCircle(t):\n",
    "* (B) def drawCircle:\n",
    "* (C) drawCircle(t, sz):\n",
    "* (D) def drawCircle(t, sz)\n",
    "\n",
    "\n",
    "#### 2. 下面函数哪个是函数的名称\n",
    "```\n",
    "def drawSquare(t, sz):\n",
    "    \"\"\"Make turtle t draw a square of with side sz.\"\"\"\n",
    "    for i in range(4):\n",
    "        t.forward(sz)\n",
    "        t.left(90)\n",
    "```\n",
    "* (A) def drawSquare(t, sz)\n",
    "* (B) drawSquare\n",
    "* (C) drawSquare(t, sz)\n",
    "* (D) Make turtle t draw a square with side sz.\n",
    "\n",
    "\n",
    "#### 3. 下面函数的参数是什么？\n",
    "```\n",
    "func-1-5: What are the parameters of the following function?\n",
    "def drawSquare(t, sz):\n",
    "    \"\"\"Make turtle t draw a square of with side sz.\"\"\"\n",
    "    for i in range(4):\n",
    "        t.forward(sz)\n",
    "        t.left(90)\n",
    "```\n",
    "\n",
    "* (A) i\n",
    "* (B) t\n",
    "* (C) t, sz\n",
    "* (D) t, sz, i\n",
    "\n",
    "\n",
    "#### 4. 下面哪个是正确的函数调用语法？\n",
    "\n",
    "```\n",
    "def drawSquare(t, sz):\n",
    "    \"\"\"Make turtle t draw a square of with side sz.\"\"\"\n",
    "    for i in range(4):\n",
    "        t.forward(sz)\n",
    "        t.left(90)\n",
    "```\n",
    "\n",
    "* (A) def drawSquare(t, sz)\n",
    "* (B) drawSquare\n",
    "* (C) drawSquare(10)\n",
    "* (D) drawSquare(alex, 10):\n",
    "* (E) drawSquare(alex, 10)"
   ]
  },
  {
   "cell_type": "code",
   "execution_count": null,
   "metadata": {
    "collapsed": true
   },
   "outputs": [],
   "source": []
  },
  {
   "cell_type": "markdown",
   "metadata": {},
   "source": [
    "### 编程加课\n",
    "\n",
    "\n",
    "#### 讨论for循环的使用场景\n",
    "* 循环嵌套\n",
    "* 计算一些简单的数据题\n",
    "* 用函数把上周的题目装起来\n"
   ]
  },
  {
   "cell_type": "code",
   "execution_count": 3,
   "metadata": {},
   "outputs": [
    {
     "name": "stdout",
     "output_type": "stream",
     "text": [
      "2500\n"
     ]
    }
   ],
   "source": [
    "\n",
    "def sumevennumbers(n):\n",
    "    \"\"\"计算从1到n（包含n）的数字中所有的偶数的和\"\"\"\n",
    "    r = 0 \n",
    "    for x in range(1, n+1,2):\n",
    "        r = r + x\n",
    "    return r\n",
    "\n",
    "print(sumevennumbers(100))"
   ]
  },
  {
   "cell_type": "code",
   "execution_count": null,
   "metadata": {
    "collapsed": true
   },
   "outputs": [],
   "source": []
  }
 ],
 "metadata": {
  "kernelspec": {
   "display_name": "Python [conda env:tensorflow]",
   "language": "python",
   "name": "conda-env-tensorflow-py"
  },
  "language_info": {
   "codemirror_mode": {
    "name": "ipython",
    "version": 3
   },
   "file_extension": ".py",
   "mimetype": "text/x-python",
   "name": "python",
   "nbconvert_exporter": "python",
   "pygments_lexer": "ipython3",
   "version": "3.6.2"
  }
 },
 "nbformat": 4,
 "nbformat_minor": 2
}
