{
 "cells": [
  {
   "cell_type": "markdown",
   "metadata": {},
   "source": [
    "\n",
    "### 模拟题 - 填幻方\n",
    "\n",
    "幻方是一种很神奇的 N∗NN∗N 矩阵：它由数字 1,2,3,⋯⋯,N×N 构成，且每行、每列及两条对角线上的数字之和都相同。\n",
    "\n",
    "当 N 为奇数时，我们可以通过下方法构建一个幻方：\n",
    "\n",
    "首先将 1写在第一行的中间。\n",
    "\n",
    "之后，按如下方式从小到大依次填写每个数 K(K=2,3,⋯,N×N)\n",
    "\n",
    "1.若 (K−1)在第一行但不在最后一列，则将 K 填在最后一行， (K−1) 所在列的右一列；\n",
    "\n",
    "2.若 (K−1) 在最后一列但不在第一行，则将 KK 填在第一列， (K−1) 所在行的上一行；\n",
    "\n",
    "3.若 (K−1) 在第一行最后一列，则将 K 填在 (K−1) 的正下方；\n",
    "\n",
    "4.若 (K−1) 既不在第一行，也最后一列，如果 (K−1) 的右上方还未填数，则将 K 填在 (K−1) 的右上方，否则将 L 填在 (K−1) 的正下方。\n",
    "\n",
    "现给定 N ，请按上述方法构造 N∗N 的幻方。\n",
    "\n",
    "输入格式\n",
    "输入文件只有一行，包含一个正整数 N ，即幻方的大小。\n",
    "\n",
    "输出格式\n",
    "输出文件包含 N 行 ，每行 N 个整数，即按上述方法构造出的 N∗N 的幻方，相邻两个整数之间用单空格隔开。\n",
    "\n",
    "\n",
    "样例一\n",
    "input\n",
    "\n",
    "3\n",
    "\n",
    "output\n",
    "\n",
    "8 1 6\n",
    "3 5 7\n",
    "4 9 2\n",
    "\n"
   ]
  }
 ],
 "metadata": {
  "kernelspec": {
   "display_name": "Python [conda root]",
   "language": "python",
   "name": "conda-root-py"
  },
  "language_info": {
   "codemirror_mode": {
    "name": "ipython",
    "version": 3
   },
   "file_extension": ".py",
   "mimetype": "text/x-python",
   "name": "python",
   "nbconvert_exporter": "python",
   "pygments_lexer": "ipython3",
   "version": "3.6.2"
  }
 },
 "nbformat": 4,
 "nbformat_minor": 2
}
