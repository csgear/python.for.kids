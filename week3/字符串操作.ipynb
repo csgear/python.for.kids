{
 "cells": [
  {
   "cell_type": "markdown",
   "metadata": {},
   "source": [
    "### String字符串\n",
    "\n",
    "* 字符串\n",
    "* 字符串\n",
    "* 字符串"
   ]
  },
  {
   "cell_type": "markdown",
   "metadata": {
    "collapsed": true
   },
   "source": [
    "### 什么是字符串\n",
    "\n",
    "* 字符串是字符的集合\n"
   ]
  },
  {
   "cell_type": "code",
   "execution_count": 1,
   "metadata": {},
   "outputs": [
    {
     "name": "stdout",
     "output_type": "stream",
     "text": [
      "<class 'str'>\n",
      "<class 'str'>\n"
     ]
    }
   ],
   "source": [
    "# 空字符串\n",
    "s = \"banana\"\n",
    "\n",
    "print(type(s))\n",
    "\n",
    "c ='a'\n",
    "\n",
    "print(type(c))\n",
    "\n",
    "# 字符串加法\n",
    "\n",
    "\n",
    "# 字符串乘法\n",
    "\n"
   ]
  },
  {
   "cell_type": "markdown",
   "metadata": {},
   "source": [
    "\n",
    "#### 问题1\n",
    "\n",
    "```\n",
    "s = \"python\" \n",
    "t = \"rocks\"\n",
    "print(s + t)\n",
    "```\n",
    "\n",
    "* (A) python rocks\n",
    "* (B) python\n",
    "* (C) pythonrocks\n",
    "* (D) Error, you cannot add two strings together.\n",
    "\n",
    "\n",
    "#### 问题2\n",
    "\n",
    "```\n",
    "s = \"python\"\n",
    "excl = \"!\"\n",
    "print(s+excl*3)\n",
    "```\n",
    "\n",
    "* (A) python!!!\n",
    "* (B) python!python!python!\n",
    "* (C) pythonpythonpython!\n",
    "* (D) Error, you cannot perform concatenation and repetition at the same time."
   ]
  },
  {
   "cell_type": "markdown",
   "metadata": {
    "collapsed": true
   },
   "source": [
    "### 字符串 index\n",
    "\n",
    "![](../images/indexvalues.png)"
   ]
  },
  {
   "cell_type": "code",
   "execution_count": 2,
   "metadata": {},
   "outputs": [
    {
     "name": "stdout",
     "output_type": "stream",
     "text": [
      "t\n",
      "e\n"
     ]
    }
   ],
   "source": [
    "\n",
    "school = \"Luther College\"\n",
    "m = school[2]\n",
    "print(m)\n",
    "\n",
    "lastchar = school[-1]\n",
    "print(lastchar)\n"
   ]
  },
  {
   "cell_type": "markdown",
   "metadata": {},
   "source": [
    "#### 问题3\n",
    "\n",
    "```\n",
    "s = \"python rocks\"\n",
    "print(s[3])\n",
    "```\n",
    "\n",
    "* (A) t\n",
    "* (B) h\n",
    "* (C) c\n",
    "* (D) Error, you cannot use the [ ] operator with a string.\n",
    "\n",
    "\n",
    "#### 问题4\n",
    "\n",
    "```\n",
    "s = \"python rocks\"\n",
    "print(s[2] + s[-5])\n",
    "```\n",
    "\n",
    "* (A) tr\n",
    "* (B) ps\n",
    "* (C) nn\n",
    "* (D) Error, you cannot use the [ ] operator with the + operator.\n"
   ]
  },
  {
   "cell_type": "code",
   "execution_count": null,
   "metadata": {
    "collapsed": true
   },
   "outputs": [],
   "source": []
  }
 ],
 "metadata": {
  "kernelspec": {
   "display_name": "Python [conda env:tensorflow]",
   "language": "python",
   "name": "conda-env-tensorflow-py"
  },
  "language_info": {
   "codemirror_mode": {
    "name": "ipython",
    "version": 3
   },
   "file_extension": ".py",
   "mimetype": "text/x-python",
   "name": "python",
   "nbconvert_exporter": "python",
   "pygments_lexer": "ipython3",
   "version": "3.6.2"
  }
 },
 "nbformat": 4,
 "nbformat_minor": 2
}
