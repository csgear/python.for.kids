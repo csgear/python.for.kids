{
 "cells": [
  {
   "cell_type": "markdown",
   "metadata": {},
   "source": [
    "### String字符串\n",
    "\n",
    "* 字符串\n",
    "* 字符串\n",
    "* 字符串"
   ]
  },
  {
   "cell_type": "markdown",
   "metadata": {
    "collapsed": true
   },
   "source": [
    "### 什么是字符串\n",
    "\n",
    "* 字符串是字符的集合\n"
   ]
  },
  {
   "cell_type": "code",
   "execution_count": 1,
   "metadata": {},
   "outputs": [
    {
     "name": "stdout",
     "output_type": "stream",
     "text": [
      "<class 'str'>\n",
      "<class 'str'>\n"
     ]
    }
   ],
   "source": [
    "# 空字符串\n",
    "s = \"banana\"\n",
    "\n",
    "print(type(s))\n",
    "\n",
    "c ='a'\n",
    "\n",
    "print(type(c))\n",
    "\n",
    "# 字符串加法\n",
    "\n",
    "\n",
    "# 字符串乘法\n",
    "\n"
   ]
  },
  {
   "cell_type": "markdown",
   "metadata": {},
   "source": [
    "\n",
    "#### 问题1\n",
    "\n",
    "```\n",
    "s = \"python\" \n",
    "t = \"rocks\"\n",
    "print(s + t)\n",
    "```\n",
    "\n",
    "* (A) python rocks\n",
    "* (B) python\n",
    "* (C) pythonrocks\n",
    "* (D) Error, you cannot add two strings together.\n",
    "\n",
    "\n",
    "#### 问题2\n",
    "\n",
    "```\n",
    "s = \"python\"\n",
    "excl = \"!\"\n",
    "print(s+excl*3)\n",
    "```\n",
    "\n",
    "* (A) python!!!\n",
    "* (B) python!python!python!\n",
    "* (C) pythonpythonpython!\n",
    "* (D) Error, you cannot perform concatenation and repetition at the same time."
   ]
  },
  {
   "cell_type": "markdown",
   "metadata": {
    "collapsed": true
   },
   "source": [
    "### 字符串 index\n",
    "\n",
    "![](../images/indexvalues.png)"
   ]
  },
  {
   "cell_type": "code",
   "execution_count": 2,
   "metadata": {},
   "outputs": [
    {
     "name": "stdout",
     "output_type": "stream",
     "text": [
      "t\n",
      "e\n"
     ]
    }
   ],
   "source": [
    "\n",
    "### 字符串的定位\n",
    "\n",
    "# 打印第3个字符\n",
    "school = \"Luther College\"\n",
    "m = school[2]\n",
    "print(m)\n",
    "\n",
    "### 打印最后一个字符\n",
    "lastchar = school[-1]\n",
    "print(lastchar)\n"
   ]
  },
  {
   "cell_type": "markdown",
   "metadata": {},
   "source": [
    "#### 问题3  下面代码的输出是\n",
    "\n",
    "```\n",
    "s = \"python rocks\"\n",
    "print(s[3])\n",
    "```\n",
    "\n",
    "* (A) t\n",
    "* (B) h\n",
    "* (C) c\n",
    "* (D) Error, you cannot use the [ ] operator with a string.\n",
    "\n",
    "\n",
    "#### 问题4 下面代码的输出是？\n",
    "\n",
    "```\n",
    "s = \"python rocks\"\n",
    "print(s[2] + s[-5])\n",
    "```\n",
    "\n",
    "* (A) tr\n",
    "* (B) ps\n",
    "* (C) nn\n",
    "* (D) Error, you cannot use the [ ] operator with the + operator.\n",
    "\n",
    "\n",
    "#### 问题5．下面的表达式求值为什么？\n",
    "\n",
    "* 'Hello world!'[1]\n",
    "* 'Hello world!'[0:5]\n",
    "* 'Hello world!'[:5]\n",
    "* 'Hello world!'[3:]\n",
    "\n",
    "\n"
   ]
  },
  {
   "cell_type": "code",
   "execution_count": 7,
   "metadata": {
    "collapsed": true
   },
   "outputs": [],
   "source": [
    "# String的有用的函数\n",
    "\n",
    "# 大小写的转换和判断 (upper(), lower())\n",
    "\n",
    "\n",
    "\n",
    "# 字符串切割(split()) 和合并 (join())\n",
    "\n",
    "# “如果有一个字符串列表，需要将它们连接起来，成为一个单独的字符串，join()方法就很有用。\n",
    "# join()方法在一个字符串上调用，参数是一个字符串列表，返回一个字符串。”\n",
    "\n",
    "\n",
    "\n",
    "\n",
    "# “有时候你希望删除字符串左边、右边或两边的空白字符（空格、制表符和换行符）。\n",
    "# strip()字符串方法将返回一个新的字符串，它的开头或末尾都没有空白字符。\n",
    "# lstrip()和rstrip()方法将相应删除左边或右边的空白字符。”\n",
    "\n"
   ]
  },
  {
   "cell_type": "markdown",
   "metadata": {
    "collapsed": true
   },
   "source": [
    "\n",
    "#### 问题6．下面的表达式求值为什么？\n",
    "\n",
    "* 'Hello'.upper()\n",
    "\n",
    "* 'Hello'.upper().isupper()\n",
    "\n",
    "* 'Hello'.upper().lower()”\n",
    "\n",
    "\n",
    "#### 问题7．下面的表达式求值为什么？\n",
    "\n",
    "'Remember, remember, the fifth of November.'.split()\n",
    "\n",
    "'-'.join('There can be only one.'.split())”\n",
    "\n"
   ]
  },
  {
   "cell_type": "code",
   "execution_count": 6,
   "metadata": {},
   "outputs": [
    {
     "data": {
      "text/plain": [
       "'There-can-be-only-one.'"
      ]
     },
     "execution_count": 6,
     "metadata": {},
     "output_type": "execute_result"
    }
   ],
   "source": [
    "'Remember, remember, the fifth of November.'.split()\n",
    "'-'.join('There can be only one.'.split())"
   ]
  },
  {
   "cell_type": "code",
   "execution_count": null,
   "metadata": {
    "collapsed": true
   },
   "outputs": [],
   "source": []
  },
  {
   "cell_type": "code",
   "execution_count": null,
   "metadata": {
    "collapsed": true
   },
   "outputs": [],
   "source": []
  }
 ],
 "metadata": {
  "kernelspec": {
   "display_name": "Python [conda env:tensorflow]",
   "language": "python",
   "name": "conda-env-tensorflow-py"
  },
  "language_info": {
   "codemirror_mode": {
    "name": "ipython",
    "version": 3
   },
   "file_extension": ".py",
   "mimetype": "text/x-python",
   "name": "python",
   "nbconvert_exporter": "python",
   "pygments_lexer": "ipython3",
   "version": "3.6.2"
  }
 },
 "nbformat": 4,
 "nbformat_minor": 2
}
