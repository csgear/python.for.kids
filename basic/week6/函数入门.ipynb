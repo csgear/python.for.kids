{
 "cells": [
  {
   "cell_type": "markdown",
   "metadata": {},
   "source": [
    "### 第5周课程 【函数】\n",
    "* 什么是函数\n",
    "\n",
    "函数最重要的目的是方便我们重复使用相同的一段程序。\n",
    "将一些操作隶属于一个函数，以后你想实现相同的操作的时候，只用调用函数名就可以，而不需要重复敲所有的语句。\n",
    "\n",
    "你可以定义一个由自己想要功能的函数，以下是简单的规则：\n",
    "* 函数代码块以 def 关键词开头，后接函数标识符名称和圆括号()。\n",
    "* 任何传入参数和自变量必须放在圆括号中间。圆括号之间可以用于定义参数。\n",
    "* 函数的第一行语句可以选择性地使用文档字符串—用于存放函数说明。\n",
    "* 函数内容以冒号起始，并且缩进。\n",
    "* return [表达式] 结束函数，选择性地返回一个值给调用方。不带表达式的return相当于返回 None。\n"
   ]
  },
  {
   "cell_type": "code",
   "execution_count": 5,
   "metadata": {
    "collapsed": true
   },
   "outputs": [],
   "source": [
    "def square_sum(a,b):\n",
    "    c = a**2 + b**2\n",
    "    return c"
   ]
  },
  {
   "cell_type": "markdown",
   "metadata": {},
   "source": [
    "* 函数的定义\n",
    "\n",
    "```\n",
    "首先，def，这个关键字通知python：我在定义一个函数。square_sum是函数名。\n",
    "\n",
    "括号中的a, b是函数的参数，是对函数的输入。参数可以有多个，也可以完全没有（但括号要保留）。\n",
    "\n",
    "我们已经在循环和选择中见过冒号和缩进来表示的隶属关系。\n",
    "\n",
    "c = a**2 + b**2        # 这一句是函数内部进行的运算\n",
    "\n",
    "return c               # 返回c的值，也就是输出的功能。Python的函数允许不返回值，也就是不用return。\n",
    "\n",
    "return可以返回多个值，以逗号分隔。相当于返回一个tuple(定值表)。\n",
    "\n",
    "return a,b,c          # 相当于 return (a,b,c)\n",
    "\n",
    "```"
   ]
  },
  {
   "cell_type": "code",
   "execution_count": 6,
   "metadata": {},
   "outputs": [
    {
     "name": "stdout",
     "output_type": "stream",
     "text": [
      "25\n"
     ]
    }
   ],
   "source": [
    "result = square_sum(3,4)\n",
    "print(result)"
   ]
  },
  {
   "cell_type": "markdown",
   "metadata": {},
   "source": [
    "* 函数调用和参数传递\n",
    "\n",
    "定义过函数后，就可以在后面程序中使用这一函数\n",
    "\n",
    "print square_sum(3,4)\n",
    "Python通过位置，知道3对应的是函数定义中的第一个参数a,4对应第二个参数b，然后把参数传递给函数square_sum。\n",
    "\n",
    "（Python有丰富的参数传递方式，还有关键字传递、表传递、字典传递等，基础教程将只涉及位置传递）\n",
    "\n",
    "函数经过运算，返回值25, 这个25被print打印出来。\n",
    "\n"
   ]
  },
  {
   "cell_type": "code",
   "execution_count": 1,
   "metadata": {},
   "outputs": [
    {
     "name": "stdout",
     "output_type": "stream",
     "text": [
      "None\n"
     ]
    }
   ],
   "source": [
    "# If return statement is not used inside the function, the function will return: None\n",
    "def func():\n",
    "    pass\n",
    "\n",
    "a = func()\n",
    "\n",
    "print(a)"
   ]
  },
  {
   "cell_type": "markdown",
   "metadata": {
    "collapsed": true
   },
   "source": [
    "\n",
    "#### 问题1\n",
    "\n",
    "```\n",
    "def printLine(text):\n",
    "  print(text, 'is awesome.')\n",
    "\n",
    "printLine('Python')\n",
    "```\n",
    "\n",
    "* Python\n",
    "* text is awesome.\n",
    "* Python is awesome.\n",
    "* is awesome\n"
   ]
  },
  {
   "cell_type": "markdown",
   "metadata": {},
   "source": [
    "#### 编程1\n",
    "\n",
    "* 编写一个程序，排序一个列表中的数字的大小  【1，3，8，7，10，2】，结果是【1，2，3，7，8，10】 \n",
    "\n",
    "```\n",
    "def mySort(ls):\n",
    "    result = []\n",
    "    return result \n",
    "\n",
    "res = mySort([1, 3, 8, 7, 10, 2])\n",
    "\n",
    "print(res)  # [1，3，8，7，10，2]\n",
    "```\n"
   ]
  },
  {
   "cell_type": "code",
   "execution_count": null,
   "metadata": {
    "collapsed": true
   },
   "outputs": [],
   "source": [
    "\n"
   ]
  },
  {
   "cell_type": "code",
   "execution_count": 18,
   "metadata": {},
   "outputs": [
    {
     "name": "stdout",
     "output_type": "stream",
     "text": [
      "[10, 3, 8, 7, 1, 2]\n",
      "10 0\n",
      "[1, 3, 8, 7, 10, 2]\n"
     ]
    }
   ],
   "source": [
    "###### ls = [1,3,8,7,10,2]\n",
    "\n",
    "### 交换,把列表的第3个数字和第5个数字交换位置\n",
    "j=3\n",
    "i=5\n",
    "ls[i]\n",
    "ls[j]\n",
    "temp=ls[j]\n",
    "ls[j]=ls[i]\n",
    "ls[i]=temp\n",
    "print(ls)\n",
    "\n",
    "\n",
    "### 把最大的数字交换到最前面的数字\n",
    "lz=[1,3,8,7,10,2]\n",
    "\n",
    "a=0\n",
    "for x in lz\n",
    "    \n",
    "\n",
    "    \n",
    "### 把最小的数字交换到第1个数字\n",
    "\n"
   ]
  },
  {
   "cell_type": "code",
   "execution_count": null,
   "metadata": {
    "collapsed": true
   },
   "outputs": [],
   "source": []
  },
  {
   "cell_type": "markdown",
   "metadata": {},
   "source": [
    "### 编程2  编写一个程序，排序一个列表中的分数的大小\n",
    "\n",
    "```\n",
    "def mySort(ls):\n",
    "    result = []\n",
    "    return result \n",
    "    \n",
    "result = mySort(['1/2', '3/4', '5/8', '6/9'])\n",
    "\n",
    "print(result)\n",
    "\n",
    "```\n",
    "\n",
    "* 要求从小到大排序\n",
    "* 返回的是分数\n",
    "\n"
   ]
  },
  {
   "cell_type": "code",
   "execution_count": null,
   "metadata": {
    "collapsed": true
   },
   "outputs": [],
   "source": []
  },
  {
   "cell_type": "code",
   "execution_count": 10,
   "metadata": {},
   "outputs": [
    {
     "name": "stdout",
     "output_type": "stream",
     "text": [
      "['1/2', '3/4', '5/8', '6/9']\n"
     ]
    }
   ],
   "source": [
    "def mySort1(ls):\n",
    "    ls.sort()\n",
    "    result = ls\n",
    "    return result \n",
    "    \n",
    "result = mySort1(['1/2', '3/4', '5/8', '6/9'])\n",
    "\n",
    "print(result)"
   ]
  },
  {
   "cell_type": "code",
   "execution_count": 17,
   "metadata": {},
   "outputs": [
    {
     "name": "stdout",
     "output_type": "stream",
     "text": [
      "[0.5, 0.625, 0.6666666666666666, 0.75]\n"
     ]
    }
   ],
   "source": [
    "def mySort2(ls):\n",
    "    temp = {}\n",
    "    for x in ls:\n",
    "        temp[x] = float(x)\n",
    "    result = sorted(temp)\n",
    "    return result\n",
    "\n",
    "result = mySort2([1/2, 3/4, 5/8, 6/9])\n",
    "\n",
    "print(result)"
   ]
  },
  {
   "cell_type": "code",
   "execution_count": null,
   "metadata": {
    "collapsed": true
   },
   "outputs": [],
   "source": []
  },
  {
   "cell_type": "code",
   "execution_count": null,
   "metadata": {
    "collapsed": true
   },
   "outputs": [],
   "source": []
  },
  {
   "cell_type": "code",
   "execution_count": null,
   "metadata": {
    "collapsed": true
   },
   "outputs": [],
   "source": [
    "def selectionSort(alist):\n",
    "   for fillslot in range(len(alist)-1,0,-1):\n",
    "       positionOfMax=0\n",
    "       for location in range(1,fillslot+1):\n",
    "           if alist[location]>alist[positionOfMax]:\n",
    "               positionOfMax = location\n",
    "\n",
    "       temp = alist[fillslot]\n",
    "       alist[fillslot] = alist[positionOfMax]\n",
    "       alist[positionOfMax] = temp\n",
    "\n",
    "alist = [54,26,93,17,77,31,44,55,20]\n",
    "selectionSort(alist)\n",
    "print(alist)\n"
   ]
  },
  {
   "cell_type": "code",
   "execution_count": 2,
   "metadata": {},
   "outputs": [
    {
     "name": "stdout",
     "output_type": "stream",
     "text": [
      "Hello ('Frodo', 'Sauron')\n"
     ]
    }
   ],
   "source": [
    "def greetPerson(*name):\n",
    "  print('Hello', name)\n",
    "\n",
    "greetPerson('Frodo', 'Sauron')"
   ]
  },
  {
   "cell_type": "code",
   "execution_count": 3,
   "metadata": {},
   "outputs": [
    {
     "name": "stdout",
     "output_type": "stream",
     "text": [
      "3.141592653589793\n"
     ]
    }
   ],
   "source": [
    "from math import pi\n",
    "print(pi)"
   ]
  },
  {
   "cell_type": "code",
   "execution_count": 4,
   "metadata": {},
   "outputs": [
    {
     "name": "stdout",
     "output_type": "stream",
     "text": [
      "(1, 3, 6)\n"
     ]
    }
   ],
   "source": [
    "numbers = [1, 3, 6]\n",
    "newNumbers = tuple(map(lambda x: x , numbers))\n",
    "print(newNumbers)"
   ]
  },
  {
   "cell_type": "code",
   "execution_count": null,
   "metadata": {
    "collapsed": true
   },
   "outputs": [],
   "source": []
  }
 ],
 "metadata": {
  "kernelspec": {
   "display_name": "Python [conda env:tensorflow]",
   "language": "python",
   "name": "conda-env-tensorflow-py"
  },
  "language_info": {
   "codemirror_mode": {
    "name": "ipython",
    "version": 3
   },
   "file_extension": ".py",
   "mimetype": "text/x-python",
   "name": "python",
   "nbconvert_exporter": "python",
   "pygments_lexer": "ipython3",
   "version": "3.6.2"
  }
 },
 "nbformat": 4,
 "nbformat_minor": 2
}
