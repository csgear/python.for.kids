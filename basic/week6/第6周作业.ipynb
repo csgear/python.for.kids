{
 "cells": [
  {
   "cell_type": "markdown",
   "metadata": {},
   "source": [
    "### 第4周作业\n",
    "\n",
    "* countAll\n",
    " * 例如  “banana”， 返回 {\"a\":3, \"b\":1, \"n\":2}"
   ]
  },
  {
   "cell_type": "code",
   "execution_count": 4,
   "metadata": {},
   "outputs": [
    {
     "name": "stdout",
     "output_type": "stream",
     "text": [
      "16\n"
     ]
    }
   ],
   "source": [
    "## sumevennumber\n",
    "def sumevennumber (ls):\n",
    "    y = 0\n",
    "    for x in ls:\n",
    "        if x % 2 == 0:\n",
    "            y = y + x\n",
    "    return y\n",
    "\n",
    "a = [1,2,3,6,8]\n",
    "print(sumevennumber(a))\n",
    "\n",
    "# a = [1,2,3,6,8]\n",
    "# print(sumevennumber(a)) 输出16\n"
   ]
  },
  {
   "cell_type": "code",
   "execution_count": 11,
   "metadata": {},
   "outputs": [
    {
     "name": "stdout",
     "output_type": "stream",
     "text": [
      "hello my son and daugut.\n"
     ]
    }
   ],
   "source": [
    "\n",
    "## \n",
    "\n",
    "def concatstrings(ls):\n",
    "    y = \"\"\n",
    "    for x in ls[:-1]:\n",
    "        y = y + x +\" \"\n",
    "    y = y + ls[-1] +\".\"\n",
    "    return y\n",
    "    \n",
    "    \n",
    "\n",
    "b = [\"hello\", \"my\", \"son\", \"and\", \"daugut\"]\n",
    "print(concatstrings(b))\n",
    "\n",
    "    \n",
    "## b = [\"hello\",\"my\",\"son\",\"and\",\"daught\"]\n",
    "\n",
    "## print(concatstrings(b)) 应该返回 \"hello my son and daught.\""
   ]
  },
  {
   "cell_type": "code",
   "execution_count": 16,
   "metadata": {},
   "outputs": [
    {
     "name": "stdout",
     "output_type": "stream",
     "text": [
      "18\n"
     ]
    }
   ],
   "source": [
    "### 定义一个函数maxsum，取列表中两两相加的最大的结果\n",
    "\n",
    "def maxsum (ls):\n",
    "    y = 0\n",
    "    for i in range(0,len(ls)):\n",
    "        for x in range(i + 1,len(ls)):\n",
    "            if ls[i] + ls[x] > y:\n",
    "                y = ls[i] + ls[x]\n",
    "    return y \n",
    "\n",
    "c = [1,2,10,8,7]\n",
    "print(maxsum(c))\n",
    "\n",
    "\n",
    "\n",
    "# c = [1,2,10,8,7]\n",
    "# print(maxsum(c))  返回18，因为 10 + 8 是最大的两个数的和"
   ]
  },
  {
   "cell_type": "code",
   "execution_count": null,
   "metadata": {
    "collapsed": true
   },
   "outputs": [],
   "source": []
  },
  {
   "cell_type": "code",
   "execution_count": 26,
   "metadata": {},
   "outputs": [
    {
     "name": "stdout",
     "output_type": "stream",
     "text": [
      "True\n",
      "True\n",
      "False\n"
     ]
    }
   ],
   "source": [
    "### 定义一个函数 isSumEqual, 判断列表中是否有2个数相加等于k\n",
    "\n",
    "def isSumEqual(ls, k):\n",
    "    y = False\n",
    "    for i in range(0,len(ls)):\n",
    "        for x in range(i + 1,len(ls)):\n",
    "            if ls[i] + ls[x] == k:\n",
    "                y = True\n",
    "    return y\n",
    "\n",
    "d = [1,2,4,5,77,2,8]\n",
    "k = 6\n",
    "\n",
    "print(isSumEqual(d, 6))\n",
    "print(isSumEqual(d, 3))\n",
    "print(isSumEqual(d, 8))\n",
    "\n",
    "## print(isSumEqual(d, 6)) 返回True，因为 2 + 4 == 6\n",
    "## print(siSumEqual(d, 8)) 返回False，因为没有两个数相加 == 8"
   ]
  },
  {
   "cell_type": "code",
   "execution_count": null,
   "metadata": {
    "collapsed": true
   },
   "outputs": [],
   "source": []
  }
 ],
 "metadata": {
  "kernelspec": {
   "display_name": "Python [conda env:tensorflow]",
   "language": "python",
   "name": "conda-env-tensorflow-py"
  },
  "language_info": {
   "codemirror_mode": {
    "name": "ipython",
    "version": 3
   },
   "file_extension": ".py",
   "mimetype": "text/x-python",
   "name": "python",
   "nbconvert_exporter": "python",
   "pygments_lexer": "ipython3",
   "version": "3.6.2"
  }
 },
 "nbformat": 4,
 "nbformat_minor": 2
}
