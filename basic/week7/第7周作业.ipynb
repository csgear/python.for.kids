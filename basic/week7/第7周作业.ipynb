{
 "cells": [
  {
   "cell_type": "markdown",
   "metadata": {},
   "source": [
    "### 第4周作业\n",
    "\n",
    "* countAll\n",
    " * 例如  “banana”， 返回 {\"a\":3, \"b\":1, \"n\":2}"
   ]
  },
  {
   "cell_type": "code",
   "execution_count": 4,
   "metadata": {},
   "outputs": [
    {
     "name": "stdout",
     "output_type": "stream",
     "text": [
      "0 100\n",
      "1 2\n",
      "2 5\n",
      "3 4\n",
      "4 8\n",
      "5 10\n"
     ]
    }
   ],
   "source": [
    "ls = [100,2,5,4,8,10]\n",
    "\n",
    "for i, x in enumerate(ls):\n",
    "    print(i, x)"
   ]
  },
  {
   "cell_type": "code",
   "execution_count": 7,
   "metadata": {},
   "outputs": [
    {
     "name": "stdout",
     "output_type": "stream",
     "text": [
      "[100, 10, 8, 5, 4, 2]\n"
     ]
    }
   ],
   "source": [
    "\n",
    "def mySort(ls):\n",
    "    # sort ls in descending order\n",
    "    for i, x in enumerate(ls):\n",
    "        m = ls[i] \n",
    "        pos = i\n",
    "        for j in range(i+1, len(ls)):\n",
    "            if ls[j] > m:\n",
    "                m = ls[j]\n",
    "                pos = j\n",
    "        if pos != i:\n",
    "            temp = ls[i] \n",
    "            ls[i] = ls[pos]\n",
    "            ls[pos] = temp\n",
    "    return ls\n",
    "\n",
    "print(mySort(ls))"
   ]
  },
  {
   "cell_type": "code",
   "execution_count": null,
   "metadata": {
    "collapsed": true
   },
   "outputs": [],
   "source": []
  }
 ],
 "metadata": {
  "kernelspec": {
   "display_name": "Python [default]",
   "language": "python",
   "name": "python3"
  },
  "language_info": {
   "codemirror_mode": {
    "name": "ipython",
    "version": 3
   },
   "file_extension": ".py",
   "mimetype": "text/x-python",
   "name": "python",
   "nbconvert_exporter": "python",
   "pygments_lexer": "ipython3",
   "version": "3.6.2"
  }
 },
 "nbformat": 4,
 "nbformat_minor": 2
}
