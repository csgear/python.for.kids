{
 "cells": [
  {
   "cell_type": "markdown",
   "metadata": {},
   "source": [
    "### 第7周内容\n",
    "\n",
    "* 字典在Python中叫做 dict 字典，用花{}表示\n",
    "* 字典中的存储格式是 键/值 (key:value) \n",
    "* 字典的每个键值(key=>value)对用冒号(:)分割，每个对之间用逗号(,)分割，整个字典包括在花括号({})中。\n"
   ]
  },
  {
   "cell_type": "code",
   "execution_count": 2,
   "metadata": {},
   "outputs": [
    {
     "name": "stdout",
     "output_type": "stream",
     "text": [
      "<class 'dict'>\n",
      "apple\n"
     ]
    }
   ],
   "source": [
    "\n",
    "# --- list []  dictionary {}  tuple ()\n",
    "\n",
    "# 字典的定义 \n",
    "\n",
    "\n",
    "a = {} \n",
    "print(type(d))\n"
   ]
  },
  {
   "cell_type": "code",
   "execution_count": 3,
   "metadata": {},
   "outputs": [
    {
     "name": "stdout",
     "output_type": "stream",
     "text": [
      "apple\n",
      "['apple', 'almond']\n"
     ]
    }
   ],
   "source": [
    "## 水果名称\n",
    "\n",
    "b = {'a': 'apple', 'b':'banana', 'c': 'cherry'}\n",
    "\n",
    "print(b['a'])\n",
    "\n",
    "### 多个水果呢？ 可以是单个元素，也可以是个列表\n",
    "\n",
    "c = {'a': ['apple', 'almond'], 'b': ['Banana','Blueberry'], 'c': ['cherry','coconut']}\n",
    "\n",
    "print(c['a'])\n",
    "\n",
    "\n",
    "### key必须是唯一的\n",
    "\n",
    "dict = {'Name': 'Zara', 'Age': 7, 'Name': 'Manni'};\n"
   ]
  },
  {
   "cell_type": "code",
   "execution_count": 4,
   "metadata": {},
   "outputs": [
    {
     "name": "stdout",
     "output_type": "stream",
     "text": [
      "dict_keys(['apples', 'bananas', 'oranges', 'pears'])\n",
      "dict_values([430, 312, 525, 217])\n",
      "dict_items([('apples', 430), ('bananas', 312), ('oranges', 525), ('pears', 217)])\n"
     ]
    }
   ],
   "source": [
    "# 获取dict里面的数据， keys & values & items\n",
    "\n",
    "inventory = {'apples': 430, 'bananas': 312, 'oranges': 525, 'pears': 217}\n",
    "\n",
    "print(inventory.keys())\n",
    "print(inventory.values())\n",
    "print(inventory.items())\n",
    "\n"
   ]
  },
  {
   "cell_type": "code",
   "execution_count": null,
   "metadata": {
    "collapsed": true
   },
   "outputs": [],
   "source": [
    "for (k,v) in inventory.items():\n",
    "    print(\"Got\", k, \"that maps to\", v)\n",
    "\n",
    "for k in inventory:\n",
    "    print(\"Got\", k, \"that maps to\", inventory[k])\n"
   ]
  },
  {
   "cell_type": "code",
   "execution_count": 8,
   "metadata": {},
   "outputs": [
    {
     "name": "stdout",
     "output_type": "stream",
     "text": [
      "True\n",
      "False\n",
      "312\n"
     ]
    }
   ],
   "source": [
    "# 判断 key 是不是在 dict里面\n",
    "\n",
    "inventory = {'apples': 430, 'bananas': 312, 'oranges': 525, 'pears': 217}\n",
    "\n",
    "print('apples' in inventory)\n",
    "print('cherries' in inventory)\n",
    "\n",
    "if 'bananas' in inventory:\n",
    "    print(inventory['bananas'])\n",
    "else:\n",
    "    print(\"We have no bananas\")\n"
   ]
  },
  {
   "cell_type": "code",
   "execution_count": 10,
   "metadata": {},
   "outputs": [
    {
     "name": "stdout",
     "output_type": "stream",
     "text": [
      "430\n",
      "None\n",
      "525\n"
     ]
    },
    {
     "ename": "KeyError",
     "evalue": "'cherries'",
     "output_type": "error",
     "traceback": [
      "\u001b[0;31m---------------------------------------------------------------------------\u001b[0m",
      "\u001b[0;31mKeyError\u001b[0m                                  Traceback (most recent call last)",
      "\u001b[0;32m<ipython-input-10-8a7c8dbf9dff>\u001b[0m in \u001b[0;36m<module>\u001b[0;34m()\u001b[0m\n\u001b[1;32m      8\u001b[0m \u001b[0mprint\u001b[0m\u001b[0;34m(\u001b[0m\u001b[0minventory\u001b[0m\u001b[0;34m.\u001b[0m\u001b[0mget\u001b[0m\u001b[0;34m(\u001b[0m\u001b[0;34m\"oranges\"\u001b[0m\u001b[0;34m,\u001b[0m \u001b[0;36m0\u001b[0m\u001b[0;34m)\u001b[0m\u001b[0;34m)\u001b[0m\u001b[0;34m\u001b[0m\u001b[0m\n\u001b[1;32m      9\u001b[0m \u001b[0;34m\u001b[0m\u001b[0m\n\u001b[0;32m---> 10\u001b[0;31m \u001b[0mprint\u001b[0m\u001b[0;34m(\u001b[0m\u001b[0minventory\u001b[0m\u001b[0;34m[\u001b[0m\u001b[0;34m'cherries'\u001b[0m\u001b[0;34m]\u001b[0m\u001b[0;34m)\u001b[0m\u001b[0;34m\u001b[0m\u001b[0m\n\u001b[0m",
      "\u001b[0;31mKeyError\u001b[0m: 'cherries'"
     ]
    }
   ],
   "source": [
    "# 更通用的方法\n",
    "\n",
    "inventory = {'apples': 430, 'bananas': 312, 'oranges': 525, 'pears': 217}\n",
    "\n",
    "print(inventory.get(\"apples\"))\n",
    "print(inventory.get(\"cherries\"))\n",
    "\n",
    "print(inventory.get(\"oranges\", 0))\n",
    "\n",
    "print(inventory['cherries'])"
   ]
  },
  {
   "cell_type": "code",
   "execution_count": 6,
   "metadata": {},
   "outputs": [
    {
     "name": "stdout",
     "output_type": "stream",
     "text": [
      "{'ab': 'liming', 'ac': 20, 'sex': 'man'}\n",
      "['ab', 'ac', 'sex']\n",
      "['liming', 20, 'man']\n",
      "liming\n",
      "{'ab': 'liming', 'sex': 'man'}\n"
     ]
    }
   ],
   "source": [
    "# 字典习题:\n",
    "\n",
    "# 已知字典：ainfo = {'ab':'liming','ac':20}\n",
    "\n",
    "ainfo = {'ab':'liming','ac':20}\n",
    "\n",
    "# 1 使用2个方法，输出的结果：ainfo = {'ab':'liming','ac':20,'sex':'man','age':20}\n",
    "\n",
    "ainfo['sex'] = 'man'\n",
    "\n",
    "print(ainfo)\n",
    "\n",
    "# 2 输出结果：['ab','ac']\n",
    "\n",
    "print(list(ainfo.keys()))\n",
    "\n",
    "# 3 输出结果：['liming',20]\n",
    "\n",
    "print(list(ainfo.values()))\n",
    "\n",
    "# 4 通过2个方法返回键名ab对应的值。\n",
    "\n",
    "print(ainfo.get('ab'))\n",
    "\n",
    "# 5 通过2个方法删除键名ac对应的值。\n",
    "\n",
    "del ainfo['ac']\n",
    "\n",
    "print(ainfo)"
   ]
  },
  {
   "cell_type": "code",
   "execution_count": null,
   "metadata": {
    "collapsed": true
   },
   "outputs": [],
   "source": [
    "\n",
    "# 统计peter parker的平均分\n",
    "\n",
    "a={1:\"cc\",2:\"tom\"}\n",
    "b={1:[100,80],2:[30,50]}\n",
    "stud=a\n",
    "score=b\n",
    "print(a[2],b[2][0])\n",
    "a[3]=\"peter\"\n",
    "a[4]=\"parker\"\n",
    "b[3]=[100,100]\n",
    "b[4]=[-10,-10]\n",
    "print(a)\n",
    "print(b)\n",
    "print((b[1][0]+b[2][0]+b[3][0]+b[4][0])/4)\n",
    "\n",
    "for x in a:\n",
    "    xuehao=[x]\n",
    "    xingming=a[x]\n",
    "    chenji=b[x]\n",
    "    s=0\n",
    "    for y in b[x]:\n",
    "        s=s+y\n",
    "    pinjunchenji= s / len(b[x])\n",
    "    print(xuehao,xingming,pinjunchenji)\n",
    "    "
   ]
  },
  {
   "cell_type": "markdown",
   "metadata": {},
   "source": [
    "\n",
    "#### 编程1\n",
    "\n",
    "* 给出一个字符串，只包含小写字母，返回每个字符出现的次数\n",
    " * aaaaabbb，返回 {‘a':5, 'b':3} \n",
    " * adhceeed, 返回 {‘a‘: 1， ’c‘: }\n",
    " \n"
   ]
  },
  {
   "cell_type": "code",
   "execution_count": 5,
   "metadata": {},
   "outputs": [
    {
     "name": "stdout",
     "output_type": "stream",
     "text": [
      "{'a': 5, 'b': 3}\n"
     ]
    }
   ],
   "source": [
    "\n"
   ]
  },
  {
   "cell_type": "code",
   "execution_count": null,
   "metadata": {
    "collapsed": true
   },
   "outputs": [],
   "source": []
  },
  {
   "cell_type": "code",
   "execution_count": null,
   "metadata": {
    "collapsed": true
   },
   "outputs": [],
   "source": []
  },
  {
   "cell_type": "code",
   "execution_count": null,
   "metadata": {
    "collapsed": true
   },
   "outputs": [],
   "source": [
    "\n",
    " "
   ]
  }
 ],
 "metadata": {
  "kernelspec": {
   "display_name": "Python [default]",
   "language": "python",
   "name": "python3"
  },
  "language_info": {
   "codemirror_mode": {
    "name": "ipython",
    "version": 3
   },
   "file_extension": ".py",
   "mimetype": "text/x-python",
   "name": "python",
   "nbconvert_exporter": "python",
   "pygments_lexer": "ipython3",
   "version": "3.6.2"
  }
 },
 "nbformat": 4,
 "nbformat_minor": 2
}
