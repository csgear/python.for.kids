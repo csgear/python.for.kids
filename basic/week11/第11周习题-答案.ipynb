{
 "cells": [
  {
   "cell_type": "code",
   "execution_count": 1,
   "metadata": {
    "collapsed": true
   },
   "outputs": [],
   "source": [
    "\n",
    "# 上周内容复习\n",
    "\n",
    "# 双重循环的框架\n",
    "# 移动窗口的技巧，\n",
    "# 简单的排序算法（冒泡排序）\n",
    "\n"
   ]
  },
  {
   "cell_type": "code",
   "execution_count": null,
   "metadata": {
    "collapsed": true
   },
   "outputs": [],
   "source": [
    "# 简单回顾一下变量\n",
    "\n",
    "# 定义一个int变量，初始值是0\n",
    "# 定义一个list变量，初始值包含数字1，2\n",
    "# 定义一个dict变量，初始值是 字母a,b, 对应的value是1，2\n",
    "\n",
    "# 在编程中，要设计好需要哪些变量，变量的定义是什么，譬如 a 保存列表的最大值\n",
    "\n",
    "# 问题，如果要选出一个列表里面的最小值，定义一个变量b，来存储最小值，这个最小值的初始化值是多少呢？\n"
   ]
  },
  {
   "cell_type": "code",
   "execution_count": 2,
   "metadata": {
    "collapsed": true
   },
   "outputs": [],
   "source": [
    "# 习题，双重循环以外的练习，下面两道题比较类似，需要用到字典和多重循环\n",
    "\n"
   ]
  },
  {
   "cell_type": "markdown",
   "metadata": {},
   "source": [
    "\n",
    "### Two Sum 两数之和\n",
    "\n",
    "给出一个整数的数组，返回两个数的下标，这两个数的和等于制定的一个目标数\n",
    "\n",
    "例如，整数列表 nums [2, 7, 11, 15]，目标是9\n",
    "\n",
    "nums[0] + nums[1] = 2 + 7 = 9,\n",
    "\n",
    "return [0, 1].\n"
   ]
  },
  {
   "cell_type": "code",
   "execution_count": 3,
   "metadata": {
    "collapsed": true
   },
   "outputs": [],
   "source": [
    "def twoSum(nums, target): \n",
    "    idxDict = dict()\n",
    "    temp = []\n",
    "    for idx, num in enumerate(nums):\n",
    "        if target - num in idxDict:\n",
    "            temp.append([idxDict[target - num], idx])\n",
    "        idxDict[num] = idx\n",
    "    # print(len(temp)) \n",
    "    return temp\n",
    "\n"
   ]
  },
  {
   "cell_type": "code",
   "execution_count": 4,
   "metadata": {},
   "outputs": [
    {
     "name": "stdout",
     "output_type": "stream",
     "text": [
      "[[0, 1]]\n"
     ]
    }
   ],
   "source": [
    "print(twoSum([2,7,11,15], 9))"
   ]
  },
  {
   "cell_type": "code",
   "execution_count": null,
   "metadata": {
    "collapsed": true
   },
   "outputs": [],
   "source": []
  },
  {
   "cell_type": "markdown",
   "metadata": {},
   "source": [
    "\n",
    "### Remove Duplicates from Sorted Array 有序数组中去除重复项\n",
    "\n",
    "Given a sorted array, remove the duplicates in place such that each element appear only once and return the new length.\n",
    "\n",
    "Do not allocate extra space for another array, you must do this in place with constant memory.\n",
    "\n",
    "For example,\n",
    "Given input array A = [1,1,2],\n",
    "\n",
    "Your function should return length = 2, and A is now [1,2]."
   ]
  },
  {
   "cell_type": "code",
   "execution_count": 6,
   "metadata": {
    "collapsed": true
   },
   "outputs": [],
   "source": [
    "def removeDuplicates(A):\n",
    "    if not A:\n",
    "        return 0\n",
    "        \n",
    "    last, i = 0, 1\n",
    "    while i < len(A):\n",
    "        if A[last] != A[i]:\n",
    "            last += 1\n",
    "            A[last] = A[i]\n",
    "        i += 1\n",
    "\n",
    "    return A[:last + 1]\n",
    "\n"
   ]
  },
  {
   "cell_type": "code",
   "execution_count": 7,
   "metadata": {},
   "outputs": [
    {
     "name": "stdout",
     "output_type": "stream",
     "text": [
      "[1, 2]\n"
     ]
    }
   ],
   "source": [
    "l = [1, 1, 2]\n",
    "\n",
    "print(removeDuplicates(l))"
   ]
  },
  {
   "cell_type": "code",
   "execution_count": null,
   "metadata": {
    "collapsed": true
   },
   "outputs": [],
   "source": []
  },
  {
   "cell_type": "markdown",
   "metadata": {},
   "source": [
    "### Majority Element\n",
    "\n",
    "Given an array of size n, find the majority element. \n",
    "The majority element is the element that appears more than ⌊ n/2 ⌋ times.\n",
    "\n",
    "You may assume that the array is non-empty and the majority \n",
    "element always exist in the array."
   ]
  },
  {
   "cell_type": "code",
   "execution_count": 18,
   "metadata": {
    "collapsed": true
   },
   "outputs": [],
   "source": [
    "\n",
    "l = [1,2,1,4,1,2,1]\n",
    "\n",
    "def majorityElement(num):\n",
    "    d = {}\n",
    "    l = len(num)\n",
    "    for i in num:\n",
    "        if i in d:\n",
    "            d[i] += 1\n",
    "            if d[i] > l/2:\n",
    "                return i\n",
    "        else:\n",
    "            d[i] = 1\n",
    "            if d[i] > l/2:\n",
    "                return i"
   ]
  },
  {
   "cell_type": "code",
   "execution_count": 19,
   "metadata": {},
   "outputs": [
    {
     "name": "stdout",
     "output_type": "stream",
     "text": [
      "1\n"
     ]
    }
   ],
   "source": [
    "print(majorityElement(l))"
   ]
  },
  {
   "cell_type": "code",
   "execution_count": null,
   "metadata": {
    "collapsed": true
   },
   "outputs": [],
   "source": []
  },
  {
   "cell_type": "markdown",
   "metadata": {},
   "source": [
    "# 3sum\n",
    "\n",
    "\n",
    "Given an array S of n integers, are there elements a, b, c in S such that a + b + c = 0? Find all unique triplets in the array which gives the sum of zero.\n",
    "\n",
    "Note:\n",
    "\n",
    "Elements in a triplet (a,b,c) must be in non-descending order. (ie, a ≤ b ≤ c)\n",
    "The solution set must not contain duplicate triplets.\n",
    " \n",
    "\n",
    "    For example, given array S = {-1 0 1 2 -1 -4},\n",
    "\n",
    "    A solution set is:\n",
    "    (-1, 0, 1)\n",
    "    (-1, -1, 2)"
   ]
  },
  {
   "cell_type": "code",
   "execution_count": null,
   "metadata": {
    "collapsed": true
   },
   "outputs": [],
   "source": []
  }
 ],
 "metadata": {
  "kernelspec": {
   "display_name": "Python [conda root]",
   "language": "python",
   "name": "conda-root-py"
  },
  "language_info": {
   "codemirror_mode": {
    "name": "ipython",
    "version": 3
   },
   "file_extension": ".py",
   "mimetype": "text/x-python",
   "name": "python",
   "nbconvert_exporter": "python",
   "pygments_lexer": "ipython3",
   "version": "3.6.2"
  }
 },
 "nbformat": 4,
 "nbformat_minor": 2
}
