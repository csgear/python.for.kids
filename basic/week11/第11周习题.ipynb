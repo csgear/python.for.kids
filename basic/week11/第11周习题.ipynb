{
 "cells": [
  {
   "cell_type": "code",
   "execution_count": 1,
   "metadata": {
    "collapsed": true
   },
   "outputs": [],
   "source": [
    "\n",
    "# 上周内容复习\n",
    "\n",
    "# 双重循环的框架\n",
    "# 移动窗口的技巧，\n",
    "# 简单的排序算法（冒泡排序）\n",
    "\n"
   ]
  },
  {
   "cell_type": "code",
   "execution_count": null,
   "metadata": {
    "collapsed": true
   },
   "outputs": [],
   "source": [
    "# 简单回顾一下变量\n",
    "\n",
    "# 定义一个int变量，初始值是0\n",
    "# 定义一个list变量，初始值包含数字1，2\n",
    "# 定义一个dict变量，初始值是 字母a,b, 对应的value是1，2\n",
    "\n",
    "# 在编程中，要设计好需要哪些变量，变量的定义是什么，譬如 a 保存列表的最大值\n",
    "\n",
    "# 问题，如果要选出一个列表里面的最小值，定义一个变量b，来存储最小值，这个最小值的初始化值是多少呢？\n"
   ]
  },
  {
   "cell_type": "code",
   "execution_count": 2,
   "metadata": {
    "collapsed": true
   },
   "outputs": [],
   "source": [
    "# 习题，双重循环以外的练习，下面两道题比较类似，需要用到字典和多重循环\n",
    "\n"
   ]
  },
  {
   "cell_type": "markdown",
   "metadata": {},
   "source": [
    "\n",
    "### Two Sum 两数之和\n",
    "\n",
    "Given an array of integers, return indices of the two numbers such that they add up to a specific target.\n",
    "\n",
    "You may assume that each input would have exactly one solution.\n",
    "\n",
    "Example:\n",
    "\n",
    "Given nums = [2, 7, 11, 15], target = 9,\n",
    "\n",
    "Because nums[0] + nums[1] = 2 + 7 = 9,\n",
    "return [0, 1].\n"
   ]
  },
  {
   "cell_type": "code",
   "execution_count": null,
   "metadata": {
    "collapsed": true
   },
   "outputs": [],
   "source": []
  },
  {
   "cell_type": "markdown",
   "metadata": {},
   "source": [
    "# 3sum\n",
    "\n",
    "\n",
    "Given an array S of n integers, are there elements a, b, c in S such that a + b + c = 0? Find all unique triplets in the array which gives the sum of zero.\n",
    "\n",
    "Note:\n",
    "\n",
    "Elements in a triplet (a,b,c) must be in non-descending order. (ie, a ≤ b ≤ c)\n",
    "The solution set must not contain duplicate triplets.\n",
    " \n",
    "\n",
    "    For example, given array S = {-1 0 1 2 -1 -4},\n",
    "\n",
    "    A solution set is:\n",
    "    (-1, 0, 1)\n",
    "    (-1, -1, 2)"
   ]
  },
  {
   "cell_type": "code",
   "execution_count": null,
   "metadata": {
    "collapsed": true
   },
   "outputs": [],
   "source": []
  },
  {
   "cell_type": "markdown",
   "metadata": {},
   "source": [
    "\n",
    "### Remove Duplicates from Sorted Array 有序数组中去除重复项\n",
    "\n",
    "Given a sorted array, remove the duplicates in place such that each element appear only once and return the new length.\n",
    "\n",
    "Do not allocate extra space for another array, you must do this in place with constant memory.\n",
    "\n",
    "For example,\n",
    "Given input array A = [1,1,2],\n",
    "\n",
    "Your function should return length = 2, and A is now [1,2]."
   ]
  },
  {
   "cell_type": "code",
   "execution_count": null,
   "metadata": {
    "collapsed": true
   },
   "outputs": [],
   "source": []
  }
 ],
 "metadata": {
  "kernelspec": {
   "display_name": "Python [conda root]",
   "language": "python",
   "name": "conda-root-py"
  },
  "language_info": {
   "codemirror_mode": {
    "name": "ipython",
    "version": 3
   },
   "file_extension": ".py",
   "mimetype": "text/x-python",
   "name": "python",
   "nbconvert_exporter": "python",
   "pygments_lexer": "ipython3",
   "version": "3.6.2"
  }
 },
 "nbformat": 4,
 "nbformat_minor": 2
}
