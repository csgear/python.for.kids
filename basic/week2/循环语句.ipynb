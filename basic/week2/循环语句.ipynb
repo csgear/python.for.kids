{
 "cells": [
  {
   "cell_type": "markdown",
   "metadata": {},
   "source": [
    "#while语句\n",
    "'''\n",
    "while 判断条件：\n",
    "    执行语句……\n",
    "'''"
   ]
  },
  {
   "cell_type": "code",
   "execution_count": null,
   "metadata": {
    "collapsed": true
   },
   "outputs": [],
   "source": [
    "\n",
    "count = 0\n",
    "while (count < 9):\n",
    "   print 'The count is:', count\n",
    "   count = count + 1\n",
    " \n",
    "print \"Good bye!\"\n",
    " \n",
    "# continue 和 break 用法\n",
    " \n",
    "i = 1\n",
    "while i < 10:   \n",
    "    i += 1\n",
    "    if i%2 > 0:     # 非双数时跳过输出\n",
    "        continue\n",
    "    print i         # 输出双数2、4、6、8、10\n",
    " \n",
    "i = 1\n",
    "while 1:            # 循环条件为1必定成立\n",
    "    print i         # 输出1~10\n",
    "    i += 1\n",
    "    if i > 10:     # 当i大于10时跳出循环\n",
    "        break\n",
    " \n"
   ]
  },
  {
   "cell_type": "code",
   "execution_count": null,
   "metadata": {
    "collapsed": true
   },
   "outputs": [],
   "source": [
    "#死循环\n",
    "'''\n",
    "var = 1\n",
    "while var == 1 :  # 该条件永远为true，循环将无限执行下去\n",
    "   num = raw_input(\"Enter a number  :\")\n",
    "   print \"You entered: \", num\n",
    " \n",
    "print \"Good bye!\"\n",
    "'''\n",
    " \n",
    " \n",
    "#while … else \n",
    "count = 0\n",
    "while count < 5:\n",
    "   print count, \" is  less than 5\"\n",
    "   count = count + 1\n",
    "else:\n",
    "   print count, \" is not less than 5\"\n",
    " \n",
    "#简单语句组\n",
    "flag = 1\n",
    "while (flag): print 'Given flag is really true!';flag=0;\n",
    "print \"Good bye!\"\n",
    " \n"
   ]
  },
  {
   "cell_type": "markdown",
   "metadata": {},
   "source": [
    "#for语句\n",
    "\n",
    "```\n",
    "for iterating_var in sequence:\n",
    "   statements(s)\n",
    "```\n"
   ]
  },
  {
   "cell_type": "code",
   "execution_count": null,
   "metadata": {
    "collapsed": true
   },
   "outputs": [],
   "source": [
    "for letter in 'Python':     # 第一个实例\n",
    "   print '当前字母 :', letter\n",
    " \n",
    "fruits = ['banana', 'apple',  'mango']\n",
    "for fruit in fruits:        # 第二个实例\n",
    "   print '当前水果 :', fruit\n",
    " \n",
    "print \"Good bye!\"\n",
    " \n",
    "#序列索引迭代\n",
    "fruits = ['banana', 'apple',  'mango']\n",
    "for index in range(len(fruits)):\n",
    "   print '当前水果 :', fruits[index]\n",
    " \n",
    "print \"Good bye!\"\n",
    " \n",
    "#for...else\n",
    "for num in range(10,20):  # 迭代 10 到 20 之间的数字\n",
    "   for i in range(2,num): # 根据因子迭代\n",
    "      if num%i == 0:      # 确定第一个因子\n",
    "         j=num/i          # 计算第二个因子\n",
    "         print '%d 等于 %d * %d' % (num,i,j)\n",
    "         break            # 跳出当前循环\n",
    "   else:                  # 循环的 else 部分\n",
    "      print num, '是一个质数'\n",
    " \n"
   ]
  },
  {
   "cell_type": "code",
   "execution_count": null,
   "metadata": {
    "collapsed": true
   },
   "outputs": [],
   "source": [
    "#嵌套循环\n",
    "i = 2\n",
    "while(i < 100):\n",
    "   j = 2\n",
    "   while(j <= (i/j)):\n",
    "      if not(i%j): break\n",
    "      j = j + 1\n",
    "   if (j > i/j) : print i, \" 是素数\"\n",
    "   i = i + 1\n",
    " \n",
    "print \"Good bye!\"\n",
    " \n",
    "#break语句\n",
    "for letter in 'Python':     # First Example\n",
    "   if letter == 'h':\n",
    "      break\n",
    "   print 'Current Letter :', letter\n",
    "   \n",
    "var = 10                    # Second Example\n",
    "while var > 0:              \n",
    "   print 'Current variable value :', var\n",
    "   var = var -1\n",
    "   if var == 5:\n",
    "      break\n",
    " \n",
    "print \"Good bye!\"\n",
    " \n",
    "#continue语句\n",
    "for letter in 'Python':     # 第一个实例\n",
    "   if letter == 'h':\n",
    "      continue\n",
    "   print '当前字母 :', letter\n",
    " \n",
    "var = 10                    # 第二个实例\n",
    "while var > 0:              \n",
    "   var = var -1\n",
    "   if var == 5:\n",
    "      continue\n",
    "   print '当前变量值 :', var\n",
    "print \"Good bye!\"\n",
    " \n",
    "#pass语句\n",
    "# 输出 Python 的每个字母\n",
    "for letter in 'Python':\n",
    "   if letter == 'h':\n",
    "      pass\n",
    "      print '这是 pass 块'\n",
    "   print '当前字母 :', letter\n",
    " \n",
    "print \"Good bye!\""
   ]
  }
 ],
 "metadata": {
  "kernelspec": {
   "display_name": "Python [conda env:tensorflow]",
   "language": "python",
   "name": "conda-env-tensorflow-py"
  },
  "language_info": {
   "codemirror_mode": {
    "name": "ipython",
    "version": 3
   },
   "file_extension": ".py",
   "mimetype": "text/x-python",
   "name": "python",
   "nbconvert_exporter": "python",
   "pygments_lexer": "ipython3",
   "version": "3.6.2"
  }
 },
 "nbformat": 4,
 "nbformat_minor": 2
}
