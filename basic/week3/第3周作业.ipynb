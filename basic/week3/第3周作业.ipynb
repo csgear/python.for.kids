{
 "cells": [
  {
   "cell_type": "markdown",
   "metadata": {
    "collapsed": true
   },
   "source": [
    "### 第四周作业"
   ]
  },
  {
   "cell_type": "markdown",
   "metadata": {},
   "source": [
    "#### 概念题\n",
    "\n",
    "* 请写出下面习题的答案\n",
    "\n",
    " * ‘Python’[1] [y]\n",
    " * “Strings are sequences of characters.”[5] [g]\n",
    " * len(“wonderful”)   [0:9]\n",
    " * ‘Mystery’[:4]      [Mys]\n",
    " * ‘p’ in ‘Pineapple’ [true]\n",
    " * ‘apple’ in ‘Pineapple’[true]\n",
    " * ‘pear’ not in ‘Pineapple’[true]\n",
    " * ‘apple’ > ‘pineapple’ [false]\n",
    " * ‘pineapple’ < ‘Peach’   [false]"
   ]
  },
  {
   "cell_type": "code",
   "execution_count": 3,
   "metadata": {},
   "outputs": [
    {
     "name": "stdout",
     "output_type": "stream",
     "text": [
      "3479\n"
     ]
    }
   ],
   "source": [
    "# 编程题1 请将a字符串的数字取出，并输出成一个新的字符串。\n",
    "\n",
    "def getNumbers(s):\n",
    "    \"\"\"\n",
    "    参数\n",
    "        s: 输入的字符串\n",
    "    返回\n",
    "        数字字符串\n",
    "    \"\"\"\n",
    "    \n",
    "    result = \"\"\n",
    "    for x in s:\n",
    "        if '0'<=x<='9':\n",
    "            result+=x\n",
    "            \n",
    "    return result \n",
    "\n",
    "s = \"aAsmr3idd4bgs7Dlsf9eAF\"\n",
    "\n",
    "print(getNumbers(s))   # 应该打印34799\n"
   ]
  },
  {
   "cell_type": "code",
   "execution_count": 5,
   "metadata": {},
   "outputs": [
    {
     "name": "stdout",
     "output_type": "stream",
     "text": [
      "aAsmriddbgsDlsfeF\n"
     ]
    }
   ],
   "source": [
    "# 编程题1 请将a字符串的不是数字取出来，并输出成一个新的字符串。\n",
    "\n",
    "def getNotNumbers(s):\n",
    "    \"\"\"\n",
    "    参数\n",
    "        s: 输入的字符串\n",
    "    返回\n",
    "        数字字符串\n",
    "    \"\"\"\n",
    "    \n",
    "    result = \"\"\n",
    "    for x in s:\n",
    "        if x<'0' or x>'9':\n",
    "            result+=x\n",
    "\n",
    "    return result \n",
    "\n",
    "s = \"aAsmr3idd4bgs7Dlsf9eA9F\"\n",
    "\n",
    "print(getNotNumbers(s))   \n"
   ]
  },
  {
   "cell_type": "code",
   "execution_count": 11,
   "metadata": {},
   "outputs": [
    {
     "name": "stdout",
     "output_type": "stream",
     "text": [
      "addwiiw\n"
     ]
    }
   ],
   "source": [
    "# 编程题2： 写一个函数，删除一个字符串s中出现的字符c，返回删除后的字符串，\n",
    "\n",
    "def removeOccur(s, c):\n",
    "    \"\"\"\n",
    "    参数：\n",
    "        s：输入的字符串\n",
    "        c: 需要删除的字符\n",
    "    返回：\n",
    "        新的字符串不包含c\n",
    "    \"\"\"\n",
    "    result = \"\"\n",
    "    for x in s:\n",
    "        if x<c or x>c:\n",
    "            result+=x\n",
    "    return result\n",
    "\n",
    "\n",
    "s =\"akddkkwiiw\"\n",
    "q =\"k\"\n",
    "print(removeOccur(s,q))  # 返回 addwiiw"
   ]
  },
  {
   "cell_type": "code",
   "execution_count": null,
   "metadata": {
    "collapsed": true
   },
   "outputs": [],
   "source": []
  },
  {
   "cell_type": "code",
   "execution_count": 22,
   "metadata": {},
   "outputs": [
    {
     "name": "stdout",
     "output_type": "stream",
     "text": [
      "2\n"
     ]
    }
   ],
   "source": [
    "# 编程3： 写一个函数返回一个字符串中的数字的个数,重复的数字算1个\n",
    "\n",
    "def countDigits(s):\n",
    "    \"\"\"\n",
    "    参数：\n",
    "        s: 输入的字符串\n",
    "    输出：\n",
    "        整数，数字字符的个数\n",
    "    \"\"\"\n",
    "    result = 0\n",
    "    for x in \"0123456789\":\n",
    "        cnt =0\n",
    "        for c in s:\n",
    "            if c==x:\n",
    "                cnt+=1\n",
    "        if cnt>1:\n",
    "            result+=1\n",
    "        \n",
    "    return result \n",
    "    \n",
    "s = \"1223342\"\n",
    "\n",
    "print(countDigits(s))  # 个数是5\n"
   ]
  },
  {
   "cell_type": "code",
   "execution_count": 16,
   "metadata": {
    "collapsed": true
   },
   "outputs": [],
   "source": [
    "# 编程4 请去除a字符串多次出现的字母，仅留最先出现的一个,大小写不敏感。\n",
    "# 例 'aAsmr3idd4bgs7Dlsf9eAF'，经过去除后，输出 'asmr3id4bg7lf9e'\n",
    "\n"
   ]
  },
  {
   "cell_type": "code",
   "execution_count": null,
   "metadata": {
    "collapsed": true
   },
   "outputs": [],
   "source": []
  },
  {
   "cell_type": "code",
   "execution_count": null,
   "metadata": {
    "collapsed": true
   },
   "outputs": [],
   "source": [
    "#### 编程5：打印乘法口诀表 Print out a neatly formatted multiplication table, up to 12 x 12.\n",
    "\n",
    "for i in range(1, 13):\n",
    "    print(\"{:<4d} * {:4d} = {:4d}\".format(i, i , i * i))"
   ]
  }
 ],
 "metadata": {
  "kernelspec": {
   "display_name": "Python [conda env:tensorflow]",
   "language": "python",
   "name": "conda-env-tensorflow-py"
  },
  "language_info": {
   "codemirror_mode": {
    "name": "ipython",
    "version": 3
   },
   "file_extension": ".py",
   "mimetype": "text/x-python",
   "name": "python",
   "nbconvert_exporter": "python",
   "pygments_lexer": "ipython3",
   "version": "3.6.2"
  }
 },
 "nbformat": 4,
 "nbformat_minor": 2
}
