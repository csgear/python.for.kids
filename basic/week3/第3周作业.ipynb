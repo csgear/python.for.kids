{
 "cells": [
  {
   "cell_type": "markdown",
   "metadata": {
    "collapsed": true
   },
   "source": [
    "### 第三周作业\n",
    "\n",
    "* 给定一个字符串，只包含小写字符，返回字符‘a',出现的次数\n",
    "\n"
   ]
  },
  {
   "cell_type": "markdown",
   "metadata": {},
   "source": [
    "#### 概念题\n",
    "\n",
    "* 请写出下面习题的答案\n",
    "\n",
    " * ‘Python’[1]   \n",
    " * “Strings are sequences of characters.”[5]\n",
    " * len(“wonderful”)\n",
    " * ‘Mystery’[:4]\n",
    " * ‘p’ in ‘Pineapple’\n",
    " * ‘apple’ in ‘Pineapple’\n",
    " * ‘pear’ not in ‘Pineapple’\n",
    " * ‘apple’ > ‘pineapple’\n",
    " * ‘pineapple’ < ‘Peach’   "
   ]
  },
  {
   "cell_type": "code",
   "execution_count": null,
   "metadata": {
    "collapsed": true
   },
   "outputs": [],
   "source": []
  },
  {
   "cell_type": "code",
   "execution_count": 2,
   "metadata": {},
   "outputs": [
    {
     "name": "stdout",
     "output_type": "stream",
     "text": [
      "4\n"
     ]
    }
   ],
   "source": [
    "# 编程题1 给定一个字符串，只包含小写字符，返回字符‘a',出现的次数\n",
    "\n",
    "s = \"aaaabbc\"\n",
    "\n",
    "cnt = 0 \n",
    "\n",
    "for c in s:\n",
    "    if c == 'a':\n",
    "        cnt +=1 \n",
    "\n",
    "print(cnt)"
   ]
  },
  {
   "cell_type": "code",
   "execution_count": 6,
   "metadata": {},
   "outputs": [
    {
     "name": "stdout",
     "output_type": "stream",
     "text": [
      "1    *    1 =    1\n",
      "2    *    2 =    4\n",
      "3    *    3 =    9\n",
      "4    *    4 =   16\n",
      "5    *    5 =   25\n",
      "6    *    6 =   36\n",
      "7    *    7 =   49\n",
      "8    *    8 =   64\n",
      "9    *    9 =   81\n",
      "10   *   10 =  100\n",
      "11   *   11 =  121\n",
      "12   *   12 =  144\n"
     ]
    }
   ],
   "source": [
    "#### 编程2：打印乘法口诀表 Print out a neatly formatted multiplication table, up to 12 x 12.\n",
    "\n",
    "for i in range(1, 13):\n",
    "    print(\"{:<4d} * {:4d} = {:4d}\".format(i, i , i * i))"
   ]
  },
  {
   "cell_type": "code",
   "execution_count": 1,
   "metadata": {},
   "outputs": [
    {
     "name": "stdout",
     "output_type": "stream",
     "text": [
      "9\n"
     ]
    }
   ],
   "source": [
    "# 编程3： 写一个函数返回一个字符串中的数字的个数\n",
    "\n",
    "n = 129299392  # 个数是3，分别是1，2，9\n",
    "\n"
   ]
  },
  {
   "cell_type": "code",
   "execution_count": 4,
   "metadata": {},
   "outputs": [
    {
     "name": "stdout",
     "output_type": "stream",
     "text": [
      "addwiiw\n"
     ]
    }
   ],
   "source": [
    "# 编程4： 写一个函数，删除一个字符串s中出现的字符c，返回删除后的字符串，\n",
    "\n",
    "s = 'akdkkdwiiw'\n",
    "c = 'k'\n",
    "\n",
    "# 返回 addwiiw\n",
    "\n",
    "def removeOccur(s, c):\n",
    "    res = \"\"\n",
    "    for i in s:\n",
    "        if(i != c):\n",
    "            res += i \n",
    "    return res\n",
    "\n",
    "print(removeOccur(s,c))"
   ]
  },
  {
   "cell_type": "code",
   "execution_count": null,
   "metadata": {
    "collapsed": true
   },
   "outputs": [],
   "source": []
  }
 ],
 "metadata": {
  "kernelspec": {
   "display_name": "Python [conda env:tensorflow]",
   "language": "python",
   "name": "conda-env-tensorflow-py"
  },
  "language_info": {
   "codemirror_mode": {
    "name": "ipython",
    "version": 3
   },
   "file_extension": ".py",
   "mimetype": "text/x-python",
   "name": "python",
   "nbconvert_exporter": "python",
   "pygments_lexer": "ipython3",
   "version": "3.6.2"
  }
 },
 "nbformat": 4,
 "nbformat_minor": 2
}
