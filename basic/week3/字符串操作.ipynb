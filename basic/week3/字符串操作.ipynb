{
 "cells": [
  {
   "cell_type": "markdown",
   "metadata": {},
   "source": [
    "### String字符串\n",
    "\n",
    "* 字符串\n",
    "* 字符串\n",
    "* 字符串"
   ]
  },
  {
   "cell_type": "markdown",
   "metadata": {
    "collapsed": true
   },
   "source": [
    "### 什么是字符串\n",
    "\n",
    "* 字符串是字符的集合\n"
   ]
  },
  {
   "cell_type": "code",
   "execution_count": 3,
   "metadata": {},
   "outputs": [
    {
     "name": "stdout",
     "output_type": "stream",
     "text": [
      "<class 'str'>\n",
      "<class 'str'>\n",
      "<class 'str'>\n"
     ]
    }
   ],
   "source": [
    "# 空字符串\n",
    "s = \"banana\"\n",
    "print(type(s))\n",
    "c =\"a\"\n",
    "print(type(c))\n",
    "e = \"\"\n",
    "print(type(e))"
   ]
  },
  {
   "cell_type": "code",
   "execution_count": 9,
   "metadata": {},
   "outputs": [
    {
     "name": "stdout",
     "output_type": "stream",
     "text": [
      "hellohellohellohellohellohellohellohellohellohello\n",
      "s = hellohellohellohellohellohellohellohellohellohello\n",
      "b = \n"
     ]
    }
   ],
   "source": [
    "\n",
    "# 我打打印10遍 “hello”\n",
    "\n",
    "# 字符串加法\n",
    "\n",
    "s = \"hello\" + \"hello\" + \"hello\" + \"hello\" + \"hello\" + \"hello\" + \"hello\" + \"hello\" + \"hello\" + \"hello\"\n",
    "\n",
    "print(s)\n",
    "\n",
    "# 字符串乘法\n",
    "\n",
    "s = \"hello\" * 10\n",
    "\n",
    "b = \"hello\"  * -2\n",
    "\n",
    "print(\"s =\", s)\n",
    "print(\"b =\", b)\n",
    "\n",
    "# 字符串\n",
    "\n",
    "a = \"hello\"\n",
    "b = \"o\"\n",
    "\n",
    "# a - b = \"hell\"\n"
   ]
  },
  {
   "cell_type": "code",
   "execution_count": null,
   "metadata": {
    "collapsed": true
   },
   "outputs": [],
   "source": []
  },
  {
   "cell_type": "code",
   "execution_count": 17,
   "metadata": {},
   "outputs": [
    {
     "name": "stdout",
     "output_type": "stream",
     "text": [
      "True\n",
      "True\n",
      "False\n",
      "False\n",
      "True\n",
      "True\n",
      "False\n",
      "False\n",
      "True\n"
     ]
    }
   ],
   "source": [
    "# 字符串大小\n",
    "\n",
    "# 字符串是有大小的，\n",
    "# 默认的话，字符串大小和长度无关\n",
    "# 字符串的大小和字典次序有关， \n",
    "# 小写字符大于大写字符\n",
    "\n",
    "print(\"c\" > \"a\")   # True\n",
    "print(\"c\" > \"aaaa\")  # True\n",
    "print(\"Hello\" > \"hello\")  # False\n",
    "print(\"pineapple\" < \"Peach\")  # False\n",
    "print(\"apple\" < \"pineapple\")  # True\n",
    "\n",
    "# 中文也是按照字典顺序来做比较的\n",
    "print('杨若曦' > '杨明曦嘻嘻')  # True \n",
    "print('杨若曦' == '杨明曦嘻嘻')  # False\n",
    "\n",
    "# 空字符串最小\n",
    "print('' > 'a')  # False\n",
    "\n",
    "# \n",
    "print(\"1\" < \"a\")  \n"
   ]
  },
  {
   "cell_type": "code",
   "execution_count": 19,
   "metadata": {},
   "outputs": [
    {
     "name": "stdout",
     "output_type": "stream",
     "text": [
      "pythonrocks\n",
      "python!!!\n"
     ]
    }
   ],
   "source": [
    "s = \"python\" \n",
    "t = \"rocks\"\n",
    "print(s + t)\n",
    "\n",
    "s = \"python\"\n",
    "excl = \"!\"\n",
    "print(s + excl*3)"
   ]
  },
  {
   "cell_type": "markdown",
   "metadata": {},
   "source": [
    "\n",
    "#### 问题1\n",
    "\n",
    "```\n",
    "s = \"python\" \n",
    "t = \"rocks\"\n",
    "print(s + t)\n",
    "```\n",
    "\n",
    "* (A) python rocks\n",
    "* (B) python\n",
    "* (C) pythonrocks\n",
    "* (D) Error, you cannot add two strings together.\n",
    "\n",
    "\n",
    "#### 问题2\n",
    "\n",
    "```\n",
    "s = \"python\"\n",
    "excl = \"!\"\n",
    "print(s+excl*3)\n",
    "```\n",
    "\n",
    "* (A) python!!!\n",
    "* (B) python!python!python!\n",
    "* (C) pythonpythonpython!\n",
    "* (D) Error, you cannot perform concatenation and repetition at the same time."
   ]
  },
  {
   "cell_type": "markdown",
   "metadata": {
    "collapsed": true
   },
   "source": [
    "### 字符串 index\n",
    "\n",
    "![](../../images/indexvalues.png)"
   ]
  },
  {
   "cell_type": "code",
   "execution_count": 24,
   "metadata": {},
   "outputs": [
    {
     "name": "stdout",
     "output_type": "stream",
     "text": [
      "长度= 14\n",
      "t\n",
      "e\n",
      "k\n",
      "1\n"
     ]
    }
   ],
   "source": [
    "\n",
    "### 字符串的定位 \n",
    "\n",
    "# (正数) 【0，长度-1】\n",
    "\n",
    "school = \"Luther College\"\n",
    "print(\"长度 =\",len(school))\n",
    "\n",
    "# 打印第3个字符\n",
    "m = school[2]\n",
    "print(m)\n",
    "\n",
    "# 打印最后一个字符\n",
    "print(school[13])\n",
    "\n",
    "# 输入一个字符串，返回最后一个字符\n",
    "def printLast(s):\n",
    "    index = len(s) - 1\n",
    "    c = s[index]\n",
    "    # print(c)\n",
    "    return c\n",
    "\n",
    "inputs = \"eidkkdk\"\n",
    "print(printLast(inputs))  # print 'k'\n",
    "inputs = \"139101\"\n",
    "print(printLast(inputs))  # '1'\n"
   ]
  },
  {
   "cell_type": "code",
   "execution_count": null,
   "metadata": {
    "collapsed": true
   },
   "outputs": [],
   "source": [
    "### 字符串的定位 \n",
    "# (负数) 【-长度，-1】\n"
   ]
  },
  {
   "cell_type": "code",
   "execution_count": 25,
   "metadata": {},
   "outputs": [
    {
     "name": "stdout",
     "output_type": "stream",
     "text": [
      "e\n",
      "k\n",
      "1\n"
     ]
    }
   ],
   "source": [
    "### 打印最后一个字符\n",
    "lastchar = school[-1]\n",
    "print(lastchar)\n",
    "\n",
    "# 输入一个字符串，返回最后一个字符\n",
    "def printLast(s):\n",
    "    c = s[-1]\n",
    "    # print(c)\n",
    "    return c\n",
    "\n",
    "inputs = \"eidkkdk\"\n",
    "print(printLast(inputs))  # print 'k'\n",
    "inputs = \"139101\"\n",
    "print(printLast(inputs))  # '1'"
   ]
  },
  {
   "cell_type": "markdown",
   "metadata": {},
   "source": [
    "### 字符串 index\n",
    "\n",
    "![](../../images/indexvalues.png)"
   ]
  },
  {
   "cell_type": "code",
   "execution_count": 30,
   "metadata": {},
   "outputs": [
    {
     "name": "stdout",
     "output_type": "stream",
     "text": [
      "College\n",
      "College\n",
      "Luther \n",
      "e\n",
      "egelloC rehtuL\n"
     ]
    }
   ],
   "source": [
    "school = \"Luther College\"\n",
    "\n",
    "# range\n",
    "ss = school[7:14]   # start, end, end 不包含  range(1,10)\n",
    "\n",
    "print(ss)\n",
    "\n",
    "ss = school[7:]\n",
    "\n",
    "print(ss)\n",
    "\n",
    "# 开始到7\n",
    "ss = school[:7]\n",
    "\n",
    "print(ss)\n",
    "\n",
    "\n",
    "# 负数index\n",
    "print(school[-1:])\n",
    "\n",
    "print(school[-1::-1])   # start, end, step  \n"
   ]
  },
  {
   "cell_type": "markdown",
   "metadata": {},
   "source": [
    "#### 问题3  下面代码的输出是\n",
    "\n",
    "```\n",
    "s = \"python rocks\"\n",
    "print(s[3])\n",
    "```\n",
    "\n",
    "* (A) t\n",
    "* (B) h\n",
    "* (C) c\n",
    "* (D) Error, you cannot use the [ ] operator with a string.\n",
    "\n",
    "\n",
    "#### 问题4 下面代码的输出是？\n",
    "\n",
    "```\n",
    "s = \"python rocks\"\n",
    "print(s[2] + s[-5])\n",
    "```\n",
    "\n",
    "* (A) tr\n",
    "* (B) ps\n",
    "* (C) nn\n",
    "* (D) Error, you cannot use the [ ] operator with the + operator.\n",
    "\n",
    "\n",
    "#### 问题5．下面的表达式求值为什么？\n",
    "\n",
    "* 'Hello world!'[1]\n",
    "* 'Hello world!'[0:5]\n",
    "* 'Hello world!'[:5]\n",
    "* 'Hello world!'[3:]\n",
    "\n",
    "\n"
   ]
  },
  {
   "cell_type": "code",
   "execution_count": 33,
   "metadata": {},
   "outputs": [
    {
     "name": "stdout",
     "output_type": "stream",
     "text": [
      "e\n",
      "e\n",
      "Hello\n",
      "Hello\n",
      "lo world!\n"
     ]
    }
   ],
   "source": [
    "\n",
    "s = \"Hello World\"\n",
    "print(s[1])\n",
    "\n",
    "print(\"Hello World!\"[1])\n",
    "\n",
    "print('Hello world!'[0:5])\n",
    "\n",
    "print('Hello world!'[:5])\n",
    "\n",
    "print('Hello world!'[3:])"
   ]
  },
  {
   "cell_type": "code",
   "execution_count": 7,
   "metadata": {
    "collapsed": true
   },
   "outputs": [],
   "source": [
    "# String的有用的函数\n",
    "\n",
    "# 大小写的转换和判断 (upper(), lower())\n",
    "\n",
    "\n",
    "\n",
    "# 字符串切割(split()) 和合并 (join())\n",
    "\n",
    "# “如果有一个字符串列表，需要将它们连接起来，成为一个单独的字符串，join()方法就很有用。\n",
    "# join()方法在一个字符串上调用，参数是一个字符串列表，返回一个字符串。”\n",
    "\n",
    "\n",
    "\n",
    "\n",
    "# “有时候你希望删除字符串左边、右边或两边的空白字符（空格、制表符和换行符）。\n",
    "# strip()字符串方法将返回一个新的字符串，它的开头或末尾都没有空白字符。\n",
    "# lstrip()和rstrip()方法将相应删除左边或右边的空白字符。”\n",
    "\n"
   ]
  },
  {
   "cell_type": "markdown",
   "metadata": {
    "collapsed": true
   },
   "source": [
    "\n",
    "#### 问题6．下面的表达式求值为什么？\n",
    "\n",
    "* 'Hello'.upper()\n",
    "\n",
    "* 'Hello'.upper().isupper()\n",
    "\n",
    "* 'Hello'.upper().lower()”\n",
    "\n",
    "\n",
    "#### 问题7．下面的表达式求值为什么？\n",
    "\n",
    "'Remember, remember, the fifth of November.'.split()\n",
    "\n",
    "'-'.join('There can be only one.'.split())”\n",
    "\n"
   ]
  },
  {
   "cell_type": "code",
   "execution_count": 6,
   "metadata": {},
   "outputs": [
    {
     "data": {
      "text/plain": [
       "'There-can-be-only-one.'"
      ]
     },
     "execution_count": 6,
     "metadata": {},
     "output_type": "execute_result"
    }
   ],
   "source": [
    "'Remember, remember, the fifth of November.'.split()\n",
    "'-'.join('There can be only one.'.split())"
   ]
  },
  {
   "cell_type": "code",
   "execution_count": null,
   "metadata": {
    "collapsed": true
   },
   "outputs": [],
   "source": []
  },
  {
   "cell_type": "code",
   "execution_count": null,
   "metadata": {
    "collapsed": true
   },
   "outputs": [],
   "source": []
  }
 ],
 "metadata": {
  "kernelspec": {
   "display_name": "Python [conda env:tensorflow]",
   "language": "python",
   "name": "conda-env-tensorflow-py"
  },
  "language_info": {
   "codemirror_mode": {
    "name": "ipython",
    "version": 3
   },
   "file_extension": ".py",
   "mimetype": "text/x-python",
   "name": "python",
   "nbconvert_exporter": "python",
   "pygments_lexer": "ipython3",
   "version": "3.6.2"
  }
 },
 "nbformat": 4,
 "nbformat_minor": 2
}
