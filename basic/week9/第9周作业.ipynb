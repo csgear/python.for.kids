{
 "cells": [
  {
   "cell_type": "code",
   "execution_count": null,
   "metadata": {
    "collapsed": true
   },
   "outputs": [],
   "source": [
    "# 作业1，把一个数字22分解成2个质数之和，答案不能重复，譬如 22 = 3 + 19  （19+3就是重复的）"
   ]
  },
  {
   "cell_type": "code",
   "execution_count": 14,
   "metadata": {},
   "outputs": [
    {
     "name": "stdout",
     "output_type": "stream",
     "text": [
      "3 19\n",
      "5 17\n",
      "11 11\n"
     ]
    }
   ],
   "source": [
    "n=22\n",
    "l=[2,3,5,7,11,13,17,19,23,29,31,37,41,43,47]\n",
    "for i in range(2, n//2 + 1):\n",
    "    a=i\n",
    "    b=n-i\n",
    "    if a in l and b in l:\n",
    "         print(a,b)\n",
    "\n"
   ]
  },
  {
   "cell_type": "code",
   "execution_count": 16,
   "metadata": {},
   "outputs": [
    {
     "name": "stdout",
     "output_type": "stream",
     "text": [
      "19 3\n",
      "17 5\n",
      "11 11\n"
     ]
    }
   ],
   "source": [
    "n=22\n",
    "l=[2,3,5,7,11,13,17,19,23,29,31,37,41,43,47]\n",
    "for b in l:\n",
    "    a=n-b \n",
    "    if a>0 and a in l and a>=b:\n",
    "        print(a,b)\n",
    "    \n",
    "    \n",
    "\n"
   ]
  },
  {
   "cell_type": "code",
   "execution_count": null,
   "metadata": {
    "collapsed": true
   },
   "outputs": [],
   "source": [
    "# 作业2，中国古代有五行，2行互克，譬如金克木， \n",
    "# 金->木->土->水->火->金，现在要把不互克的2行找出来，譬如 （金，土）"
   ]
  },
  {
   "cell_type": "code",
   "execution_count": 30,
   "metadata": {},
   "outputs": [
    {
     "name": "stdout",
     "output_type": "stream",
     "text": [
      "金 土\n",
      "金 水\n",
      "木 水\n",
      "木 火\n",
      "土 火\n"
     ]
    }
   ],
   "source": [
    "d = {'金':'木',\n",
    "     '木':'土',\n",
    "     '土':'水',\n",
    "     '水':'火',\n",
    "     '火':'金'\n",
    "    }\n",
    "\n",
    "l = ['金','木','土','水','火']\n",
    "for i in range(len(l)):\n",
    "    for j in range(i+1,len(l)):\n",
    "        a=l[i]\n",
    "        b=l[j]\n",
    "        if d[a] != b and d[b] != a:\n",
    "            print(a, b)\n",
    "\n"
   ]
  },
  {
   "cell_type": "code",
   "execution_count": null,
   "metadata": {
    "collapsed": true
   },
   "outputs": [],
   "source": []
  },
  {
   "cell_type": "code",
   "execution_count": null,
   "metadata": {
    "collapsed": true
   },
   "outputs": [],
   "source": [
    "# 信件加密，古代罗马人写信的时候，用了加密的技术，他们用下面的方式\n",
    "# [abcdefghijklmopqrstuvwxyz] \n",
    "# [efghijklmopqrstuvwxyzabcd]\n",
    "# 就是把a用e来代替，b用f来代替 ...\n",
    "# 现在帮罗马人的方法，给 “hello world thank you” 进行加密\n"
   ]
  },
  {
   "cell_type": "code",
   "execution_count": 36,
   "metadata": {},
   "outputs": [
    {
     "name": "stdout",
     "output_type": "stream",
     "text": [
      "lipps asvph xlero csy\n"
     ]
    }
   ],
   "source": [
    "a = \"abcdefghijklmnopqrstuvwxyz\"\n",
    "b = \"efghijklmnopqrstuvwxyzabcd\"\n",
    "\n",
    "s = \"hello world thank you\"\n",
    "\n",
    "o = \"\"\n",
    "\n",
    "for c in s:\n",
    "    if c != ' ':\n",
    "        k = ord(c) - ord('a')\n",
    "        o = o + b[k]\n",
    "    else:\n",
    "        o = o + c\n",
    "\n",
    "print(o)"
   ]
  },
  {
   "cell_type": "code",
   "execution_count": null,
   "metadata": {
    "collapsed": true
   },
   "outputs": [],
   "source": []
  },
  {
   "cell_type": "code",
   "execution_count": null,
   "metadata": {
    "collapsed": true
   },
   "outputs": [],
   "source": []
  }
 ],
 "metadata": {
  "kernelspec": {
   "display_name": "Python [conda root]",
   "language": "python",
   "name": "conda-root-py"
  },
  "language_info": {
   "codemirror_mode": {
    "name": "ipython",
    "version": 3
   },
   "file_extension": ".py",
   "mimetype": "text/x-python",
   "name": "python",
   "nbconvert_exporter": "python",
   "pygments_lexer": "ipython3",
   "version": "3.6.2"
  }
 },
 "nbformat": 4,
 "nbformat_minor": 2
}
