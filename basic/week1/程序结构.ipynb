{
 "cells": [
  {
   "cell_type": "code",
   "execution_count": null,
   "metadata": {
    "collapsed": true
   },
   "outputs": [],
   "source": [
    "print \"Hello, Python!\";\n",
    "print (\"Hello, Python!\");\n",
    " \n",
    "#行和缩进\n",
    "if True:\n",
    "    print \"True\"\n",
    "else:\n",
    "    print \"False\"\n",
    " \n",
    " \n",
    "if True:\n",
    "    print \"Answer\"\n",
    "    print \"True\"\n",
    "else:\n",
    "    print \"Answer\"\n",
    "    # 没有严格缩进，在执行时保持\n",
    "    print \"False\"\n",
    " \n",
    "#多行语句\n",
    "item_one=1\n",
    "item_two=2\n",
    "item_three=3\n",
    "total = item_one + \\\n",
    "        item_two + \\\n",
    "        item_three\n",
    "print total\n",
    " \n",
    "days = ['Monday', 'Tuesday', 'Wednesday',\n",
    "        'Thursday', 'Friday']\n",
    "days\n",
    " \n",
    "#引号\n",
    "word = 'word'\n",
    "sentence = \"这是一个句子。\"\n",
    "paragraph = \"\"\"这是一个段落。\n",
    "包含了多个语句\"\"\"\n",
    "print word\n",
    "print sentence\n",
    "print paragraph\n",
    " \n",
    "#注释\n",
    "# 第一个注释\n",
    "print \"Hello, Python!\";  # 第二个注释\n",
    "name = \"Madisetti\" # 这是一个注释\n",
    " \n",
    "'''\n",
    "这是多行注释，使用单引号。\n",
    "这是多行注释，使用单引号。\n",
    "这是多行注释，使用单引号。\n",
    "'''\n",
    " \n",
    "\"\"\"\n",
    "这是多行注释，使用双引号。\n",
    "这是多行注释，使用双引号。\n",
    "这是多行注释，使用双引号。\n",
    "\"\"\""
   ]
  }
 ],
 "metadata": {
  "kernelspec": {
   "display_name": "Python [conda env:tensorflow]",
   "language": "python",
   "name": "conda-env-tensorflow-py"
  },
  "language_info": {
   "codemirror_mode": {
    "name": "ipython",
    "version": 3
   },
   "file_extension": ".py",
   "mimetype": "text/x-python",
   "name": "python",
   "nbconvert_exporter": "python",
   "pygments_lexer": "ipython3",
   "version": "3.6.2"
  }
 },
 "nbformat": 4,
 "nbformat_minor": 2
}
