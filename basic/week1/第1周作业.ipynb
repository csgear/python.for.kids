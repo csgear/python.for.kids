{
 "cells": [
  {
   "cell_type": "markdown",
   "metadata": {},
   "source": [
    "### 第一周内容\n",
    "\n",
    "* 安装Python编程环境\n",
    "* 解释Python基础的数据类型\n",
    "* 学习Python的运算符\n",
    "* 学习print函数"
   ]
  },
  {
   "cell_type": "markdown",
   "metadata": {},
   "source": [
    "### 习题\n",
    "* 简单的input&output题目\n",
    "* 简单的数学运算 "
   ]
  },
  {
   "cell_type": "code",
   "execution_count": 1,
   "metadata": {},
   "outputs": [
    {
     "name": "stdout",
     "output_type": "stream",
     "text": [
      "20992\n"
     ]
    }
   ],
   "source": [
    "# 习题1： 计算 12的4次方加2的8次方的和\n",
    "\n",
    "a =12**4 + 2**8\n",
    "print(a)"
   ]
  },
  {
   "cell_type": "code",
   "execution_count": 4,
   "metadata": {},
   "outputs": [
    {
     "name": "stdout",
     "output_type": "stream",
     "text": [
      "100230733\n",
      "299\n"
     ]
    }
   ],
   "source": [
    "# 习题2： 计算 38388371038 /  383 的 商和余数\n",
    "a =38388371038\n",
    "b =383\n",
    "c =a // b\n",
    "print(c)\n",
    "c =a % b\n",
    "print(c)\n"
   ]
  },
  {
   "cell_type": "code",
   "execution_count": null,
   "metadata": {
    "collapsed": true
   },
   "outputs": [],
   "source": []
  },
  {
   "cell_type": "code",
   "execution_count": 8,
   "metadata": {},
   "outputs": [
    {
     "name": "stdout",
     "output_type": "stream",
     "text": [
      "a > b\n"
     ]
    }
   ],
   "source": [
    "# 习题3： 比较 12345 / 837，12365 / 847 哪个数字比较大\n",
    "a =12345 / 837\n",
    "b =12365 / 847\n",
    "if(a > b):\n",
    "    print(\"a > b\")\n",
    "else:\n",
    "    print(\"a < b\")"
   ]
  },
  {
   "cell_type": "markdown",
   "metadata": {
    "collapsed": true
   },
   "source": [
    "### 习题四\n",
    "\n",
    "判断下面等式的结果，在下面的括号里面填入（True，False）\n",
    "\n",
    "*  2 == '2'  【 /\\      】\n",
    "*  2.0 == 2  【   \\/  】\n",
    "*  6 / 2 == 3.0 【    \\/   】\n",
    "\n"
   ]
  },
  {
   "cell_type": "markdown",
   "metadata": {
    "collapsed": true
   },
   "source": []
  },
  {
   "cell_type": "code",
   "execution_count": null,
   "metadata": {
    "collapsed": true
   },
   "outputs": [],
   "source": [
    "### 答案\n",
    "\n",
    "#### 问题1 变量 a = (3 + 4 == 7) a的值是多少，a的类型是什么，为什么？看下上面的变量运算符号，和type函数\n",
    "\n",
    "a = (3 + 4 == 7)\n",
    "print(a)\n",
    "print(type(a))\n",
    "\n",
    "#### 为什么问题1的答案是一个bool值呢？ \n",
    "* 因为 + 的运算优选级比 == 要高，所以首先运算 3+4，然后再和7去比较，答案是True\n",
    "\n",
    "\n",
    "\n",
    "#### 问题2 变量e = (1 + 2) and (2 + 3)，a的值是多少，a的类型是什么，为什么？\n",
    "\n",
    "e = (1 + 2) and (2 + 4)\n",
    "\n",
    "print(e)\n",
    "\n",
    "e = (1 + 2) or (2 + 4) \n",
    "print(e)\n",
    "\n",
    "e = not (1 + 2) or (2 + 4) \n",
    "print(e)\n",
    "\n",
    "#### 为什么问题2的答案和想象中的不一样呢， 3 and 6 答案是6，而3 or 6 答案是3； 但是 not 3 and 6 答案等于3呢？\n",
    "\n",
    "#### 对于and运算\n",
    "\n",
    "* a and b\n",
    " * 如果a为真，继续计算b，b将决定最终整个表达式的真值，所以，结果为b的值\n",
    " * 如果a为假，无需计算b，就可以得知整个表达式的真值为假，所以，结果为a的值\n",
    "\n",
    "#### 对于or运算\n",
    "\n",
    "* a or b\n",
    " * 如果a为真，无需计算b，就可得知整个表达式的真值为真，所以结果为a的值\n",
    " * 如果a为假，继续计算b，b将决定整个表达式最终的值，所以结果为b的值"
   ]
  }
 ],
 "metadata": {
  "kernelspec": {
   "display_name": "Python [conda env:tensorflow]",
   "language": "python",
   "name": "conda-env-tensorflow-py"
  },
  "language_info": {
   "codemirror_mode": {
    "name": "ipython",
    "version": 3
   },
   "file_extension": ".py",
   "mimetype": "text/x-python",
   "name": "python",
   "nbconvert_exporter": "python",
   "pygments_lexer": "ipython3",
   "version": "3.6.2"
  }
 },
 "nbformat": 4,
 "nbformat_minor": 2
}
