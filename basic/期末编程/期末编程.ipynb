{
 "cells": [
  {
   "cell_type": "markdown",
   "metadata": {},
   "source": [
    "### 编程题\n",
    "\n",
    "* Given an array containing n distinct numbers taken from 0, 1, 2, ..., n, find the one that is missing from the array.\n",
    "\n",
    "```\n",
    "For example,\n",
    "Given nums = [0, 1, 3] return 2.\n",
    "```"
   ]
  },
  {
   "cell_type": "code",
   "execution_count": null,
   "metadata": {
    "collapsed": true
   },
   "outputs": [],
   "source": [
    "# solution 1\n"
   ]
  },
  {
   "cell_type": "code",
   "execution_count": null,
   "metadata": {
    "collapsed": true
   },
   "outputs": [],
   "source": []
  },
  {
   "cell_type": "code",
   "execution_count": null,
   "metadata": {
    "collapsed": true
   },
   "outputs": [],
   "source": [
    "# solution 2\n",
    "\n",
    "class Solution:\n",
    "    def missingNumber(self, nums):\n",
    "        expected_sum = len(nums)*(len(nums)+1)//2\n",
    "        actual_sum = sum(nums)\n",
    "        return expected_sum - actual_sum\n"
   ]
  },
  {
   "cell_type": "markdown",
   "metadata": {},
   "source": [
    "### 编程题\n",
    "\n",
    "* Majority Element？\n",
    "\n",
    "Given an array of size n, find the majority element. The majority element is the element that appears more than ⌊ n/2 ⌋ times.\n",
    "\n",
    "You may assume that the array is non-empty and the majority element always exist in the array.\n"
   ]
  },
  {
   "cell_type": "code",
   "execution_count": null,
   "metadata": {
    "collapsed": true
   },
   "outputs": [],
   "source": [
    "\n",
    "\n",
    "# leetcode.com majorityElement\n",
    "\n",
    "class Solution:\n",
    "    def majorityElement(self, num):\n",
    "        d = {}\n",
    "        size = len(num)\n",
    "\n",
    "        for i in num:\n",
    "            if i in d:\n",
    "                d[i] += 1\n",
    "            else:\n",
    "                d[i] = 1\n",
    "\n",
    "            if d[i] > size / 2:\n",
    "                return i\n"
   ]
  },
  {
   "cell_type": "markdown",
   "metadata": {
    "collapsed": true
   },
   "source": [
    "### 编程题\n",
    "\n",
    "Given an array of integers nums, write a method that returns the \"pivot\" index of this array.\n",
    "\n",
    "We define the pivot index as the index where the sum of the numbers to the left of the index is equal to the sum of the numbers to the right of the index.\n",
    "\n",
    "If no such index exists, we should return -1. If there are multiple pivot indexes, you should return the left-most pivot index.\n",
    "\n",
    "```\n",
    "Example 1:\n",
    "Input: \n",
    "nums = [1, 7, 3, 6, 5, 6]\n",
    "Output: 3\n",
    "Explanation: \n",
    "The sum of the numbers to the left of index 3 (nums[3] = 6) is equal to the sum of numbers to the right of index 3.\n",
    "Also, 3 is the first index where this occurs.\n",
    "```\n",
    "\n",
    "```\n",
    "Example 2:\n",
    "Input: \n",
    "nums = [1, 2, 3]\n",
    "Output: -1\n",
    "Explanation: \n",
    "There is no index that satisfies the conditions in the problem statement.\n",
    "Note:\n",
    "```"
   ]
  },
  {
   "cell_type": "code",
   "execution_count": null,
   "metadata": {
    "collapsed": true
   },
   "outputs": [],
   "source": [
    "\n",
    "# leetcode.com 724. Find Pivot Index\n",
    "\n",
    "\n",
    "class Solution:\n",
    "    def pivotIndex(self, nums):\n",
    "        \"\"\"\n",
    "        :type nums: List[int]\n",
    "        :rtype: int\n",
    "        \"\"\"\n",
    "        s = sum(nums)\n",
    "        leftSum = 0\n",
    "\n",
    "        for i, x in enumerate(nums):\n",
    "            if leftSum == (s - leftSum - x):\n",
    "                return i\n",
    "            leftSum += x\n",
    "\n",
    "        return -1\n"
   ]
  },
  {
   "cell_type": "code",
   "execution_count": 12,
   "metadata": {},
   "outputs": [
    {
     "name": "stdout",
     "output_type": "stream",
     "text": [
      "AaSMR3IDD4BGS7dLSF9Eaf\n",
      "3479\n",
      "{'m': 1, 'd': 3, 's': 3, 'l': 1, 'b': 1, 'g': 1, 'i': 1, 'a': 3, 'f': 2, 'r': 1, 'e': 1}\n",
      "['a', 'A', 's', 'm', 'r', '3', 'i', 'd', '4', 'b', 'g', '7', 'D', 'l', 'f', '9', 'e', 'F']\n",
      "FAe9fslD7sgb4ddi3rmsAa\n"
     ]
    }
   ],
   "source": [
    "\n",
    "a = \"aAsmr3idd4bgs7Dlsf9eAF\"\n",
    "\n",
    "# 1.1 请将a字符串的大写改为小写，小写改为大写。\n",
    "print(a.swapcase())\n",
    "\n",
    "# 1.2 请将a字符串的数字取出，并输出成一个新的字符串。\n",
    "print(\"\".join([x for x in a if x.isdigit()]))\n",
    "\n",
    "# 1.3 请统计a字符串出现的每个字母的出现次数（忽略大小写，a与A是同一个字母），并输出成一个字典。 例 {'a':4,'b':2}\n",
    "b = \"\".join([x for x in a if not x.isdigit()]).lower()\n",
    "print(dict([(x, b.count(x)) for x in set(b)]))\n",
    "\n",
    "# 1.4 请去除a字符串多次出现的字母，仅留最先出现的一个。例 'abcabb'，经过去除后，输出 'abc'\n",
    "list_a = list(a)\n",
    "set_list = list(set(list_a))\n",
    "set_list.sort(key=list_a.index)\n",
    "print(set_list)\n",
    "\n",
    "\n",
    "# 1.5 请将a字符串反转并输出。例：'abc'的反转是'cba'\n",
    "print(a[::-1])\n",
    "\n",
    "\n",
    "# 1.6 去除a字符串内的数字后，请将该字符串里的单词重新排序（a-z），并且重新输出一个排序后的字符串。\n",
    "# （保留大小写,a与A的顺序关系为：A在a前面。例：AaBb）\n",
    "\n",
    "\n",
    "#1.7 请判断 'boy'里出现的每一个字母，是否都出现在a字符串里。如果出现，则输出True，否则，则输 出False.\n",
    "\n",
    "#1.8 要求如1.7，此时的单词判断，由'boy'改为四个，分别是 'boy','girl','bird','dirty'，\n",
    "# 请判断如上这4个字符串里的每个字母，是否都出现在a字符串里。\n",
    "\n",
    "\n",
    "#1.9 输出a字符串出现频率最高的字母\n"
   ]
  },
  {
   "cell_type": "code",
   "execution_count": null,
   "metadata": {
    "collapsed": true
   },
   "outputs": [],
   "source": []
  },
  {
   "cell_type": "markdown",
   "metadata": {},
   "source": [
    "```\n",
    "2.在python命令行里，输入import this 以后出现的文档，统计该文档中，\"be\" \"is\" \"than\" 的出现次数。\n",
    "\n",
    "```"
   ]
  },
  {
   "cell_type": "code",
   "execution_count": null,
   "metadata": {
    "collapsed": true
   },
   "outputs": [],
   "source": [
    "# 3.一文件的字节数为 102324123499123，请计算该文件按照kb与mb计算得到的大小。\n"
   ]
  },
  {
   "cell_type": "code",
   "execution_count": 17,
   "metadata": {},
   "outputs": [
    {
     "name": "stdout",
     "output_type": "stream",
     "text": [
      "123689101417\n"
     ]
    }
   ],
   "source": [
    "# 已知 a = [1,2,3,6,8,9,10,14,17],请将该list转换为字符串，例如 '123689101417'.\n",
    "\n",
    "a = [1,2,3,6,8,9,10,14,17]\n",
    "\n",
    "print(str(a)[1:-1].replace(\", \", \"\"))"
   ]
  },
  {
   "cell_type": "code",
   "execution_count": null,
   "metadata": {
    "collapsed": true
   },
   "outputs": [],
   "source": []
  }
 ],
 "metadata": {
  "kernelspec": {
   "display_name": "Python [conda env:tensorflow]",
   "language": "python",
   "name": "conda-env-tensorflow-py"
  },
  "language_info": {
   "codemirror_mode": {
    "name": "ipython",
    "version": 3
   },
   "file_extension": ".py",
   "mimetype": "text/x-python",
   "name": "python",
   "nbconvert_exporter": "python",
   "pygments_lexer": "ipython3",
   "version": "3.6.2"
  }
 },
 "nbformat": 4,
 "nbformat_minor": 2
}
