{
 "cells": [
  {
   "cell_type": "code",
   "execution_count": null,
   "metadata": {
    "collapsed": true
   },
   "outputs": [],
   "source": []
  },
  {
   "cell_type": "markdown",
   "metadata": {},
   "source": [
    "#### 文件操作\n",
    "\n",
    "* 打开文件\n",
    " * open(filename,'r')\tOpen a file called filename and use it for reading. This will return a reference to a file object.\n",
    "* 打开文件\n",
    " * open\topen(filename,'w')\tOpen a file called filename and use it for writing. This will also return a reference to a file object.\n",
    "* 关闭文件\n",
    " * filevariable.close()\tFile use is complete."
   ]
  },
  {
   "cell_type": "code",
   "execution_count": null,
   "metadata": {
    "collapsed": true
   },
   "outputs": [],
   "source": []
  },
  {
   "cell_type": "code",
   "execution_count": 2,
   "metadata": {},
   "outputs": [
    {
     "name": "stdout",
     "output_type": "stream",
     "text": [
      "QB  First Name, had a rating of  Ints,\n",
      "QB  Colt McCoy had a rating of  74.5\n",
      "QB  Josh Freeman had a rating of  95.9\n",
      "QB  Michael Vick had a rating of  100.2\n",
      "QB  Matt Schaub had a rating of  92.0\n",
      "QB  Philip Rivers had a rating of  101.8\n",
      "QB  Matt Hasselbeck had a rating of  73.2\n",
      "QB  Jimmy Clausen had a rating of  58.4\n",
      "QB  Joe Flacco had a rating of  93.6\n",
      "QB  Kyle Orton had a rating of  87.5\n",
      "QB  Jason Campbell had a rating of  84.5\n",
      "QB  Peyton Manning had a rating of  91.9\n",
      "QB  Drew Brees had a rating of  90.9\n",
      "QB  Matt Ryan had a rating of  91.0\n",
      "QB  Matt Cassel had a rating of  93.0\n",
      "QB  Mark Sanchez had a rating of  75.3\n",
      "QB  Brett Favre had a rating of  69.9\n",
      "QB  David Garrard had a rating of  90.8\n",
      "QB  Eli Manning had a rating of  85.3\n",
      "QB  Carson Palmer had a rating of  82.4\n",
      "QB  Alex Smith had a rating of  82.1\n",
      "QB  Chad Henne had a rating of  75.4\n",
      "QB  Tony Romo had a rating of  94.9\n",
      "QB  Jay Cutler had a rating of  86.3\n",
      "QB  Jon Kitna had a rating of  88.9\n",
      "QB  Tom Brady had a rating of  111.0\n",
      "QB  Ben Roethlisberger had a rating of  97.0\n",
      "QB  Kerry Collins had a rating of  82.2\n",
      "QB  Derek Anderson had a rating of  65.9\n",
      "QB  Ryan Fitzpatrick had a rating of  81.8\n",
      "QB  Donovan McNabb had a rating of  77.1\n",
      "QB  Kevin Kolb had a rating of  76.1\n",
      "QB  Aaron Rodgers had a rating of  101.2\n",
      "QB  Sam Bradford had a rating of  76.5\n",
      "QB  Shaun Hill had a rating of  81.3\n"
     ]
    }
   ],
   "source": [
    "qbfile = open(\"../data/qbdata.txt\", \"r\")\n",
    "\n",
    "for aline in qbfile:\n",
    "    values = aline.split()\n",
    "    print('QB ', values[0], values[1], 'had a rating of ', values[10] )\n",
    "\n",
    "qbfile.close()\n"
   ]
  },
  {
   "cell_type": "code",
   "execution_count": null,
   "metadata": {
    "collapsed": true
   },
   "outputs": [],
   "source": []
  }
 ],
 "metadata": {
  "kernelspec": {
   "display_name": "Python [conda env:tensorflow]",
   "language": "python",
   "name": "conda-env-tensorflow-py"
  },
  "language_info": {
   "codemirror_mode": {
    "name": "ipython",
    "version": 3
   },
   "file_extension": ".py",
   "mimetype": "text/x-python",
   "name": "python",
   "nbconvert_exporter": "python",
   "pygments_lexer": "ipython3",
   "version": "3.6.2"
  }
 },
 "nbformat": 4,
 "nbformat_minor": 2
}
