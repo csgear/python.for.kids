{
 "cells": [
  {
   "cell_type": "code",
   "execution_count": null,
   "metadata": {
    "collapsed": true
   },
   "outputs": [],
   "source": []
  },
  {
   "cell_type": "code",
   "execution_count": 4,
   "metadata": {},
   "outputs": [
    {
     "name": "stdout",
     "output_type": "stream",
     "text": [
      "tom 30\n",
      "{1: 'cc', 2: 'tom', 3: 'peter', 4: 'parker'}\n",
      "{1: [100, 80], 2: [30, 50], 3: [100, 100], 4: [-10, -10]}\n",
      "[1] cc 90.0\n",
      "[2] tom 40.0\n",
      "[3] peter 100.0\n",
      "[4] parker -10.0\n"
     ]
    }
   ],
   "source": [
    "a={1:\"cc\",2:\"tom\"}\n",
    "b={1:[100,80],2:[30,50]}\n",
    "print(a[2],b[2][0])\n",
    "a[3]=\"peter\"\n",
    "a[4]=\"parker\"\n",
    "b[3]=[100,100]\n",
    "b[4]=[-10,-10]\n",
    "print(a)\n",
    "print(b)\n",
    "\n",
    "for x in a:\n",
    "    xuehao=[x]\n",
    "    xingming=a[x]\n",
    "    chenji=b[x]\n",
    "    s=0\n",
    "    for y in b[x]:\n",
    "        s=s+y\n",
    "    pinjunchenji= s / len(b[x])\n",
    "    print(xuehao,xingming,pinjunchenji)\n",
    "    "
   ]
  },
  {
   "cell_type": "code",
   "execution_count": null,
   "metadata": {
    "collapsed": true
   },
   "outputs": [],
   "source": []
  },
  {
   "cell_type": "code",
   "execution_count": null,
   "metadata": {
    "collapsed": true
   },
   "outputs": [],
   "source": [
    "\n",
    "# 演示题目\n",
    "\n",
    "# 统计字符串字符出现的次数\n",
    "* countAll\n",
    " * 例如  “banana”， 返回 {\"a\":3, \"b\":1, \"n\":2}\n"
   ]
  },
  {
   "cell_type": "code",
   "execution_count": null,
   "metadata": {
    "collapsed": true
   },
   "outputs": [],
   "source": [
    "def countLetters(s):\n",
    "    y = {}\n",
    "    \n",
    "    for x in s:\n",
    "        if x in y:\n",
    "            y[x] += 1\n",
    "        else:\n",
    "            y[x] = 1\n",
    "    return y\n",
    "\n",
    "s = 'aaaaabbb'\n",
    "\n",
    "print(countLetters(s))\n",
    "    "
   ]
  },
  {
   "cell_type": "code",
   "execution_count": 2,
   "metadata": {},
   "outputs": [
    {
     "name": "stdout",
     "output_type": "stream",
     "text": [
      ">>>233\n",
      "233\n"
     ]
    }
   ],
   "source": [
    "# 用户输入一个数字，打印每一个数字和出现的数字\n",
    "# 譬如用户输入 1938382，输出 {1:1, 3:2, 8:2, 9:1}\n",
    "\n",
    "\n",
    "nums=input('>>>')\n",
    "\n",
    "print(nums)"
   ]
  },
  {
   "cell_type": "markdown",
   "metadata": {},
   "source": [
    "\n",
    "# 经典的Two Sum\n",
    "\n",
    "Given an array of integers, return indices of the two numbers such that they add up to a specific target.\n",
    "\n",
    "You may assume that each input would have exactly one solution, and you may not use the same element twice.\n",
    "\n",
    "Given nums = [2, 7, 11, 15], target = 9,\n",
    "\n",
    "Because nums[0] + nums[1] = 2 + 7 = 9,\n",
    "return [0, 1].\n",
    "\n",
    "\n"
   ]
  },
  {
   "cell_type": "code",
   "execution_count": null,
   "metadata": {
    "collapsed": true
   },
   "outputs": [],
   "source": [
    "\n",
    "def twoSum(nums, target):\n",
    "    idxDict = dict()\n",
    "    for idx, num in enumerate(nums):\n",
    "        if target - num in idxDict:\n",
    "            return [idxDict[target - num], idx]\n",
    "        idxDict[num] = idx"
   ]
  },
  {
   "cell_type": "code",
   "execution_count": null,
   "metadata": {
    "collapsed": true
   },
   "outputs": [],
   "source": []
  },
  {
   "cell_type": "code",
   "execution_count": null,
   "metadata": {
    "collapsed": true
   },
   "outputs": [],
   "source": [
    "\n"
   ]
  }
 ],
 "metadata": {
  "kernelspec": {
   "display_name": "Python [default]",
   "language": "python",
   "name": "python3"
  },
  "language_info": {
   "codemirror_mode": {
    "name": "ipython",
    "version": 3
   },
   "file_extension": ".py",
   "mimetype": "text/x-python",
   "name": "python",
   "nbconvert_exporter": "python",
   "pygments_lexer": "ipython3",
   "version": "3.6.2"
  }
 },
 "nbformat": 4,
 "nbformat_minor": 2
}
