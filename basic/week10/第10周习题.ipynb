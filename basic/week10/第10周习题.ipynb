{
 "cells": [
  {
   "cell_type": "code",
   "execution_count": 1,
   "metadata": {
    "collapsed": true
   },
   "outputs": [],
   "source": [
    "# 求两个数的和\n",
    "# l = [1, -39, 19, 2, 9, 7]"
   ]
  },
  {
   "cell_type": "code",
   "execution_count": 19,
   "metadata": {},
   "outputs": [
    {
     "name": "stdout",
     "output_type": "stream",
     "text": [
      "1010\n"
     ]
    }
   ],
   "source": [
    "l=[1,3,2,9,6,8,1001]\n",
    "\n",
    "w = 0\n",
    "\n",
    "for i in range(len(l)):\n",
    "    for j in range(i+1,len(l)):\n",
    "        x=l[i] \n",
    "        y=l[j]\n",
    "        if x + y > w:\n",
    "            w = x + y\n",
    "print(w)"
   ]
  },
  {
   "cell_type": "code",
   "execution_count": 2,
   "metadata": {
    "collapsed": true
   },
   "outputs": [],
   "source": [
    "# 按大到小排序\n",
    "# l = [6, 39, 29,2, 9, 7]"
   ]
  },
  {
   "cell_type": "code",
   "execution_count": 23,
   "metadata": {},
   "outputs": [
    {
     "name": "stdout",
     "output_type": "stream",
     "text": [
      "[1001, 9, 6, 3, 2, 1]\n"
     ]
    }
   ],
   "source": [
    "l =[1,3,2,9,6,1001]\n",
    "\n",
    "w=0\n",
    "for i in range(len(l)):\n",
    "    for j in range(i+1,len(l)):\n",
    "        x=l[i]\n",
    "        y=l[j]\n",
    "        if x < y:\n",
    "            l[i],l[j]=l[j],l[i]\n",
    "print(l)"
   ]
  },
  {
   "cell_type": "code",
   "execution_count": 24,
   "metadata": {
    "collapsed": true
   },
   "outputs": [],
   "source": [
    "# 求k个数的乘积的最大值\n",
    "\n",
    "# 输入{1, 5, 9, 8, 2, 4, 1, 8, 1, 2}  \n",
    "# k = 4 \n",
    "# Output: 720\n",
    "# {5, 9, 8, 2}\n"
   ]
  },
  {
   "cell_type": "code",
   "execution_count": 31,
   "metadata": {},
   "outputs": [
    {
     "name": "stdout",
     "output_type": "stream",
     "text": [
      "720\n"
     ]
    }
   ],
   "source": [
    "l=[1,5,9,8,2,4,1,8,1,2]\n",
    "k=4\n",
    "b=0\n",
    "for i in range(len(l)-k):\n",
    "    a=1\n",
    "    for j in range(k):\n",
    "        a=a*l[i+j]\n",
    "        if a > b:\n",
    "            b = a\n",
    "print(b)\n",
    "        "
   ]
  },
  {
   "cell_type": "code",
   "execution_count": 38,
   "metadata": {},
   "outputs": [
    {
     "name": "stdout",
     "output_type": "stream",
     "text": [
      "720\n"
     ]
    }
   ],
   "source": [
    "l=[1,5,9,8,2,4,1,8,1,2]\n",
    "a=1\n",
    "k=4\n",
    "b=0\n",
    "for j in range(k):\n",
    "    a=a*l[j]\n",
    "for j in range(1, len(l)-k):\n",
    "    a=a //l[j-1]* l[j+k-1]\n",
    "    if a>b:\n",
    "        b=a\n",
    "print(b)\n",
    "        "
   ]
  },
  {
   "cell_type": "code",
   "execution_count": null,
   "metadata": {
    "collapsed": true
   },
   "outputs": [],
   "source": []
  },
  {
   "cell_type": "code",
   "execution_count": null,
   "metadata": {
    "collapsed": true
   },
   "outputs": [],
   "source": []
  }
 ],
 "metadata": {
  "kernelspec": {
   "display_name": "Python [conda root]",
   "language": "python",
   "name": "conda-root-py"
  },
  "language_info": {
   "codemirror_mode": {
    "name": "ipython",
    "version": 3
   },
   "file_extension": ".py",
   "mimetype": "text/x-python",
   "name": "python",
   "nbconvert_exporter": "python",
   "pygments_lexer": "ipython3",
   "version": "3.6.2"
  }
 },
 "nbformat": 4,
 "nbformat_minor": 2
}
