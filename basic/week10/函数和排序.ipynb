{
 "cells": [
  {
   "cell_type": "markdown",
   "metadata": {},
   "source": [
    "### 函数和变量"
   ]
  },
  {
   "cell_type": "code",
   "execution_count": null,
   "metadata": {
    "collapsed": true
   },
   "outputs": [],
   "source": []
  },
  {
   "cell_type": "code",
   "execution_count": null,
   "metadata": {
    "collapsed": true
   },
   "outputs": [],
   "source": [
    "# 编程技巧，冒泡排序\n",
    "\n",
    "# 把一串数字按大到小排序\n"
   ]
  },
  {
   "cell_type": "code",
   "execution_count": 2,
   "metadata": {},
   "outputs": [
    {
     "name": "stdout",
     "output_type": "stream",
     "text": [
      "[39, 29, 9, 7, 2, 1]\n"
     ]
    }
   ],
   "source": [
    "# 简单的排序\n",
    "\n",
    "l = [1,39,29,2, 9, 7]\n",
    "\n",
    "# 冒泡排序，\n",
    "def sort_num(l):\n",
    "    length = len(l)\n",
    "    for i in range(length):\n",
    "        for j in range(i+1, length):\n",
    "            if l[i] < l[j]:\n",
    "                l[i],l[j] = l[j], l[i]\n",
    "    return l\n",
    "\n",
    "# 需要返回 \n",
    "\n",
    "print(sort_num(l))\n",
    "\n",
    "# [1, 2, 7, 9, 29, 39]"
   ]
  },
  {
   "cell_type": "code",
   "execution_count": null,
   "metadata": {
    "collapsed": true
   },
   "outputs": [],
   "source": []
  },
  {
   "cell_type": "code",
   "execution_count": null,
   "metadata": {
    "collapsed": true
   },
   "outputs": [],
   "source": []
  },
  {
   "cell_type": "code",
   "execution_count": null,
   "metadata": {
    "collapsed": true
   },
   "outputs": [],
   "source": [
    "# 编程技巧， 移动窗口"
   ]
  },
  {
   "cell_type": "markdown",
   "metadata": {},
   "source": [
    "Input: arr[] = {1, 5, 9, 8, 2, 4,\n",
    "                 1, 8, 1, 2} \n",
    "       k = 6\n",
    "Output:   4608  \n",
    "The subarray is {9, 8, 2, 4, 1, 8}\n",
    "\n",
    "Input: arr[] = {1, 5, 9, 8, 2, 4, 1, 8, 1, 2}\n",
    "       k = 4\n",
    "Output:   720  \n",
    "The subarray is {5, 9, 8, 2}\n",
    "\n",
    "Input: arr[] = {2, 5, 8, 1, 1, 3};\n",
    "       k = 3             \n",
    "Output:   80  \n",
    "The subarray is {2, 5, 8}"
   ]
  },
  {
   "cell_type": "code",
   "execution_count": null,
   "metadata": {
    "collapsed": true
   },
   "outputs": [],
   "source": [
    "# subarray 乘积最大的 子数值，简单版\n",
    "\n",
    "# This function returns maximum product \n",
    "# of a subarray of size k in given arrar,\n",
    "# arr[0..n-1]. This function assumes \n",
    "# that k is smaller than or equal to n.\n",
    "def findMaxProduct(arr, n, k) :\n",
    "   \n",
    "    # Initialize the MaxProduct to 1, \n",
    "    # as all elements in the array \n",
    "    # are positive\n",
    "    MaxProduct = 1\n",
    "    for i in range(0, k) :\n",
    "        MaxProduct = MaxProduct * arr[i]\n",
    "         \n",
    "    prev_product = MaxProduct\n",
    "  \n",
    "    # Consider every product beginning\n",
    "    # with arr[i] where i varies from\n",
    "    # 1 to n-k-1\n",
    "    for i in range(1, n - k + 1) :\n",
    "        curr_product = (prev_product // arr[i-1]) * arr[i+k-1]\n",
    "        MaxProduct = max(MaxProduct, curr_product)\n",
    "        prev_product = curr_product\n",
    "     \n",
    "    # Return the maximum product found\n",
    "    return MaxProduct"
   ]
  },
  {
   "cell_type": "code",
   "execution_count": null,
   "metadata": {
    "collapsed": true
   },
   "outputs": [],
   "source": []
  },
  {
   "cell_type": "code",
   "execution_count": 3,
   "metadata": {
    "collapsed": true
   },
   "outputs": [],
   "source": [
    "# 编程技巧，循环模拟"
   ]
  },
  {
   "cell_type": "code",
   "execution_count": 5,
   "metadata": {
    "collapsed": true
   },
   "outputs": [],
   "source": [
    "# subarray 乘积最大的 子数值，有负数\n",
    "\n",
    "# For example, given the array [2,3,-2,4], \n",
    "# the contiguous subarray [2,3] has the largest product = 6.\n",
    "\n",
    "# 求 数组 [1,20,3,-4,6,-7,10] 乘积最大的子数组"
   ]
  },
  {
   "cell_type": "code",
   "execution_count": null,
   "metadata": {
    "collapsed": true
   },
   "outputs": [],
   "source": [
    "def maxProduct(self, nums):\n",
    "    \"\"\"\n",
    "    :type nums: List[int]\n",
    "    :rtype: int\n",
    "    \"\"\"\n",
    "    res = nums[0] \n",
    "    mx = res\n",
    "    mn = res \n",
    "\n",
    "    for i in range(1, len(nums)):\n",
    "        if(nums[i] < 0):\n",
    "            mx, mn = mn, mx\n",
    "\n",
    "        mx = max(nums[i], mx * nums[i]) ;\n",
    "        mn = min(nums[i], mn * nums[i]) ;\n",
    "        res = max(res, mx)\n",
    "\n",
    "    return res"
   ]
  },
  {
   "cell_type": "code",
   "execution_count": null,
   "metadata": {
    "collapsed": true
   },
   "outputs": [],
   "source": []
  },
  {
   "cell_type": "code",
   "execution_count": 3,
   "metadata": {
    "collapsed": true
   },
   "outputs": [],
   "source": [
    "\n",
    "# 打印杨辉三角形\n",
    "\n",
    "'''\n",
    "[\n",
    "     [1],\n",
    "    [1,1],\n",
    "   [1,2,1],\n",
    "  [1,3,3,1],\n",
    " [1,4,6,4,1]\n",
    "]\n",
    "'''\n",
    "\n",
    "def generate(num_rows):\n",
    "    triangle = []\n",
    "\n",
    "    for row_num in range(num_rows):\n",
    "        # The first and last row elements are always 1.\n",
    "        row = [None for _ in range(row_num+1)]\n",
    "        row[0], row[-1] = 1, 1\n",
    "\n",
    "        # Each triangle element is equal to the sum of the elements\n",
    "        # above-and-to-the-left and above-and-to-the-right.\n",
    "        for j in range(1, len(row)-1):\n",
    "            row[j] = triangle[row_num-1][j-1] + triangle[row_num-1][j]\n",
    "\n",
    "        triangle.append(row)\n",
    "\n",
    "    return triangle\n"
   ]
  }
 ],
 "metadata": {
  "kernelspec": {
   "display_name": "Python [conda root]",
   "language": "python",
   "name": "conda-root-py"
  },
  "language_info": {
   "codemirror_mode": {
    "name": "ipython",
    "version": 3
   },
   "file_extension": ".py",
   "mimetype": "text/x-python",
   "name": "python",
   "nbconvert_exporter": "python",
   "pygments_lexer": "ipython3",
   "version": "3.6.2"
  }
 },
 "nbformat": 4,
 "nbformat_minor": 2
}
