{
 "cells": [
  {
   "cell_type": "markdown",
   "metadata": {},
   "source": [
    "### 函数和变量"
   ]
  },
  {
   "cell_type": "code",
   "execution_count": null,
   "metadata": {
    "collapsed": true
   },
   "outputs": [],
   "source": []
  },
  {
   "cell_type": "code",
   "execution_count": 2,
   "metadata": {
    "collapsed": true
   },
   "outputs": [],
   "source": [
    "\n",
    "# 打印杨辉三角形\n",
    "\n",
    "'''\n",
    "[\n",
    "     [1],\n",
    "    [1,1],\n",
    "   [1,2,1],\n",
    "  [1,3,3,1],\n",
    " [1,4,6,4,1]\n",
    "]\n",
    "'''\n",
    "\n",
    "def generate(num_rows):\n",
    "    triangle = []\n",
    "\n",
    "    for row_num in range(num_rows):\n",
    "        # The first and last row elements are always 1.\n",
    "        row = [None for _ in range(row_num+1)]\n",
    "        row[0], row[-1] = 1, 1\n",
    "\n",
    "        # Each triangle element is equal to the sum of the elements\n",
    "        # above-and-to-the-left and above-and-to-the-right.\n",
    "        for j in range(1, len(row)-1):\n",
    "            row[j] = triangle[row_num-1][j-1] + triangle[row_num-1][j]\n",
    "\n",
    "        triangle.append(row)\n",
    "\n",
    "    return triangle"
   ]
  },
  {
   "cell_type": "code",
   "execution_count": null,
   "metadata": {
    "collapsed": true
   },
   "outputs": [],
   "source": []
  },
  {
   "cell_type": "code",
   "execution_count": 1,
   "metadata": {
    "collapsed": true
   },
   "outputs": [],
   "source": [
    "# 简单的排序\n",
    "\n",
    "l = [1,39,29,2, 9, 7]\n",
    "\n",
    "# 插入排序，\n",
    "def sort_num(l):\n",
    "    pass\n",
    "\n",
    "# 需要返回 \n",
    "\n",
    "# [1, 2, 7, 9, 29, 39]"
   ]
  },
  {
   "cell_type": "code",
   "execution_count": 3,
   "metadata": {
    "collapsed": true
   },
   "outputs": [],
   "source": [
    "\n",
    "\n"
   ]
  },
  {
   "cell_type": "code",
   "execution_count": null,
   "metadata": {
    "collapsed": true
   },
   "outputs": [],
   "source": [
    "# subarray 乘积最大的 子数值，简单版\n",
    "\n"
   ]
  },
  {
   "cell_type": "code",
   "execution_count": 5,
   "metadata": {
    "collapsed": true
   },
   "outputs": [],
   "source": [
    "# subarray 乘积最大的 子数值，有负数版"
   ]
  },
  {
   "cell_type": "code",
   "execution_count": null,
   "metadata": {
    "collapsed": true
   },
   "outputs": [],
   "source": []
  }
 ],
 "metadata": {
  "kernelspec": {
   "display_name": "Python [conda root]",
   "language": "python",
   "name": "conda-root-py"
  },
  "language_info": {
   "codemirror_mode": {
    "name": "ipython",
    "version": 3
   },
   "file_extension": ".py",
   "mimetype": "text/x-python",
   "name": "python",
   "nbconvert_exporter": "python",
   "pygments_lexer": "ipython3",
   "version": "3.6.2"
  }
 },
 "nbformat": 4,
 "nbformat_minor": 2
}
