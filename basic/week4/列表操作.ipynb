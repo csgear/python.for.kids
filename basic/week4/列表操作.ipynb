{
 "cells": [
  {
   "cell_type": "markdown",
   "metadata": {},
   "source": [
    "### 第2周知识回顾\n",
    "\n",
    "* Range发生器\n",
    " * start:end:step\n",
    " \n",
    "* 逻辑和循环\n",
    " * if ... elif ... else\n",
    " * while ... else\n",
    " * for ... else\n",
    " \n",
    " "
   ]
  },
  {
   "cell_type": "markdown",
   "metadata": {},
   "source": [
    "### 第3周\n",
    "\n",
    "* 容器\n",
    " * list (列表） \n",
    " * tuple （元组） --- Week 5 \n",
    " * dictionary （字典） --- Week 5\n",
    "\n",
    "* list 列表\n",
    " * 是Python中最基本的数据结构。序列中的每个元素都分配一个数字 - 它的位置，或索引，第一个索引是0，第二个索引是1，依此类推。列表的数据项不需要具有相同的类型"
   ]
  },
  {
   "cell_type": "code",
   "execution_count": null,
   "metadata": {
    "collapsed": true
   },
   "outputs": [],
   "source": [
    "\n",
    "# 列表可以包含字符串，列表可以包含整数，\n",
    "vocabulary = [\"iteration\", \"selection\", \"control\"]\n",
    "\n",
    "numbers = [17, 123]\n",
    "\n",
    "# 空列表\n",
    "empty = []\n",
    "\n",
    "# 列表可以包含各种数据类型\n",
    "mixedlist = [\"hello\", 2.0, 5*2, [10, 20]]\n",
    "print(numbers)\n",
    "print(mixedlist)\n",
    "\n",
    "# 列表可以包含列表\n",
    "newlist = [ numbers, vocabulary ]\n",
    "print(newlist)"
   ]
  },
  {
   "cell_type": "markdown",
   "metadata": {},
   "source": []
  },
  {
   "cell_type": "code",
   "execution_count": null,
   "metadata": {
    "collapsed": true
   },
   "outputs": [],
   "source": [
    "# len() 函数可以用来返回列表的长度\n",
    "\n",
    "alist =  [\"hello\", 2.0, 5, [10, 20]]\n",
    "print(len(alist))"
   ]
  },
  {
   "cell_type": "code",
   "execution_count": 1,
   "metadata": {},
   "outputs": [
    {
     "name": "stdout",
     "output_type": "stream",
     "text": [
      "87\n",
      "123\n",
      "8398\n",
      "44\n",
      "[10, 20]\n",
      "20\n",
      "20\n"
     ]
    }
   ],
   "source": [
    "# [下标] 可以获取列表中的元素，回忆下介绍字符串时候\n",
    "# 列表和字符串在Python都属于容器的类型\n",
    "# 下标值可以是正数和负数，同时从0开始\n",
    "\n",
    "numbers = [17, 123, 87, 34, 66, 8398, 44]\n",
    "print(numbers[2])\n",
    "print(numbers[9 - 8])\n",
    "print(numbers[-2])\n",
    "print(numbers[len(numbers) - 1])\n",
    "\n",
    "# 列表是可以嵌套的\n",
    "\n",
    "nested = [\"hello\", 2.0, 5, [10, 20]]\n",
    "innerlist = nested[3]\n",
    "print(innerlist)\n",
    "item = innerlist[1]\n",
    "print(item)\n",
    "\n",
    "print(nested[3][1])\n"
   ]
  },
  {
   "cell_type": "markdown",
   "metadata": {},
   "source": [
    "\n",
    "* 问题1 列表只能包含整数类型吗？\n",
    " * (A) False\n",
    " * (B) True\n",
    " * 答案：\n",
    "\n",
    "\n",
    "* 问题2 下面的代码返回列表的长度\n",
    "```\n",
    "alist = [3, 67, \"cat\", [56, 57, \"dog\"], [ ], 3.14, False]\n",
    "print(len(alist))\n",
    "```\n",
    " * (A) 7\n",
    " * (B) 8\n",
    " * 答案：\n",
    " \n",
    " "
   ]
  },
  {
   "cell_type": "markdown",
   "metadata": {},
   "source": [
    "* 问题3 下面的代码返回值是多少\n",
    "\n",
    "```\n",
    "alist = [3, 67, \"cat\", [56, 57, \"dog\"], [ ], 3.14, False]\n",
    "print(alist[2][0])\n",
    "```\n",
    " * (A) 56\n",
    " * (B) c\n",
    " * (C) cat\n",
    " * (D) Error, you cannot have two index values unless you are using slicing.\n",
    " * 答案：\n",
    " \n",
    "* 问题4\n",
    "\n",
    "```\n",
    "alist = [ [4, [True, False], 6, 8], [888, 999] ]\n",
    "if alist[0][1][0]:\n",
    "   print(alist[1][0])\n",
    "else:\n",
    "   print(alist[1][1])\n",
    "```\n",
    " * (A) 6\n",
    " * (B) 8\n",
    " * (C) 888\n",
    " * (D) 999"
   ]
  },
  {
   "cell_type": "markdown",
   "metadata": {},
   "source": [
    "\n"
   ]
  },
  {
   "cell_type": "code",
   "execution_count": null,
   "metadata": {
    "collapsed": true
   },
   "outputs": [],
   "source": []
  },
  {
   "cell_type": "code",
   "execution_count": null,
   "metadata": {
    "collapsed": true
   },
   "outputs": [],
   "source": []
  },
  {
   "cell_type": "code",
   "execution_count": 3,
   "metadata": {},
   "outputs": [
    {
     "name": "stdout",
     "output_type": "stream",
     "text": [
      "[1, 2, 3, 4]\n",
      "['apple', 'orange', 'banana', 'cherry', 6, 7, 8, 9]\n",
      "[0, 0, 0, 0]\n",
      "[1, 2, ['hello', 'goodbye'], 1, 2, ['hello', 'goodbye']]\n",
      "[76, 76]\n",
      "[76]\n"
     ]
    }
   ],
   "source": [
    "# 列表的拼接和生成\n",
    "\n",
    "fruit = [\"apple\", \"orange\", \"banana\", \"cherry\"]\n",
    "print([1, 2] + [3, 4])\n",
    "print(fruit + [6, 7, 8, 9])\n",
    "\n",
    "print([0] * 4)\n",
    "print([1, 2, [\"hello\", \"goodbye\"]] * 2)\n",
    "\n",
    "# 76, 92.3, “hello”, True, 4, 76\n",
    "\n",
    "l0 = []\n",
    "l0 += [76]\n",
    "print(l0)\n",
    "\n",
    "l1 = []\n",
    "l1.append(76)\n",
    "print(l1)\n"
   ]
  },
  {
   "cell_type": "code",
   "execution_count": null,
   "metadata": {
    "collapsed": true
   },
   "outputs": [],
   "source": []
  },
  {
   "cell_type": "code",
   "execution_count": null,
   "metadata": {
    "collapsed": true
   },
   "outputs": [],
   "source": []
  },
  {
   "cell_type": "code",
   "execution_count": null,
   "metadata": {
    "collapsed": true
   },
   "outputs": [],
   "source": [
    "# 列表推导\n",
    "# 问题的提出 快速简单的生成一个列表 对原有的列表进行简单的转换\n",
    "#list comprehension\n",
    "\n",
    "mylist = [1,2,3,4,5]\n",
    "\n",
    "yourlist = [item ** 2 for item in mylist]\n",
    "\n",
    "print(yourlist)"
   ]
  },
  {
   "cell_type": "markdown",
   "metadata": {},
   "source": [
    "\n",
    "* 习题7，下面代码的输出是：\n",
    "```\n",
    "alist = [4,2,8,6,5]\n",
    "blist = [num*2 for num in alist if num%2==1]\n",
    "print(blist)\n",
    "```\n",
    " * (A) [4,2,8,6,5]\n",
    " * (B) [8,4,16,12,10]\n",
    " * (C) 10\n",
    " * (D) [10]\n",
    " * 答案 \n"
   ]
  },
  {
   "cell_type": "code",
   "execution_count": null,
   "metadata": {
    "collapsed": true
   },
   "outputs": [],
   "source": [
    "# split & join  \n",
    "# split是把一个字符串拆成列表，join是把一个列表拼接成字符串\n",
    "\n"
   ]
  },
  {
   "cell_type": "code",
   "execution_count": null,
   "metadata": {
    "collapsed": true
   },
   "outputs": [],
   "source": []
  },
  {
   "cell_type": "markdown",
   "metadata": {},
   "source": [
    "### 列表推导\n",
    "\n",
    "问题的提出\n",
    "快速简单的生成一个列表\n",
    "对原有的列表进行简单的转换\n",
    "一维列表推导\n",
    "二维列表推导以及注意事项"
   ]
  },
  {
   "cell_type": "markdown",
   "metadata": {},
   "source": [
    "### 编程3 \n",
    "\n",
    "Create a list containing 100 random integers between 0 and 1000 (use iteration, append, and the random module). Write a function called average that will take the list as a parameter and return the average.\n",
    "\n",
    "### 编程4\n",
    "\n",
    "Sum all the elements in a list up to but not including the first even number.\n"
   ]
  },
  {
   "cell_type": "code",
   "execution_count": null,
   "metadata": {
    "collapsed": true
   },
   "outputs": [],
   "source": []
  },
  {
   "cell_type": "code",
   "execution_count": 2,
   "metadata": {},
   "outputs": [
    {
     "name": "stdout",
     "output_type": "stream",
     "text": [
      "8063599\n"
     ]
    }
   ],
   "source": [
    "week = 13\n",
    "day = 2\n",
    "hour = 7\n",
    "minute = 53\n",
    "second = 19\n",
    "t_s = (((week*7+day)*24+hour)*60+minute)*60+second\n",
    "\n",
    "print(t_s)"
   ]
  },
  {
   "cell_type": "code",
   "execution_count": 3,
   "metadata": {},
   "outputs": [
    {
     "data": {
      "text/plain": [
       "[19, 53, 7, 2, 13]"
      ]
     },
     "execution_count": 3,
     "metadata": {},
     "output_type": "execute_result"
    }
   ],
   "source": [
    "t_s = 8063599\n",
    "fields = []\n",
    "for b in 60, 60, 24, 7:\n",
    "    t_s, f = divmod(t_s, b)\n",
    "    fields.append(f)\n",
    "fields.append(t_s)\n",
    "fields\n"
   ]
  },
  {
   "cell_type": "code",
   "execution_count": null,
   "metadata": {
    "collapsed": true
   },
   "outputs": [],
   "source": []
  }
 ],
 "metadata": {
  "kernelspec": {
   "display_name": "Python [conda env:tensorflow]",
   "language": "python",
   "name": "conda-env-tensorflow-py"
  },
  "language_info": {
   "codemirror_mode": {
    "name": "ipython",
    "version": 3
   },
   "file_extension": ".py",
   "mimetype": "text/x-python",
   "name": "python",
   "nbconvert_exporter": "python",
   "pygments_lexer": "ipython3",
   "version": "3.6.2"
  }
 },
 "nbformat": 4,
 "nbformat_minor": 2
}
