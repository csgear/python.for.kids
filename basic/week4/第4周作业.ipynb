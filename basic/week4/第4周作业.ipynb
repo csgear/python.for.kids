{
 "cells": [
  {
   "cell_type": "markdown",
   "metadata": {},
   "source": [
    "### 第4周作业\n",
    "\n",
    "* countAll\n",
    " * 例如  “banana”， 返回 {\"a\":3, \"b\":1, \"n\":2}"
   ]
  },
  {
   "cell_type": "code",
   "execution_count": 9,
   "metadata": {},
   "outputs": [],
   "source": [
    "from collections import Counter\n",
    "\n",
    "class CounterStatistics:\n",
    "    def __init__(self, raw_counter: Counter):\n",
    "        \"\"\"\n",
    "        \n",
    "        \"\"\"\n",
    "        self.raw_counter = raw_counter\n",
    "        self.mean = self.computer_mean()\n",
    "        self.stddev = self.computer_stddev()\n",
    "    \n",
    "    def computer_mean(self):\n",
    "        \"\"\"\n",
    "        computer the mean value\n",
    "        \"\"\"\n",
    "        total,count = 0, 0\n",
    "        for value, frequency in self.raw_counter.items():\n",
    "            total += value * frequency \n",
    "            count += frequency \n",
    "        return total / count \n",
    "    \n",
    "    def computer_stddev(self):\n",
    "        pass"
   ]
  },
  {
   "cell_type": "code",
   "execution_count": 10,
   "metadata": {},
   "outputs": [],
   "source": [
    "l = [1,1,12,3,2]\n",
    "data = Counter(l) \n",
    "stats = CounterStatistics(data)"
   ]
  },
  {
   "cell_type": "code",
   "execution_count": 11,
   "metadata": {},
   "outputs": [
    {
     "name": "stdout",
     "output_type": "stream",
     "text": [
      "3.8\n"
     ]
    }
   ],
   "source": [
    "print(stats.mean)"
   ]
  },
  {
   "cell_type": "code",
   "execution_count": null,
   "metadata": {
    "collapsed": true
   },
   "outputs": [],
   "source": []
  }
 ],
 "metadata": {
  "kernelspec": {
   "display_name": "Python [conda env:tensorflow]",
   "language": "python",
   "name": "conda-env-tensorflow-py"
  },
  "language_info": {
   "codemirror_mode": {
    "name": "ipython",
    "version": 3
   },
   "file_extension": ".py",
   "mimetype": "text/x-python",
   "name": "python",
   "nbconvert_exporter": "python",
   "pygments_lexer": "ipython3",
   "version": "3.6.2"
  }
 },
 "nbformat": 4,
 "nbformat_minor": 2
}
