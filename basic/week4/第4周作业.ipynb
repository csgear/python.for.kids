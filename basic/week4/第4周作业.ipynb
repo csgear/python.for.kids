{
 "cells": [
  {
   "cell_type": "code",
   "execution_count": 37,
   "metadata": {},
   "outputs": [
    {
     "name": "stdout",
     "output_type": "stream",
     "text": [
      "52844\n",
      "[753, 432, 992, 441, 491, 582, 463, 647, 465, 492, 929, 230, 810, 446, 35, 453, 874, 803, 916, 761, 384, 686, 106, 793, 319, 743, 824, 745, 882, 304, 787, 112, 32, 438, 306, 964, 339, 500, 122, 710, 19, 155, 176, 273, 875, 297, 201, 879, 620, 464, 721, 779, 708, 64, 622, 672, 496, 579, 609, 958, 919, 664, 609, 788, 223, 626, 923, 647, 803, 548, 56, 37, 932, 642, 660, 152, 607, 209, 818, 443, 134, 358, 924, 765, 794, 104, 419, 404, 990, 525, 733, 118, 621, 893, 183, 857, 529, 745, 643, 161, 887]\n",
      "55371\n",
      "548.2277227722773\n"
     ]
    }
   ],
   "source": [
    "\n",
    "import random \n",
    "\n",
    "# 定义函数\n",
    "def sumlist(l):\n",
    "    result = 0\n",
    "    for x in l:\n",
    "        result += x\n",
    "    return result\n",
    "\n",
    "print(sumlist(ls))\n",
    "\n",
    "ls = [1,2,3,4,5]\n",
    "\n",
    "def genlist():\n",
    "    return\n",
    "\n",
    "def average(l):\n",
    "    return \n",
    "\n",
    "ls = [] \n",
    "\n",
    "# ls 有100个随机数\n",
    "\n",
    "for x in range(101):\n",
    "    ls.append(random.randint(1,1001))\n",
    "\n",
    "print(ls)\n",
    "\n",
    "# 算100个随机数的和\n",
    "\n",
    "result = 0 \n",
    "\n",
    "for x in ls:\n",
    "    result += x\n",
    "\n",
    "print(result)\n",
    "\n",
    "# 算100个数字的平均\n",
    "\n",
    "print(result / len(ls))\n",
    "\n"
   ]
  },
  {
   "cell_type": "markdown",
   "metadata": {},
   "source": [
    "### 第4周作业\n",
    "\n",
    "* countAll\n",
    " * 例如  “banana”， 返回 {\"a\":3, \"b\":1, \"n\":2}"
   ]
  },
  {
   "cell_type": "code",
   "execution_count": 36,
   "metadata": {
    "collapsed": true
   },
   "outputs": [],
   "source": [
    "from collections import Counter\n",
    "\n",
    "class CounterStatistics:\n",
    "    def __init__(self, raw_counter: Counter):\n",
    "        \"\"\"\n",
    "        \n",
    "        \"\"\"\n",
    "        self.raw_counter = raw_counter\n",
    "        self.mean = self.computer_mean()\n",
    "        self.stddev = self.computer_stddev()\n",
    "    \n",
    "    def computer_mean(self):\n",
    "        \"\"\"\n",
    "        computer the mean value\n",
    "        \"\"\"\n",
    "        total,count = 0, 0\n",
    "        for value, frequency in self.raw_counter.items():\n",
    "            total += value * frequency \n",
    "            count += frequency \n",
    "        return total / count \n",
    "    \n",
    "    def computer_stddev(self):\n",
    "        pass"
   ]
  },
  {
   "cell_type": "code",
   "execution_count": 27,
   "metadata": {
    "collapsed": true
   },
   "outputs": [],
   "source": [
    "l = [1,1,12,3,2]\n",
    "data = Counter(l) \n",
    "stats = CounterStatistics(data)"
   ]
  },
  {
   "cell_type": "code",
   "execution_count": 11,
   "metadata": {},
   "outputs": [
    {
     "name": "stdout",
     "output_type": "stream",
     "text": [
      "3.8\n"
     ]
    }
   ],
   "source": [
    "print(stats.mean)"
   ]
  },
  {
   "cell_type": "code",
   "execution_count": null,
   "metadata": {
    "collapsed": true
   },
   "outputs": [],
   "source": []
  }
 ],
 "metadata": {
  "kernelspec": {
   "display_name": "Python [conda env:tensorflow]",
   "language": "python",
   "name": "conda-env-tensorflow-py"
  },
  "language_info": {
   "codemirror_mode": {
    "name": "ipython",
    "version": 3
   },
   "file_extension": ".py",
   "mimetype": "text/x-python",
   "name": "python",
   "nbconvert_exporter": "python",
   "pygments_lexer": "ipython3",
   "version": "3.6.2"
  }
 },
 "nbformat": 4,
 "nbformat_minor": 2
}
