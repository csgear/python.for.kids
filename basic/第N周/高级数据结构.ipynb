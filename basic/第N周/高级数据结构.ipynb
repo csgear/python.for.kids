{
 "cells": [
  {
   "cell_type": "markdown",
   "metadata": {},
   "source": [
    "### collections包中包含的数据类型\n",
    "\n",
    "* defaultdict\n",
    "* deque\n",
    "* Counter\n",
    "* OrderedDict"
   ]
  },
  {
   "cell_type": "code",
   "execution_count": 2,
   "metadata": {
    "collapsed": true
   },
   "outputs": [],
   "source": [
    "from collections import defaultdict"
   ]
  },
  {
   "cell_type": "code",
   "execution_count": 12,
   "metadata": {},
   "outputs": [
    {
     "name": "stdout",
     "output_type": "stream",
     "text": [
      "dict_items([('yellow', [1, 3]), ('blue', [2, 4]), ('red', [1])])\n"
     ]
    }
   ],
   "source": [
    "### 看下defaultdict的使用方式\n",
    "\n",
    "\n",
    "### (string, list) 映射关系，数据类型用list\n",
    "\n",
    "s = [('yellow', 1), ('blue', 2), ('yellow', 3), ('blue', 4), ('red', 1)]\n",
    "\n",
    "dmap = defaultdict(list)\n",
    "\n",
    "for k,v in s:\n",
    "    dmap[k].append(v)\n",
    "\n",
    "print(dmap.items())"
   ]
  },
  {
   "cell_type": "code",
   "execution_count": 13,
   "metadata": {},
   "outputs": [
    {
     "name": "stdout",
     "output_type": "stream",
     "text": [
      "dict_items([('yellow', {1, 3}), ('blue', {2, 4}), ('red', {1})])\n"
     ]
    }
   ],
   "source": [
    "### (string, set) 映射关系，数据类型用set\n",
    "\n",
    "s = [('yellow', 1), ('blue', 2), ('yellow', 3), ('blue', 4), ('red', 1)]\n",
    "\n",
    "dmap = defaultdict(set)\n",
    "\n",
    "for k,v in s:\n",
    "    dmap[k].add(v)\n",
    "\n",
    "print(dmap.items())"
   ]
  },
  {
   "cell_type": "code",
   "execution_count": 14,
   "metadata": {},
   "outputs": [
    {
     "name": "stdout",
     "output_type": "stream",
     "text": [
      "dict_items([('m', 1), ('i', 4), ('s', 4), ('p', 2)])\n"
     ]
    }
   ],
   "source": [
    "### 统计字符串中字符的出现次数\n",
    "\n",
    "s = \"mississippi\"\n",
    "dmap = defaultdict(int)\n",
    "\n",
    "\n",
    "for x in s:\n",
    "    dmap[x] += 1\n",
    "\n",
    "print(dmap.items())"
   ]
  },
  {
   "cell_type": "code",
   "execution_count": null,
   "metadata": {
    "collapsed": true
   },
   "outputs": [],
   "source": []
  },
  {
   "cell_type": "code",
   "execution_count": null,
   "metadata": {
    "collapsed": true
   },
   "outputs": [],
   "source": []
  }
 ],
 "metadata": {
  "kernelspec": {
   "display_name": "Python [conda env:tensorflow]",
   "language": "python",
   "name": "conda-env-tensorflow-py"
  },
  "language_info": {
   "codemirror_mode": {
    "name": "ipython",
    "version": 3
   },
   "file_extension": ".py",
   "mimetype": "text/x-python",
   "name": "python",
   "nbconvert_exporter": "python",
   "pygments_lexer": "ipython3",
   "version": "3.6.2"
  }
 },
 "nbformat": 4,
 "nbformat_minor": 2
}
