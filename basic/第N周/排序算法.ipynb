{
 "cells": [
  {
   "cell_type": "markdown",
   "metadata": {},
   "source": [
    "### 排序算法"
   ]
  },
  {
   "cell_type": "code",
   "execution_count": 2,
   "metadata": {},
   "outputs": [],
   "source": [
    "### 选择排序\n",
    "\n",
    "def selectSort(L):\n",
    "  for i in range(len(L)):\n",
    "    print(L)\n",
    "    minIndex = i\n",
    "    minValue = L[i]\n",
    "    j = i + 1\n",
    "    while j < len(L):\n",
    "        if minValue > L[j]:\n",
    "            minIndex = j\n",
    "            minValue = L[j]  \n",
    "        j +=1\n",
    "    temp = L[i]\n",
    "    L[i] = L[minIndex]\n",
    "    L[minIndex] = temp"
   ]
  },
  {
   "cell_type": "code",
   "execution_count": 3,
   "metadata": {},
   "outputs": [
    {
     "name": "stdout",
     "output_type": "stream",
     "text": [
      "[12, 39, 3, 4, 1]\n",
      "[1, 39, 3, 4, 12]\n",
      "[1, 3, 39, 4, 12]\n",
      "[1, 3, 4, 39, 12]\n",
      "[1, 3, 4, 12, 39]\n"
     ]
    }
   ],
   "source": [
    "selectSort([12,39,3,4,1])"
   ]
  },
  {
   "cell_type": "code",
   "execution_count": null,
   "metadata": {
    "collapsed": true
   },
   "outputs": [],
   "source": []
  }
 ],
 "metadata": {
  "kernelspec": {
   "display_name": "Python [conda env:tensorflow]",
   "language": "python",
   "name": "conda-env-tensorflow-py"
  },
  "language_info": {
   "codemirror_mode": {
    "name": "ipython",
    "version": 3
   },
   "file_extension": ".py",
   "mimetype": "text/x-python",
   "name": "python",
   "nbconvert_exporter": "python",
   "pygments_lexer": "ipython3",
   "version": "3.6.2"
  }
 },
 "nbformat": 4,
 "nbformat_minor": 2
}
